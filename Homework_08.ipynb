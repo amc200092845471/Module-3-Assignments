{
 "cells": [
  {
   "cell_type": "markdown",
   "metadata": {},
   "source": [
    "## Homework 08: Classification\n",
    "\n",
    "**Due:** Midnight on July 6th, BUT no late points will be charged if you get it in by the last late deadline. \n",
    "\n",
    "### Overview\n",
    "\n",
    "In this final homework before starting our course project, we will introduce the essential machine learning paradigm of **classification**. We will work with the **UCI Adult** dataset. This is a binary classification task.\n",
    "\n",
    "As we’ve discussed in this week’s lessons, the classification workflow is similar to what we’ve done for regression, with a few key differences:\n",
    "- We use `StratifiedKFold` instead of plain `KFold` so that every fold keeps the original class proportions.\n",
    "- We use classification metrics (e.g., accuracy, precision, recall, F1-score for binary classification) instead of regression metrics.\n",
    "- We could explore misclassified instances through a confusion matrix (though we will not do that in this homework).\n",
    "\n",
    "For this assignment, you’ll build a gradient boosting classification using `HistGradientBoostingClassifier` (HGBC) and explore ways of tuning the hyperparameters, including using the technique of early stopping, which basically avoiding have to tune the number of estimators (called `max_iter` in HGBC). \n",
    "\n",
    "HGBC has many advantages, which we explain below. \n",
    "\n",
    "\n",
    "### Grading\n",
    "\n",
    "There are 7 graded problems, each worth 7 points, and you get 1 point free if you complete the assignment. "
   ]
  },
  {
   "cell_type": "code",
   "execution_count": 48,
   "metadata": {},
   "outputs": [],
   "source": [
    "# General utilities\n",
    "import os\n",
    "import io\n",
    "import time\n",
    "import zipfile\n",
    "import requests\n",
    "from collections import Counter\n",
    "\n",
    "# Data handling and visualization\n",
    "import numpy as np\n",
    "import pandas as pd\n",
    "import matplotlib.pyplot as plt\n",
    "from tqdm import tqdm\n",
    "from IPython.display import display\n",
    " \n",
    "# Data source\n",
    "from sklearn.datasets import fetch_openml\n",
    "\n",
    " \n",
    "# scikit-learn core tools \n",
    "from sklearn.model_selection import (\n",
    "    train_test_split,\n",
    "    cross_val_score,\n",
    "    StratifiedKFold,\n",
    "    RandomizedSearchCV\n",
    ")\n",
    "\n",
    "from sklearn.pipeline import Pipeline\n",
    "from sklearn.compose import ColumnTransformer\n",
    "from sklearn.preprocessing import OrdinalEncoder\n",
    "\n",
    " \n",
    "# Import model \n",
    "from sklearn.ensemble import HistGradientBoostingClassifier\n",
    " \n",
    "# Metrics\n",
    "from sklearn.metrics import balanced_accuracy_score, classification_report\n",
    " \n",
    "# Distributions for random search\n",
    "from scipy.stats import loguniform, randint, uniform\n",
    "\n",
    "# pandas dtypes helpers\n",
    "from pandas.api.types import is_numeric_dtype, is_categorical_dtype\n",
    "from pandas import CategoricalDtype\n",
    "\n",
    "# Optuna Hyperparameter Search tool    (may need to be installed)\n",
    "import optuna\n",
    "\n",
    "\n",
    "# Misc\n",
    "\n",
    "random_seed = 42\n",
    "\n",
    "def format_hms(seconds):\n",
    "    return time.strftime(\"%H:%M:%S\", time.gmtime(seconds))\n",
    "\n"
   ]
  },
  {
   "cell_type": "markdown",
   "metadata": {},
   "source": [
    "### Prelude 1: Load and Preprocess the UCI Adult Income Dataset\n",
    "\n",
    "- Load the dataset from sklearn\n",
    "- Preliminary EDA\n",
    "- Feature Engineering "
   ]
  },
  {
   "cell_type": "code",
   "execution_count": 49,
   "metadata": {},
   "outputs": [
    {
     "name": "stdout",
     "output_type": "stream",
     "text": [
      "<class 'pandas.core.frame.DataFrame'>\n",
      "RangeIndex: 48842 entries, 0 to 48841\n",
      "Data columns (total 15 columns):\n",
      " #   Column          Non-Null Count  Dtype   \n",
      "---  ------          --------------  -----   \n",
      " 0   age             48842 non-null  int64   \n",
      " 1   workclass       46043 non-null  category\n",
      " 2   fnlwgt          48842 non-null  int64   \n",
      " 3   education       48842 non-null  category\n",
      " 4   education-num   48842 non-null  int64   \n",
      " 5   marital-status  48842 non-null  category\n",
      " 6   occupation      46033 non-null  category\n",
      " 7   relationship    48842 non-null  category\n",
      " 8   race            48842 non-null  category\n",
      " 9   sex             48842 non-null  category\n",
      " 10  capital-gain    48842 non-null  int64   \n",
      " 11  capital-loss    48842 non-null  int64   \n",
      " 12  hours-per-week  48842 non-null  int64   \n",
      " 13  native-country  47985 non-null  category\n",
      " 14  class           48842 non-null  category\n",
      "dtypes: category(9), int64(6)\n",
      "memory usage: 2.7 MB\n"
     ]
    }
   ],
   "source": [
    "# Load and clean\n",
    "df = fetch_openml(name='adult', version=2, as_frame=True).frame\n",
    "\n",
    "df.replace(\"?\", np.nan, inplace=True)            # Some datasets use ? instead of Nan for missing data\n",
    "\n",
    "df.info()"
   ]
  },
  {
   "cell_type": "markdown",
   "metadata": {},
   "source": [
    "#### Check: Is the dataset imbalanced?"
   ]
  },
  {
   "cell_type": "code",
   "execution_count": 50,
   "metadata": {},
   "outputs": [
    {
     "name": "stdout",
     "output_type": "stream",
     "text": [
      "class\n",
      "<=50K    0.760718\n",
      ">50K     0.239282\n",
      "Name: proportion, dtype: float64\n"
     ]
    }
   ],
   "source": [
    "print(df['class'].value_counts(normalize=True))\n",
    "\n",
    "#imbalanced dataset is one which the classes you are trying to predict are not represented equally. Imbalanced datasets create biased learning, misleading metrics, and generalization issues."
   ]
  },
  {
   "cell_type": "markdown",
   "metadata": {},
   "source": [
    "**YES:** It looks like this dataset is somewhat imbalanced. Therefore, we will \n",
    "1. Tell the model to compensate during training by setting `class_weight='balanced'` when defining the model;\n",
    "2. Evaluate it `balanced_accuracy` instead of `accuracy` and with class-aware metrics (precision, recall, F1); and\n",
    "3. [Optional] Adjust the probability threshold instead of relying on raw accuracy alone after examining the precision-recall trade-off you observe at 0.5.\n",
    "    "
   ]
  },
  {
   "cell_type": "markdown",
   "metadata": {},
   "source": [
    "### Feature Engineering\n",
    "\n",
    "Based on the considerations in **Appendix One**, we'll make the following changes to the dataset to facilitate training:\n",
    "\n",
    "\n",
    "1. Drop `fnlwgt` and `education`.   \n",
    "3. Replace `capital-gain` and `capital-loss` by their difference `capital_net` and add a log-scaled version `capital_net_log`.\n"
   ]
  },
  {
   "cell_type": "code",
   "execution_count": 51,
   "metadata": {},
   "outputs": [
    {
     "name": "stdout",
     "output_type": "stream",
     "text": [
      "<class 'pandas.core.frame.DataFrame'>\n",
      "RangeIndex: 48842 entries, 0 to 48841\n",
      "Data columns (total 13 columns):\n",
      " #   Column           Non-Null Count  Dtype   \n",
      "---  ------           --------------  -----   \n",
      " 0   age              48842 non-null  int64   \n",
      " 1   workclass        46043 non-null  category\n",
      " 2   education-num    48842 non-null  int64   \n",
      " 3   marital-status   48842 non-null  category\n",
      " 4   occupation       46033 non-null  category\n",
      " 5   relationship     48842 non-null  category\n",
      " 6   race             48842 non-null  category\n",
      " 7   sex              48842 non-null  category\n",
      " 8   hours-per-week   48842 non-null  int64   \n",
      " 9   native-country   47985 non-null  category\n",
      " 10  class            48842 non-null  category\n",
      " 11  capital_net      48842 non-null  int64   \n",
      " 12  capital_net_log  48842 non-null  float64 \n",
      "dtypes: category(8), float64(1), int64(4)\n",
      "memory usage: 2.2 MB\n"
     ]
    }
   ],
   "source": [
    "# Drop the survey-weight column\n",
    "df_eng = df.drop(columns=[\"fnlwgt\"])\n",
    "\n",
    "# Keep only the ordinal education feature\n",
    "df_eng = df_eng.drop(columns=[\"education\"])      # retain 'education-num'\n",
    "\n",
    "# Combine capital gains and losses, add a log-scaled variant\n",
    "df_eng[\"capital_net\"]     = df_eng[\"capital-gain\"] - df_eng[\"capital-loss\"]\n",
    "df_eng[\"capital_net_log\"] = np.log1p(df_eng[\"capital_net\"].clip(lower=0))\n",
    "df_eng = df_eng.drop(columns=[\"capital-gain\", \"capital-loss\"])\n",
    "\n",
    "# check\n",
    "df_eng.info()"
   ]
  },
  {
   "cell_type": "markdown",
   "metadata": {},
   "source": [
    "#### Separate target and split\n",
    "\n",
    "Create the feature set `X` and the target set `y` (using `class` as the target) and split the dataset into 80% training and 20% testing sets, making sure to stratify."
   ]
  },
  {
   "cell_type": "code",
   "execution_count": 52,
   "metadata": {},
   "outputs": [
    {
     "name": "stdout",
     "output_type": "stream",
     "text": [
      "Train: (39073, 12) (39073,)\n",
      "Test : (9769, 12) (9769,)\n"
     ]
    }
   ],
   "source": [
    "\n",
    "X = df_eng.drop(columns=[\"class\"])\n",
    "y = (df_eng[\"class\"] == \">50K\").astype(int)\n",
    "\n",
    "# Split (with stratification)\n",
    "X_train, X_test, y_train, y_test = train_test_split(\n",
    "    X, y,\n",
    "    test_size=0.2,\n",
    "    random_state=random_seed,\n",
    "    stratify=y                           # So same proportion of classes in train and test sets\n",
    ")\n",
    "\n",
    "#stratify parameter ensures taht your train and test sets ahve the same proportion of class labels (this is used to preserve class balance) if stratify=None it would be purely random sampling\n",
    "\n",
    "print(\"Train:\", X_train.shape, y_train.shape)\n",
    "print(\"Test :\", X_test.shape,  y_test.shape)"
   ]
  },
  {
   "cell_type": "markdown",
   "metadata": {},
   "source": [
    "### Prelude 2: Create a data pipeline and the `HistGradientBoostingClassifier` model\n",
    "\n",
    "Histogram-based gradient boosting improves on the standard version by:\n",
    "\n",
    "* **Histogram splits:** bins each feature into ≤ `max_bins` quantiles (i.e., each bin is approximately the same size) and tests splits only between bins, slashing compute time and scaling to large data sets. Default for `max_bins` = 255. \n",
    "* **Native NaN handling:** treats missing values as their own bin—no imputation needed.\n",
    "* **Native Categorical Support**: accepts integer-encoded categories directly and tests “category c vs. all others” splits, eliminating one-hot blow-ups and fake orderings.\n",
    "* **Built-in early stopping:** stops training after no improvement in validation loss after `n_iter_no_change` rounds. `tol` defines \"improvement\" (default is 1e-7). \n",
    "* **Leaf shrinkage:** adds `l2_regularization`, which ridge-shrinks each leaf value (without changing tree shape) so tiny, noisy leaves have less effect.\n",
    "\n",
    ">**Summary:**  Histogram-based GB trades a tiny approximation error (binning) for a **huge speed-up** and adds extra conveniences, making it the preferred choice for large tabular data sets. Tuning workflow relies on **Early stopping** to stop training before overfitting occurs. "
   ]
  },
  {
   "cell_type": "code",
   "execution_count": 53,
   "metadata": {},
   "outputs": [],
   "source": [
    "# Define a baseline model \n",
    "\n",
    "HGBC_model = HistGradientBoostingClassifier(\n",
    "    # tree structure and learning rate\n",
    "    learning_rate=0.1,            # These 5 parameters are at defaults for our baseline training in Problem 1              \n",
    "    max_leaf_nodes=31,            # but will be tuned by randomized search in Problem 2 and Optuna in Problem 3               \n",
    "    max_depth=None,               \n",
    "    min_samples_leaf=20,          \n",
    "    l2_regularization=0.0,        \n",
    "\n",
    "    # bins and iteration\n",
    "    max_bins=255,                 # default\n",
    "    max_iter=500,                 # high enough for early stopping\n",
    "    early_stopping=True,\n",
    "    n_iter_no_change=20,\n",
    "    validation_fraction=0.2,      # 20% monitored for early stopping\n",
    "    tol=1e-7,                     # default tolerance for validation improvement\n",
    "\n",
    "    # class imbalance\n",
    "    class_weight=\"balanced\",\n",
    "\n",
    "    random_state=random_seed,\n",
    "    verbose=0\n",
    ")\n"
   ]
  },
  {
   "cell_type": "markdown",
   "metadata": {},
   "source": [
    "### Create a pipeline appropriate for HGBC \n",
    "\n",
    "**Why use a `Pipeline` instead of encoding in the dataset first?**\n",
    "\n",
    "* **Avoid data leakage.** In each CV fold, the `OrdinalEncoder` is refit only on that fold’s training data, so the validation split never influences the encoder.\n",
    "* **Single, reusable object.** The pipeline bundles preprocessing + model, letting you call `fit`/`predict` on raw data anywhere (CV, Optuna, production) with identical behavior.\n",
    "* **Compatible with search tools.** `cross_validate`, `GridSearchCV`, and Optuna expect an estimator that can be cloned and refit; a pipeline meets that requirement automatically.\n",
    "\n",
    "Put simply, the pipeline gives you leak-free evaluation and portable, hassle-free tuning without extra code.\n"
   ]
  },
  {
   "cell_type": "code",
   "execution_count": 54,
   "metadata": {},
   "outputs": [],
   "source": [
    "enc = OrdinalEncoder(\n",
    "    handle_unknown=\"use_encoded_value\",   # Allow unseen categories during transform\n",
    "    unknown_value=-1,                     # Code for unseen categories\n",
    "    encoded_missing_value=-2,             # Code for missing values (NaN)\n",
    "    dtype=np.int64                        # Needed for HistGradientBoostingClassifier\n",
    ")\n",
    "\n",
    "#Notes:\n",
    "   #OrdinalEncoder is a tool to turn categorical (non-numeric) features into integers. The context here is that it will only perform to the 80% say the training set and the 20% is left out which is what we want.\n",
    "   #Because if you fit the encoder on the full dataset youd be using knowledge \n",
    "\n",
    "# Categorical features\n",
    "cat_cols = X.select_dtypes(exclude=[\"number\"]).columns.tolist()\n",
    "\n",
    "# Numeric features (everything that isn’t object / category)\n",
    "num_cols = X.select_dtypes(include=[\"number\"]).columns.tolist()\n",
    "\n",
    "preprocess = ColumnTransformer(\n",
    "    [(\"cat\", enc, cat_cols),\n",
    "     (\"num\", \"passthrough\", num_cols)]\n",
    ")\n",
    "\n",
    "pipelined_model = Pipeline([\n",
    "    (\"prep\", preprocess),\n",
    "    (\"gb\",   HGBC_model)\n",
    "])\n",
    "\n",
    "#The pipeline is used to chain together a sequence of data transforms and final estimator into one object."
   ]
  },
  {
   "cell_type": "markdown",
   "metadata": {},
   "source": [
    "## Problem 1: Baseline Cross-Validation with F1\n",
    "\n",
    "In this problem, you will run a baseline cross-validation evaluation of your `HistGradientBoostingClassifier` pipeline, using `HGBC_model` defined above. \n",
    "\n",
    "**Background:**\n",
    "\n",
    "* Since the Adult dataset is imbalanced (about 24% positives, 76% negatives), accuracy alone is not reliable.\n",
    "* We will use the **F1 score** as the evaluation metric, since it balances precision (avoiding false positives) and recall (avoiding false negatives) in a single measure. This is a fairer metric for imbalanced classification, where both types of error matter.\n",
    "* We will apply **5-fold stratified cross-validation** to make sure each fold has the same proportion of the classes as the original dataset.\n",
    "* Repeated cross-validation is optional and not required here, because the Adult dataset is large and `HistGradientBoostingClassifier` is robust to small sampling differences. \n",
    "\n",
    "**Instructions:**\n",
    "\n",
    "1. Set up a `StratifiedKFold` cross-validation object with 5 splits, shuffling enabled, and `random_state=random_seed`.\n",
    "2. Use `cross_val_score` to estimate the mean F1 score and its standard deviation across the folds.\n",
    "3. Print out the mean and standard deviation of the F1 score, rounded to 4 decimal places.\n",
    "4. Answer the graded question.\n"
   ]
  },
  {
   "cell_type": "code",
   "execution_count": 55,
   "metadata": {},
   "outputs": [
    {
     "name": "stdout",
     "output_type": "stream",
     "text": [
      "Mean F1 score:  0.7123\n",
      "Std of F1 score: 0.0043\n"
     ]
    }
   ],
   "source": [
    "# Your code here\n",
    "    #cross_val_score is used to evaluate a models performance via cross validation\n",
    "skf = StratifiedKFold(n_splits=5,shuffle=True,random_state=random_seed) \n",
    "scores = cross_val_score(estimator=pipelined_model,X=X,y=y,cv=skf,scoring='f1',n_jobs=-1) #in this case n_jobs=-1 which means use all available CPU cores\n",
    "\n",
    "#Compute the mean and std and print for up to 4 decimals\n",
    "\n",
    "mean_f1 = scores.mean()\n",
    "std_f1 = scores.std()\n",
    "\n",
    "print(f\"Mean F1 score:  {mean_f1:.4f}\")\n",
    "print(f\"Std of F1 score: {std_f1:.4f}\")\n",
    "\n",
    "\n",
    "\n"
   ]
  },
  {
   "cell_type": "markdown",
   "metadata": {},
   "source": [
    "### Problem 1 Graded Answer\n",
    "\n",
    "Set `a1` to the mean F1 score of the baseline model. "
   ]
  },
  {
   "cell_type": "code",
   "execution_count": 56,
   "metadata": {},
   "outputs": [],
   "source": [
    " # Your answer here\n",
    "\n",
    "a1 = mean_f1                     # replace 0 with an expression"
   ]
  },
  {
   "cell_type": "code",
   "execution_count": 57,
   "metadata": {},
   "outputs": [
    {
     "name": "stdout",
     "output_type": "stream",
     "text": [
      "a1 = 0.7123\n"
     ]
    }
   ],
   "source": [
    "# DO NOT change this cell in any way\n",
    "\n",
    "print(f'a1 = {a1:.4f}')"
   ]
  },
  {
   "cell_type": "markdown",
   "metadata": {},
   "source": [
    "## Problem 2: Hyperparameter Optimization with Randomized Search for F1\n",
    "\n",
    "In this problem, you will tune your `pipelined_model` using `RandomizedSearchCV` to identify the best combination of tree structure and learning rate parameters that maximize the **F1 score**.\n",
    "\n",
    "**Background:**\n",
    "The F1 score is our main metric because it balances precision and recall on an imbalanced dataset. Optimizing hyperparameters for F1 ensures we manage both false positives and false negatives in a single measure.\n",
    "\n",
    "**Instructions:**\n",
    "\n",
    "1. Set up a randomized search over the following hyperparameter ranges, using appropriate random-number distributions:\n",
    "\n",
    "   * `learning_rate` (log-uniform between 1e-3 and 0.3)\n",
    "   * `max_leaf_nodes` (integer from 16 to 256)\n",
    "   * `max_depth` (integer from 2 to 10)\n",
    "   * `min_samples_leaf` (integer from 10 to 200)\n",
    "   * `l2_regularization` (uniform between 0.0 and 2.0)\n",
    "2. Use **5-fold stratified cross-validation**, with the same settings as in Problem 1.\n",
    "3. Set `n_iter` to at least 100 trials. More trials will generally yield better results, if your time and machine allow.\n",
    "4. After running the search, show a neatly formatted table of the top 5 results, using `display(...)` showing their mean F1 scores, standard deviation, and the chosen hyperparameter values.\n",
    "5. Answer the graded question.\n",
    "\n",
    "\n"
   ]
  },
  {
   "cell_type": "code",
   "execution_count": 60,
   "metadata": {},
   "outputs": [
    {
     "data": {
      "text/html": [
       "<div>\n",
       "<style scoped>\n",
       "    .dataframe tbody tr th:only-of-type {\n",
       "        vertical-align: middle;\n",
       "    }\n",
       "\n",
       "    .dataframe tbody tr th {\n",
       "        vertical-align: top;\n",
       "    }\n",
       "\n",
       "    .dataframe thead th {\n",
       "        text-align: right;\n",
       "    }\n",
       "</style>\n",
       "<table border=\"1\" class=\"dataframe\">\n",
       "  <thead>\n",
       "    <tr style=\"text-align: right;\">\n",
       "      <th></th>\n",
       "      <th>mean_test_score</th>\n",
       "      <th>std_test_score</th>\n",
       "      <th>param_gb__l2_regularization</th>\n",
       "      <th>param_gb__learning_rate</th>\n",
       "      <th>param_gb__max_depth</th>\n",
       "      <th>param_gb__max_leaf_nodes</th>\n",
       "      <th>param_gb__min_samples_leaf</th>\n",
       "    </tr>\n",
       "  </thead>\n",
       "  <tbody>\n",
       "    <tr>\n",
       "      <th>97</th>\n",
       "      <td>0.7138</td>\n",
       "      <td>0.0049</td>\n",
       "      <td>0.257001</td>\n",
       "      <td>0.102200</td>\n",
       "      <td>4</td>\n",
       "      <td>116</td>\n",
       "      <td>21</td>\n",
       "    </tr>\n",
       "    <tr>\n",
       "      <th>98</th>\n",
       "      <td>0.7138</td>\n",
       "      <td>0.0059</td>\n",
       "      <td>0.772205</td>\n",
       "      <td>0.240428</td>\n",
       "      <td>3</td>\n",
       "      <td>58</td>\n",
       "      <td>53</td>\n",
       "    </tr>\n",
       "    <tr>\n",
       "      <th>7</th>\n",
       "      <td>0.7137</td>\n",
       "      <td>0.0046</td>\n",
       "      <td>0.764924</td>\n",
       "      <td>0.272635</td>\n",
       "      <td>2</td>\n",
       "      <td>146</td>\n",
       "      <td>60</td>\n",
       "    </tr>\n",
       "    <tr>\n",
       "      <th>16</th>\n",
       "      <td>0.7134</td>\n",
       "      <td>0.0044</td>\n",
       "      <td>1.689068</td>\n",
       "      <td>0.070991</td>\n",
       "      <td>8</td>\n",
       "      <td>68</td>\n",
       "      <td>33</td>\n",
       "    </tr>\n",
       "    <tr>\n",
       "      <th>51</th>\n",
       "      <td>0.7132</td>\n",
       "      <td>0.0048</td>\n",
       "      <td>0.186206</td>\n",
       "      <td>0.166921</td>\n",
       "      <td>6</td>\n",
       "      <td>175</td>\n",
       "      <td>18</td>\n",
       "    </tr>\n",
       "  </tbody>\n",
       "</table>\n",
       "</div>"
      ],
      "text/plain": [
       "    mean_test_score  std_test_score  param_gb__l2_regularization  \\\n",
       "97           0.7138          0.0049                     0.257001   \n",
       "98           0.7138          0.0059                     0.772205   \n",
       "7            0.7137          0.0046                     0.764924   \n",
       "16           0.7134          0.0044                     1.689068   \n",
       "51           0.7132          0.0048                     0.186206   \n",
       "\n",
       "    param_gb__learning_rate  param_gb__max_depth  param_gb__max_leaf_nodes  \\\n",
       "97                 0.102200                    4                       116   \n",
       "98                 0.240428                    3                        58   \n",
       "7                  0.272635                    2                       146   \n",
       "16                 0.070991                    8                        68   \n",
       "51                 0.166921                    6                       175   \n",
       "\n",
       "    param_gb__min_samples_leaf  \n",
       "97                          21  \n",
       "98                          53  \n",
       "7                           60  \n",
       "16                          33  \n",
       "51                          18  "
      ]
     },
     "metadata": {},
     "output_type": "display_data"
    }
   ],
   "source": [
    "# Your code here\n",
    "    #The reason we are using F1 score is due to being a single numeric metric that balances precision and recall which are 2 key measure  of the classifiers performance\n",
    "    # Precision is pretty much defined as Precision = True positives/True positives+False Positives (this tells you what fraction were actually positive)\n",
    "    #Recall is also called the sensitivity or the true positive rate  which is defined as: Recall = True positives/True positives+False Negatives this tells what fraction of the model was correclty identified.\n",
    "\n",
    "parameters = {\n",
    "  'gb__learning_rate':    loguniform(1e-3, 0.3),\n",
    "  'gb__max_leaf_nodes':   randint(16, 256),\n",
    "  'gb__max_depth':        randint(2, 10),\n",
    "  'gb__min_samples_leaf': randint(10, 200),\n",
    "  'gb__l2_regularization':uniform(0.0, 2.0)\n",
    "}\n",
    "randSearchCV = RandomizedSearchCV(estimator=pipelined_model,param_distributions=parameters,n_iter=100,scoring='f1',cv=skf,n_jobs=-1,random_state=random_seed,return_train_score=False)\n",
    "\n",
    "#Run the search\n",
    "randSearchCV.fit(X,y)\n",
    "results=pd.DataFrame(randSearchCV.cv_results_)\n",
    "\n",
    "\n",
    "#Grab the columns that we care about \n",
    "cols = ['mean_test_score','std_test_score']+[c for c in results.columns if c.startswith('param_')]\n",
    "top5 = results.sort_values('mean_test_score',ascending=False).head(5)\n",
    "\n",
    "# Round scores to 4 decimals\n",
    "top5['mean_test_score'] = top5['mean_test_score'].round(4)\n",
    "top5['std_test_score']  = top5['std_test_score'].round(4)\n",
    "\n",
    "display(top5[ ['mean_test_score','std_test_score'] + [c for c in top5.columns if c.startswith('param_')] ])\n",
    "\n",
    "\n",
    "    #loguniform is a sampling distribution that picks values uniformly in log-space rather than linear space. Which means that you would still likely sample 10^-3,10^-2 etc as you would any other."
   ]
  },
  {
   "cell_type": "markdown",
   "metadata": {},
   "source": [
    "### Problem 2 Graded Answer\n",
    "\n",
    "Set `a2` to the mean F1 score of the best model found. "
   ]
  },
  {
   "cell_type": "code",
   "execution_count": 61,
   "metadata": {},
   "outputs": [],
   "source": [
    " # Your answer here\n",
    "\n",
    "a2 = 0.7138                    # replace 0 with your answer, may copy from the displayed results"
   ]
  },
  {
   "cell_type": "code",
   "execution_count": 62,
   "metadata": {},
   "outputs": [
    {
     "name": "stdout",
     "output_type": "stream",
     "text": [
      "a2 = 0.7138\n"
     ]
    }
   ],
   "source": [
    "# DO NOT change this cell in any way\n",
    "\n",
    "print(f'a2 = {a2:.4f}')"
   ]
  },
  {
   "cell_type": "markdown",
   "metadata": {},
   "source": [
    "## Problem 3: Hyperparameter Optimization with Optuna for F1\n",
    "\n",
    "In this problem, you will explore **Optuna**, a powerful hyperparameter optimization framework, to identify the best combination of hyperparameters that maximize the F1 score of your `pipelined_model`.\n",
    "\n",
    "**Background:**\n",
    "Optuna uses a smarter sampling strategy than grid search or randomized search, allowing you to explore the hyperparameter space more efficiently. It also supports *pruning*, which can stop unpromising trials early to save time. This makes it a popular SOTA optimization tool.\n",
    "\n",
    "**Before you start** browse the [Optuna documentation](https://optuna.org) and view the [tutorial video](https://optuna.readthedocs.io/en/stable/tutorial/index.html). \n",
    "\n",
    "As before, we focus on the **F1 score** because it balances precision and recall, making it more robust on an imbalanced dataset.\n",
    "\n",
    "**Instructions:**\n",
    "\n",
    "1. Define an Optuna objective function to optimize F1 score, sampling the exact same hyperparameter ranges you did in Problem 2 and using the same CV settings.  \n",
    "3. Set up an Optuna study with a reasonable number of trials (e.g., 100–500 depending on runtime resources--on my machine Optuna runs about 10x faster than randomized search for the same number of trials, but YMMV).\n",
    "4. After running the optimization, `display` a clean table with the top 5 trials showing their F1 scores and corresponding hyperparameter settings.\n",
    "5. Answer the graded question. \n",
    "\n",
    "**Note:**  There are many resources on Optuna you can find on the web, but for this problem, you have my permission to let ChatGPT write the code for you. "
   ]
  },
  {
   "cell_type": "code",
   "execution_count": 64,
   "metadata": {},
   "outputs": [
    {
     "name": "stderr",
     "output_type": "stream",
     "text": [
      "[I 2025-07-06 18:11:55,398] A new study created in memory with name: no-name-c1d1b696-db88-4285-a61c-ed6bfeee96d9\n",
      "  0%|          | 0/200 [00:00<?, ?it/s]C:\\Users\\alexa\\AppData\\Local\\Temp\\ipykernel_72564\\1941495575.py:9: FutureWarning: suggest_loguniform has been deprecated in v3.0.0. This feature will be removed in v6.0.0. See https://github.com/optuna/optuna/releases/tag/v3.0.0. Use suggest_float(..., log=True) instead.\n",
      "  \"gb__learning_rate\":      trial.suggest_loguniform(\"learning_rate\", 1e-3, 0.3),\n",
      "C:\\Users\\alexa\\AppData\\Local\\Temp\\ipykernel_72564\\1941495575.py:13: FutureWarning: suggest_uniform has been deprecated in v3.0.0. This feature will be removed in v6.0.0. See https://github.com/optuna/optuna/releases/tag/v3.0.0. Use suggest_float instead.\n",
      "  \"gb__l2_regularization\":  trial.suggest_uniform(\"l2_regularization\", 0.0, 2.0)\n",
      "Best trial: 0. Best value: 0.700028:   0%|          | 1/200 [00:06<22:50,  6.88s/it]C:\\Users\\alexa\\AppData\\Local\\Temp\\ipykernel_72564\\1941495575.py:9: FutureWarning: suggest_loguniform has been deprecated in v3.0.0. This feature will be removed in v6.0.0. See https://github.com/optuna/optuna/releases/tag/v3.0.0. Use suggest_float(..., log=True) instead.\n",
      "  \"gb__learning_rate\":      trial.suggest_loguniform(\"learning_rate\", 1e-3, 0.3),\n",
      "C:\\Users\\alexa\\AppData\\Local\\Temp\\ipykernel_72564\\1941495575.py:13: FutureWarning: suggest_uniform has been deprecated in v3.0.0. This feature will be removed in v6.0.0. See https://github.com/optuna/optuna/releases/tag/v3.0.0. Use suggest_float instead.\n",
      "  \"gb__l2_regularization\":  trial.suggest_uniform(\"l2_regularization\", 0.0, 2.0)\n"
     ]
    },
    {
     "name": "stdout",
     "output_type": "stream",
     "text": [
      "[I 2025-07-06 18:12:02,294] Trial 0 finished with value: 0.7000275953255477 and parameters: {'learning_rate': 0.010542578629468965, 'max_leaf_nodes': 207, 'max_depth': 8, 'min_samples_leaf': 131, 'l2_regularization': 0.178146723998585}. Best is trial 0 with value: 0.7000275953255477.\n"
     ]
    },
    {
     "name": "stderr",
     "output_type": "stream",
     "text": [
      "Best trial: 1. Best value: 0.711757:   1%|          | 2/200 [00:09<14:02,  4.26s/it]C:\\Users\\alexa\\AppData\\Local\\Temp\\ipykernel_72564\\1941495575.py:9: FutureWarning: suggest_loguniform has been deprecated in v3.0.0. This feature will be removed in v6.0.0. See https://github.com/optuna/optuna/releases/tag/v3.0.0. Use suggest_float(..., log=True) instead.\n",
      "  \"gb__learning_rate\":      trial.suggest_loguniform(\"learning_rate\", 1e-3, 0.3),\n",
      "C:\\Users\\alexa\\AppData\\Local\\Temp\\ipykernel_72564\\1941495575.py:13: FutureWarning: suggest_uniform has been deprecated in v3.0.0. This feature will be removed in v6.0.0. See https://github.com/optuna/optuna/releases/tag/v3.0.0. Use suggest_float instead.\n",
      "  \"gb__l2_regularization\":  trial.suggest_uniform(\"l2_regularization\", 0.0, 2.0)\n"
     ]
    },
    {
     "name": "stdout",
     "output_type": "stream",
     "text": [
      "[I 2025-07-06 18:12:04,716] Trial 1 finished with value: 0.7117569459694868 and parameters: {'learning_rate': 0.18413865886232567, 'max_leaf_nodes': 180, 'max_depth': 10, 'min_samples_leaf': 73, 'l2_regularization': 0.8251921515267355}. Best is trial 1 with value: 0.7117569459694868.\n"
     ]
    },
    {
     "name": "stderr",
     "output_type": "stream",
     "text": [
      "Best trial: 1. Best value: 0.711757:   2%|▏         | 3/200 [00:16<17:56,  5.47s/it]C:\\Users\\alexa\\AppData\\Local\\Temp\\ipykernel_72564\\1941495575.py:9: FutureWarning: suggest_loguniform has been deprecated in v3.0.0. This feature will be removed in v6.0.0. See https://github.com/optuna/optuna/releases/tag/v3.0.0. Use suggest_float(..., log=True) instead.\n",
      "  \"gb__learning_rate\":      trial.suggest_loguniform(\"learning_rate\", 1e-3, 0.3),\n",
      "C:\\Users\\alexa\\AppData\\Local\\Temp\\ipykernel_72564\\1941495575.py:13: FutureWarning: suggest_uniform has been deprecated in v3.0.0. This feature will be removed in v6.0.0. See https://github.com/optuna/optuna/releases/tag/v3.0.0. Use suggest_float instead.\n",
      "  \"gb__l2_regularization\":  trial.suggest_uniform(\"l2_regularization\", 0.0, 2.0)\n"
     ]
    },
    {
     "name": "stdout",
     "output_type": "stream",
     "text": [
      "[I 2025-07-06 18:12:11,621] Trial 2 finished with value: 0.696238815835682 and parameters: {'learning_rate': 0.00816945412445304, 'max_leaf_nodes': 197, 'max_depth': 8, 'min_samples_leaf': 85, 'l2_regularization': 0.3579600088399153}. Best is trial 1 with value: 0.7117569459694868.\n"
     ]
    },
    {
     "name": "stderr",
     "output_type": "stream",
     "text": [
      "Best trial: 3. Best value: 0.711764:   2%|▏         | 4/200 [00:19<15:01,  4.60s/it]C:\\Users\\alexa\\AppData\\Local\\Temp\\ipykernel_72564\\1941495575.py:9: FutureWarning: suggest_loguniform has been deprecated in v3.0.0. This feature will be removed in v6.0.0. See https://github.com/optuna/optuna/releases/tag/v3.0.0. Use suggest_float(..., log=True) instead.\n",
      "  \"gb__learning_rate\":      trial.suggest_loguniform(\"learning_rate\", 1e-3, 0.3),\n",
      "C:\\Users\\alexa\\AppData\\Local\\Temp\\ipykernel_72564\\1941495575.py:13: FutureWarning: suggest_uniform has been deprecated in v3.0.0. This feature will be removed in v6.0.0. See https://github.com/optuna/optuna/releases/tag/v3.0.0. Use suggest_float instead.\n",
      "  \"gb__l2_regularization\":  trial.suggest_uniform(\"l2_regularization\", 0.0, 2.0)\n"
     ]
    },
    {
     "name": "stdout",
     "output_type": "stream",
     "text": [
      "[I 2025-07-06 18:12:14,894] Trial 3 finished with value: 0.7117639417538943 and parameters: {'learning_rate': 0.11747050482847972, 'max_leaf_nodes': 140, 'max_depth': 7, 'min_samples_leaf': 71, 'l2_regularization': 0.6239742012342693}. Best is trial 3 with value: 0.7117639417538943.\n"
     ]
    },
    {
     "name": "stderr",
     "output_type": "stream",
     "text": [
      "Best trial: 3. Best value: 0.711764:   2%|▎         | 5/200 [00:25<16:31,  5.08s/it]C:\\Users\\alexa\\AppData\\Local\\Temp\\ipykernel_72564\\1941495575.py:9: FutureWarning: suggest_loguniform has been deprecated in v3.0.0. This feature will be removed in v6.0.0. See https://github.com/optuna/optuna/releases/tag/v3.0.0. Use suggest_float(..., log=True) instead.\n",
      "  \"gb__learning_rate\":      trial.suggest_loguniform(\"learning_rate\", 1e-3, 0.3),\n",
      "C:\\Users\\alexa\\AppData\\Local\\Temp\\ipykernel_72564\\1941495575.py:13: FutureWarning: suggest_uniform has been deprecated in v3.0.0. This feature will be removed in v6.0.0. See https://github.com/optuna/optuna/releases/tag/v3.0.0. Use suggest_float instead.\n",
      "  \"gb__l2_regularization\":  trial.suggest_uniform(\"l2_regularization\", 0.0, 2.0)\n"
     ]
    },
    {
     "name": "stdout",
     "output_type": "stream",
     "text": [
      "[I 2025-07-06 18:12:20,838] Trial 4 finished with value: 0.6770967305666077 and parameters: {'learning_rate': 0.0022580173561900342, 'max_leaf_nodes': 230, 'max_depth': 10, 'min_samples_leaf': 181, 'l2_regularization': 1.2683616510880944}. Best is trial 3 with value: 0.7117639417538943.\n"
     ]
    },
    {
     "name": "stderr",
     "output_type": "stream",
     "text": [
      "Best trial: 3. Best value: 0.711764:   3%|▎         | 6/200 [00:28<14:06,  4.36s/it]C:\\Users\\alexa\\AppData\\Local\\Temp\\ipykernel_72564\\1941495575.py:9: FutureWarning: suggest_loguniform has been deprecated in v3.0.0. This feature will be removed in v6.0.0. See https://github.com/optuna/optuna/releases/tag/v3.0.0. Use suggest_float(..., log=True) instead.\n",
      "  \"gb__learning_rate\":      trial.suggest_loguniform(\"learning_rate\", 1e-3, 0.3),\n",
      "C:\\Users\\alexa\\AppData\\Local\\Temp\\ipykernel_72564\\1941495575.py:13: FutureWarning: suggest_uniform has been deprecated in v3.0.0. This feature will be removed in v6.0.0. See https://github.com/optuna/optuna/releases/tag/v3.0.0. Use suggest_float instead.\n",
      "  \"gb__l2_regularization\":  trial.suggest_uniform(\"l2_regularization\", 0.0, 2.0)\n"
     ]
    },
    {
     "name": "stdout",
     "output_type": "stream",
     "text": [
      "[I 2025-07-06 18:12:23,800] Trial 5 finished with value: 0.7100632173182424 and parameters: {'learning_rate': 0.06785367378146243, 'max_leaf_nodes': 109, 'max_depth': 10, 'min_samples_leaf': 156, 'l2_regularization': 1.4218412656303308}. Best is trial 3 with value: 0.7117639417538943.\n"
     ]
    },
    {
     "name": "stderr",
     "output_type": "stream",
     "text": [
      "Best trial: 3. Best value: 0.711764:   4%|▎         | 7/200 [00:34<15:27,  4.80s/it]C:\\Users\\alexa\\AppData\\Local\\Temp\\ipykernel_72564\\1941495575.py:9: FutureWarning: suggest_loguniform has been deprecated in v3.0.0. This feature will be removed in v6.0.0. See https://github.com/optuna/optuna/releases/tag/v3.0.0. Use suggest_float(..., log=True) instead.\n",
      "  \"gb__learning_rate\":      trial.suggest_loguniform(\"learning_rate\", 1e-3, 0.3),\n",
      "C:\\Users\\alexa\\AppData\\Local\\Temp\\ipykernel_72564\\1941495575.py:13: FutureWarning: suggest_uniform has been deprecated in v3.0.0. This feature will be removed in v6.0.0. See https://github.com/optuna/optuna/releases/tag/v3.0.0. Use suggest_float instead.\n",
      "  \"gb__l2_regularization\":  trial.suggest_uniform(\"l2_regularization\", 0.0, 2.0)\n"
     ]
    },
    {
     "name": "stdout",
     "output_type": "stream",
     "text": [
      "[I 2025-07-06 18:12:29,509] Trial 6 finished with value: 0.6700734752620864 and parameters: {'learning_rate': 0.0010562962778051495, 'max_leaf_nodes': 94, 'max_depth': 8, 'min_samples_leaf': 97, 'l2_regularization': 0.5960042696063528}. Best is trial 3 with value: 0.7117639417538943.\n"
     ]
    },
    {
     "name": "stderr",
     "output_type": "stream",
     "text": [
      "Best trial: 7. Best value: 0.711882:   4%|▍         | 8/200 [00:35<12:04,  3.78s/it]C:\\Users\\alexa\\AppData\\Local\\Temp\\ipykernel_72564\\1941495575.py:9: FutureWarning: suggest_loguniform has been deprecated in v3.0.0. This feature will be removed in v6.0.0. See https://github.com/optuna/optuna/releases/tag/v3.0.0. Use suggest_float(..., log=True) instead.\n",
      "  \"gb__learning_rate\":      trial.suggest_loguniform(\"learning_rate\", 1e-3, 0.3),\n",
      "C:\\Users\\alexa\\AppData\\Local\\Temp\\ipykernel_72564\\1941495575.py:13: FutureWarning: suggest_uniform has been deprecated in v3.0.0. This feature will be removed in v6.0.0. See https://github.com/optuna/optuna/releases/tag/v3.0.0. Use suggest_float instead.\n",
      "  \"gb__l2_regularization\":  trial.suggest_uniform(\"l2_regularization\", 0.0, 2.0)\n"
     ]
    },
    {
     "name": "stdout",
     "output_type": "stream",
     "text": [
      "[I 2025-07-06 18:12:31,083] Trial 7 finished with value: 0.7118815563243668 and parameters: {'learning_rate': 0.21160513343055068, 'max_leaf_nodes': 231, 'max_depth': 4, 'min_samples_leaf': 79, 'l2_regularization': 0.15057691075237623}. Best is trial 7 with value: 0.7118815563243668.\n"
     ]
    },
    {
     "name": "stderr",
     "output_type": "stream",
     "text": [
      "Best trial: 7. Best value: 0.711882:   4%|▍         | 9/200 [00:39<11:56,  3.75s/it]C:\\Users\\alexa\\AppData\\Local\\Temp\\ipykernel_72564\\1941495575.py:9: FutureWarning: suggest_loguniform has been deprecated in v3.0.0. This feature will be removed in v6.0.0. See https://github.com/optuna/optuna/releases/tag/v3.0.0. Use suggest_float(..., log=True) instead.\n",
      "  \"gb__learning_rate\":      trial.suggest_loguniform(\"learning_rate\", 1e-3, 0.3),\n",
      "C:\\Users\\alexa\\AppData\\Local\\Temp\\ipykernel_72564\\1941495575.py:13: FutureWarning: suggest_uniform has been deprecated in v3.0.0. This feature will be removed in v6.0.0. See https://github.com/optuna/optuna/releases/tag/v3.0.0. Use suggest_float instead.\n",
      "  \"gb__l2_regularization\":  trial.suggest_uniform(\"l2_regularization\", 0.0, 2.0)\n"
     ]
    },
    {
     "name": "stdout",
     "output_type": "stream",
     "text": [
      "[I 2025-07-06 18:12:34,787] Trial 8 finished with value: 0.7017947106138795 and parameters: {'learning_rate': 0.015827617379043434, 'max_leaf_nodes': 61, 'max_depth': 5, 'min_samples_leaf': 95, 'l2_regularization': 1.496409097580359}. Best is trial 7 with value: 0.7118815563243668.\n"
     ]
    },
    {
     "name": "stderr",
     "output_type": "stream",
     "text": [
      "Best trial: 7. Best value: 0.711882:   5%|▌         | 10/200 [00:43<12:12,  3.86s/it]C:\\Users\\alexa\\AppData\\Local\\Temp\\ipykernel_72564\\1941495575.py:9: FutureWarning: suggest_loguniform has been deprecated in v3.0.0. This feature will be removed in v6.0.0. See https://github.com/optuna/optuna/releases/tag/v3.0.0. Use suggest_float(..., log=True) instead.\n",
      "  \"gb__learning_rate\":      trial.suggest_loguniform(\"learning_rate\", 1e-3, 0.3),\n",
      "C:\\Users\\alexa\\AppData\\Local\\Temp\\ipykernel_72564\\1941495575.py:13: FutureWarning: suggest_uniform has been deprecated in v3.0.0. This feature will be removed in v6.0.0. See https://github.com/optuna/optuna/releases/tag/v3.0.0. Use suggest_float instead.\n",
      "  \"gb__l2_regularization\":  trial.suggest_uniform(\"l2_regularization\", 0.0, 2.0)\n"
     ]
    },
    {
     "name": "stdout",
     "output_type": "stream",
     "text": [
      "[I 2025-07-06 18:12:38,875] Trial 9 finished with value: 0.7016398890796118 and parameters: {'learning_rate': 0.014668936520728848, 'max_leaf_nodes': 232, 'max_depth': 6, 'min_samples_leaf': 128, 'l2_regularization': 0.4526539229565576}. Best is trial 7 with value: 0.7118815563243668.\n"
     ]
    },
    {
     "name": "stderr",
     "output_type": "stream",
     "text": [
      "Best trial: 7. Best value: 0.711882:   6%|▌         | 11/200 [00:45<10:51,  3.45s/it]C:\\Users\\alexa\\AppData\\Local\\Temp\\ipykernel_72564\\1941495575.py:9: FutureWarning: suggest_loguniform has been deprecated in v3.0.0. This feature will be removed in v6.0.0. See https://github.com/optuna/optuna/releases/tag/v3.0.0. Use suggest_float(..., log=True) instead.\n",
      "  \"gb__learning_rate\":      trial.suggest_loguniform(\"learning_rate\", 1e-3, 0.3),\n",
      "C:\\Users\\alexa\\AppData\\Local\\Temp\\ipykernel_72564\\1941495575.py:13: FutureWarning: suggest_uniform has been deprecated in v3.0.0. This feature will be removed in v6.0.0. See https://github.com/optuna/optuna/releases/tag/v3.0.0. Use suggest_float instead.\n",
      "  \"gb__l2_regularization\":  trial.suggest_uniform(\"l2_regularization\", 0.0, 2.0)\n"
     ]
    },
    {
     "name": "stdout",
     "output_type": "stream",
     "text": [
      "[I 2025-07-06 18:12:41,391] Trial 10 finished with value: 0.7039646620202261 and parameters: {'learning_rate': 0.04674102995214719, 'max_leaf_nodes': 256, 'max_depth': 2, 'min_samples_leaf': 35, 'l2_regularization': 1.8900590832143924}. Best is trial 7 with value: 0.7118815563243668.\n"
     ]
    },
    {
     "name": "stderr",
     "output_type": "stream",
     "text": [
      "Best trial: 7. Best value: 0.711882:   6%|▌         | 12/200 [00:47<08:34,  2.74s/it]C:\\Users\\alexa\\AppData\\Local\\Temp\\ipykernel_72564\\1941495575.py:9: FutureWarning: suggest_loguniform has been deprecated in v3.0.0. This feature will be removed in v6.0.0. See https://github.com/optuna/optuna/releases/tag/v3.0.0. Use suggest_float(..., log=True) instead.\n",
      "  \"gb__learning_rate\":      trial.suggest_loguniform(\"learning_rate\", 1e-3, 0.3),\n",
      "C:\\Users\\alexa\\AppData\\Local\\Temp\\ipykernel_72564\\1941495575.py:13: FutureWarning: suggest_uniform has been deprecated in v3.0.0. This feature will be removed in v6.0.0. See https://github.com/optuna/optuna/releases/tag/v3.0.0. Use suggest_float instead.\n",
      "  \"gb__l2_regularization\":  trial.suggest_uniform(\"l2_regularization\", 0.0, 2.0)\n"
     ]
    },
    {
     "name": "stdout",
     "output_type": "stream",
     "text": [
      "[I 2025-07-06 18:12:42,513] Trial 11 finished with value: 0.7116305495218758 and parameters: {'learning_rate': 0.2984992179532221, 'max_leaf_nodes': 147, 'max_depth': 4, 'min_samples_leaf': 41, 'l2_regularization': 1.5392372423317369e-06}. Best is trial 7 with value: 0.7118815563243668.\n"
     ]
    },
    {
     "name": "stderr",
     "output_type": "stream",
     "text": [
      "Best trial: 7. Best value: 0.711882:   6%|▋         | 13/200 [00:49<08:18,  2.66s/it]C:\\Users\\alexa\\AppData\\Local\\Temp\\ipykernel_72564\\1941495575.py:9: FutureWarning: suggest_loguniform has been deprecated in v3.0.0. This feature will be removed in v6.0.0. See https://github.com/optuna/optuna/releases/tag/v3.0.0. Use suggest_float(..., log=True) instead.\n",
      "  \"gb__learning_rate\":      trial.suggest_loguniform(\"learning_rate\", 1e-3, 0.3),\n",
      "C:\\Users\\alexa\\AppData\\Local\\Temp\\ipykernel_72564\\1941495575.py:13: FutureWarning: suggest_uniform has been deprecated in v3.0.0. This feature will be removed in v6.0.0. See https://github.com/optuna/optuna/releases/tag/v3.0.0. Use suggest_float instead.\n",
      "  \"gb__l2_regularization\":  trial.suggest_uniform(\"l2_regularization\", 0.0, 2.0)\n"
     ]
    },
    {
     "name": "stdout",
     "output_type": "stream",
     "text": [
      "[I 2025-07-06 18:12:45,006] Trial 12 finished with value: 0.70927874276668 and parameters: {'learning_rate': 0.08666662873323215, 'max_leaf_nodes': 28, 'max_depth': 2, 'min_samples_leaf': 58, 'l2_regularization': 0.8047435846816056}. Best is trial 7 with value: 0.7118815563243668.\n"
     ]
    },
    {
     "name": "stderr",
     "output_type": "stream",
     "text": [
      "Best trial: 13. Best value: 0.713922:   7%|▋         | 14/200 [00:51<07:38,  2.46s/it]C:\\Users\\alexa\\AppData\\Local\\Temp\\ipykernel_72564\\1941495575.py:9: FutureWarning: suggest_loguniform has been deprecated in v3.0.0. This feature will be removed in v6.0.0. See https://github.com/optuna/optuna/releases/tag/v3.0.0. Use suggest_float(..., log=True) instead.\n",
      "  \"gb__learning_rate\":      trial.suggest_loguniform(\"learning_rate\", 1e-3, 0.3),\n",
      "C:\\Users\\alexa\\AppData\\Local\\Temp\\ipykernel_72564\\1941495575.py:13: FutureWarning: suggest_uniform has been deprecated in v3.0.0. This feature will be removed in v6.0.0. See https://github.com/optuna/optuna/releases/tag/v3.0.0. Use suggest_float instead.\n",
      "  \"gb__l2_regularization\":  trial.suggest_uniform(\"l2_regularization\", 0.0, 2.0)\n"
     ]
    },
    {
     "name": "stdout",
     "output_type": "stream",
     "text": [
      "[I 2025-07-06 18:12:47,006] Trial 13 finished with value: 0.7139223192625181 and parameters: {'learning_rate': 0.12320104976642353, 'max_leaf_nodes': 159, 'max_depth': 4, 'min_samples_leaf': 16, 'l2_regularization': 1.0335875878432321}. Best is trial 13 with value: 0.7139223192625181.\n"
     ]
    },
    {
     "name": "stderr",
     "output_type": "stream",
     "text": [
      "Best trial: 13. Best value: 0.713922:   8%|▊         | 15/200 [00:54<08:26,  2.74s/it]C:\\Users\\alexa\\AppData\\Local\\Temp\\ipykernel_72564\\1941495575.py:9: FutureWarning: suggest_loguniform has been deprecated in v3.0.0. This feature will be removed in v6.0.0. See https://github.com/optuna/optuna/releases/tag/v3.0.0. Use suggest_float(..., log=True) instead.\n",
      "  \"gb__learning_rate\":      trial.suggest_loguniform(\"learning_rate\", 1e-3, 0.3),\n",
      "C:\\Users\\alexa\\AppData\\Local\\Temp\\ipykernel_72564\\1941495575.py:13: FutureWarning: suggest_uniform has been deprecated in v3.0.0. This feature will be removed in v6.0.0. See https://github.com/optuna/optuna/releases/tag/v3.0.0. Use suggest_float instead.\n",
      "  \"gb__l2_regularization\":  trial.suggest_uniform(\"l2_regularization\", 0.0, 2.0)\n"
     ]
    },
    {
     "name": "stdout",
     "output_type": "stream",
     "text": [
      "[I 2025-07-06 18:12:50,372] Trial 14 finished with value: 0.7085114789488113 and parameters: {'learning_rate': 0.02834997244751868, 'max_leaf_nodes': 168, 'max_depth': 4, 'min_samples_leaf': 47, 'l2_regularization': 1.098430211682782}. Best is trial 13 with value: 0.7139223192625181.\n"
     ]
    },
    {
     "name": "stderr",
     "output_type": "stream",
     "text": [
      "Best trial: 13. Best value: 0.713922:   8%|▊         | 16/200 [00:56<07:16,  2.37s/it]C:\\Users\\alexa\\AppData\\Local\\Temp\\ipykernel_72564\\1941495575.py:9: FutureWarning: suggest_loguniform has been deprecated in v3.0.0. This feature will be removed in v6.0.0. See https://github.com/optuna/optuna/releases/tag/v3.0.0. Use suggest_float(..., log=True) instead.\n",
      "  \"gb__learning_rate\":      trial.suggest_loguniform(\"learning_rate\", 1e-3, 0.3),\n",
      "C:\\Users\\alexa\\AppData\\Local\\Temp\\ipykernel_72564\\1941495575.py:13: FutureWarning: suggest_uniform has been deprecated in v3.0.0. This feature will be removed in v6.0.0. See https://github.com/optuna/optuna/releases/tag/v3.0.0. Use suggest_float instead.\n",
      "  \"gb__l2_regularization\":  trial.suggest_uniform(\"l2_regularization\", 0.0, 2.0)\n"
     ]
    },
    {
     "name": "stdout",
     "output_type": "stream",
     "text": [
      "[I 2025-07-06 18:12:51,905] Trial 15 finished with value: 0.7137747764148901 and parameters: {'learning_rate': 0.2947803600778617, 'max_leaf_nodes': 108, 'max_depth': 3, 'min_samples_leaf': 16, 'l2_regularization': 1.7345471619967217}. Best is trial 13 with value: 0.7139223192625181.\n"
     ]
    },
    {
     "name": "stderr",
     "output_type": "stream",
     "text": [
      "Best trial: 13. Best value: 0.713922:   8%|▊         | 17/200 [00:59<07:26,  2.44s/it]C:\\Users\\alexa\\AppData\\Local\\Temp\\ipykernel_72564\\1941495575.py:9: FutureWarning: suggest_loguniform has been deprecated in v3.0.0. This feature will be removed in v6.0.0. See https://github.com/optuna/optuna/releases/tag/v3.0.0. Use suggest_float(..., log=True) instead.\n",
      "  \"gb__learning_rate\":      trial.suggest_loguniform(\"learning_rate\", 1e-3, 0.3),\n",
      "C:\\Users\\alexa\\AppData\\Local\\Temp\\ipykernel_72564\\1941495575.py:13: FutureWarning: suggest_uniform has been deprecated in v3.0.0. This feature will be removed in v6.0.0. See https://github.com/optuna/optuna/releases/tag/v3.0.0. Use suggest_float instead.\n",
      "  \"gb__l2_regularization\":  trial.suggest_uniform(\"l2_regularization\", 0.0, 2.0)\n"
     ]
    },
    {
     "name": "stdout",
     "output_type": "stream",
     "text": [
      "[I 2025-07-06 18:12:54,498] Trial 16 finished with value: 0.7131212480412529 and parameters: {'learning_rate': 0.13331346948833517, 'max_leaf_nodes': 101, 'max_depth': 3, 'min_samples_leaf': 14, 'l2_regularization': 1.7604032121029247}. Best is trial 13 with value: 0.7139223192625181.\n"
     ]
    },
    {
     "name": "stderr",
     "output_type": "stream",
     "text": [
      "Best trial: 13. Best value: 0.713922:   9%|▉         | 18/200 [01:01<07:49,  2.58s/it]C:\\Users\\alexa\\AppData\\Local\\Temp\\ipykernel_72564\\1941495575.py:9: FutureWarning: suggest_loguniform has been deprecated in v3.0.0. This feature will be removed in v6.0.0. See https://github.com/optuna/optuna/releases/tag/v3.0.0. Use suggest_float(..., log=True) instead.\n",
      "  \"gb__learning_rate\":      trial.suggest_loguniform(\"learning_rate\", 1e-3, 0.3),\n",
      "C:\\Users\\alexa\\AppData\\Local\\Temp\\ipykernel_72564\\1941495575.py:13: FutureWarning: suggest_uniform has been deprecated in v3.0.0. This feature will be removed in v6.0.0. See https://github.com/optuna/optuna/releases/tag/v3.0.0. Use suggest_float instead.\n",
      "  \"gb__l2_regularization\":  trial.suggest_uniform(\"l2_regularization\", 0.0, 2.0)\n"
     ]
    },
    {
     "name": "stdout",
     "output_type": "stream",
     "text": [
      "[I 2025-07-06 18:12:57,404] Trial 17 finished with value: 0.7077330930343922 and parameters: {'learning_rate': 0.03823271131827062, 'max_leaf_nodes': 60, 'max_depth': 3, 'min_samples_leaf': 10, 'l2_regularization': 1.6330928420398076}. Best is trial 13 with value: 0.7139223192625181.\n"
     ]
    },
    {
     "name": "stderr",
     "output_type": "stream",
     "text": [
      "Best trial: 13. Best value: 0.713922:  10%|▉         | 19/200 [01:05<09:02,  3.00s/it]C:\\Users\\alexa\\AppData\\Local\\Temp\\ipykernel_72564\\1941495575.py:9: FutureWarning: suggest_loguniform has been deprecated in v3.0.0. This feature will be removed in v6.0.0. See https://github.com/optuna/optuna/releases/tag/v3.0.0. Use suggest_float(..., log=True) instead.\n",
      "  \"gb__learning_rate\":      trial.suggest_loguniform(\"learning_rate\", 1e-3, 0.3),\n",
      "C:\\Users\\alexa\\AppData\\Local\\Temp\\ipykernel_72564\\1941495575.py:13: FutureWarning: suggest_uniform has been deprecated in v3.0.0. This feature will be removed in v6.0.0. See https://github.com/optuna/optuna/releases/tag/v3.0.0. Use suggest_float instead.\n",
      "  \"gb__l2_regularization\":  trial.suggest_uniform(\"l2_regularization\", 0.0, 2.0)\n"
     ]
    },
    {
     "name": "stdout",
     "output_type": "stream",
     "text": [
      "[I 2025-07-06 18:13:01,384] Trial 18 finished with value: 0.6780352298669461 and parameters: {'learning_rate': 0.005213695036848676, 'max_leaf_nodes': 121, 'max_depth': 5, 'min_samples_leaf': 25, 'l2_regularization': 1.9945405614570335}. Best is trial 13 with value: 0.7139223192625181.\n"
     ]
    },
    {
     "name": "stderr",
     "output_type": "stream",
     "text": [
      "Best trial: 13. Best value: 0.713922:  10%|█         | 20/200 [01:07<07:56,  2.65s/it]C:\\Users\\alexa\\AppData\\Local\\Temp\\ipykernel_72564\\1941495575.py:9: FutureWarning: suggest_loguniform has been deprecated in v3.0.0. This feature will be removed in v6.0.0. See https://github.com/optuna/optuna/releases/tag/v3.0.0. Use suggest_float(..., log=True) instead.\n",
      "  \"gb__learning_rate\":      trial.suggest_loguniform(\"learning_rate\", 1e-3, 0.3),\n",
      "C:\\Users\\alexa\\AppData\\Local\\Temp\\ipykernel_72564\\1941495575.py:13: FutureWarning: suggest_uniform has been deprecated in v3.0.0. This feature will be removed in v6.0.0. See https://github.com/optuna/optuna/releases/tag/v3.0.0. Use suggest_float instead.\n",
      "  \"gb__l2_regularization\":  trial.suggest_uniform(\"l2_regularization\", 0.0, 2.0)\n"
     ]
    },
    {
     "name": "stdout",
     "output_type": "stream",
     "text": [
      "[I 2025-07-06 18:13:03,204] Trial 19 finished with value: 0.7119602481145473 and parameters: {'learning_rate': 0.2904214202920908, 'max_leaf_nodes': 154, 'max_depth': 3, 'min_samples_leaf': 119, 'l2_regularization': 1.1367935324089025}. Best is trial 13 with value: 0.7139223192625181.\n"
     ]
    },
    {
     "name": "stderr",
     "output_type": "stream",
     "text": [
      "Best trial: 13. Best value: 0.713922:  10%|█         | 21/200 [01:11<08:28,  2.84s/it]C:\\Users\\alexa\\AppData\\Local\\Temp\\ipykernel_72564\\1941495575.py:9: FutureWarning: suggest_loguniform has been deprecated in v3.0.0. This feature will be removed in v6.0.0. See https://github.com/optuna/optuna/releases/tag/v3.0.0. Use suggest_float(..., log=True) instead.\n",
      "  \"gb__learning_rate\":      trial.suggest_loguniform(\"learning_rate\", 1e-3, 0.3),\n",
      "C:\\Users\\alexa\\AppData\\Local\\Temp\\ipykernel_72564\\1941495575.py:13: FutureWarning: suggest_uniform has been deprecated in v3.0.0. This feature will be removed in v6.0.0. See https://github.com/optuna/optuna/releases/tag/v3.0.0. Use suggest_float instead.\n",
      "  \"gb__l2_regularization\":  trial.suggest_uniform(\"l2_regularization\", 0.0, 2.0)\n"
     ]
    },
    {
     "name": "stdout",
     "output_type": "stream",
     "text": [
      "[I 2025-07-06 18:13:06,489] Trial 20 finished with value: 0.7122182617084184 and parameters: {'learning_rate': 0.06639407034243705, 'max_leaf_nodes': 76, 'max_depth': 5, 'min_samples_leaf': 55, 'l2_regularization': 0.8921316897468443}. Best is trial 13 with value: 0.7139223192625181.\n"
     ]
    },
    {
     "name": "stderr",
     "output_type": "stream",
     "text": [
      "Best trial: 21. Best value: 0.714481:  11%|█         | 22/200 [01:13<08:14,  2.78s/it]C:\\Users\\alexa\\AppData\\Local\\Temp\\ipykernel_72564\\1941495575.py:9: FutureWarning: suggest_loguniform has been deprecated in v3.0.0. This feature will be removed in v6.0.0. See https://github.com/optuna/optuna/releases/tag/v3.0.0. Use suggest_float(..., log=True) instead.\n",
      "  \"gb__learning_rate\":      trial.suggest_loguniform(\"learning_rate\", 1e-3, 0.3),\n",
      "C:\\Users\\alexa\\AppData\\Local\\Temp\\ipykernel_72564\\1941495575.py:13: FutureWarning: suggest_uniform has been deprecated in v3.0.0. This feature will be removed in v6.0.0. See https://github.com/optuna/optuna/releases/tag/v3.0.0. Use suggest_float instead.\n",
      "  \"gb__l2_regularization\":  trial.suggest_uniform(\"l2_regularization\", 0.0, 2.0)\n"
     ]
    },
    {
     "name": "stdout",
     "output_type": "stream",
     "text": [
      "[I 2025-07-06 18:13:09,129] Trial 21 finished with value: 0.7144807245847764 and parameters: {'learning_rate': 0.1316225994179825, 'max_leaf_nodes': 119, 'max_depth': 3, 'min_samples_leaf': 19, 'l2_regularization': 1.7237873776173944}. Best is trial 21 with value: 0.7144807245847764.\n"
     ]
    },
    {
     "name": "stderr",
     "output_type": "stream",
     "text": [
      "Best trial: 21. Best value: 0.714481:  12%|█▏        | 23/200 [01:16<07:59,  2.71s/it]C:\\Users\\alexa\\AppData\\Local\\Temp\\ipykernel_72564\\1941495575.py:9: FutureWarning: suggest_loguniform has been deprecated in v3.0.0. This feature will be removed in v6.0.0. See https://github.com/optuna/optuna/releases/tag/v3.0.0. Use suggest_float(..., log=True) instead.\n",
      "  \"gb__learning_rate\":      trial.suggest_loguniform(\"learning_rate\", 1e-3, 0.3),\n",
      "C:\\Users\\alexa\\AppData\\Local\\Temp\\ipykernel_72564\\1941495575.py:13: FutureWarning: suggest_uniform has been deprecated in v3.0.0. This feature will be removed in v6.0.0. See https://github.com/optuna/optuna/releases/tag/v3.0.0. Use suggest_float instead.\n",
      "  \"gb__l2_regularization\":  trial.suggest_uniform(\"l2_regularization\", 0.0, 2.0)\n"
     ]
    },
    {
     "name": "stdout",
     "output_type": "stream",
     "text": [
      "[I 2025-07-06 18:13:11,680] Trial 22 finished with value: 0.7120339391837671 and parameters: {'learning_rate': 0.13112109812792505, 'max_leaf_nodes': 125, 'max_depth': 2, 'min_samples_leaf': 27, 'l2_regularization': 1.7007990955116448}. Best is trial 21 with value: 0.7144807245847764.\n"
     ]
    },
    {
     "name": "stderr",
     "output_type": "stream",
     "text": [
      "Best trial: 21. Best value: 0.714481:  12%|█▏        | 24/200 [01:18<07:22,  2.52s/it]C:\\Users\\alexa\\AppData\\Local\\Temp\\ipykernel_72564\\1941495575.py:9: FutureWarning: suggest_loguniform has been deprecated in v3.0.0. This feature will be removed in v6.0.0. See https://github.com/optuna/optuna/releases/tag/v3.0.0. Use suggest_float(..., log=True) instead.\n",
      "  \"gb__learning_rate\":      trial.suggest_loguniform(\"learning_rate\", 1e-3, 0.3),\n",
      "C:\\Users\\alexa\\AppData\\Local\\Temp\\ipykernel_72564\\1941495575.py:13: FutureWarning: suggest_uniform has been deprecated in v3.0.0. This feature will be removed in v6.0.0. See https://github.com/optuna/optuna/releases/tag/v3.0.0. Use suggest_float instead.\n",
      "  \"gb__l2_regularization\":  trial.suggest_uniform(\"l2_regularization\", 0.0, 2.0)\n"
     ]
    },
    {
     "name": "stdout",
     "output_type": "stream",
     "text": [
      "[I 2025-07-06 18:13:13,741] Trial 23 finished with value: 0.7137744992979647 and parameters: {'learning_rate': 0.18192568339831516, 'max_leaf_nodes': 165, 'max_depth': 3, 'min_samples_leaf': 11, 'l2_regularization': 1.3766381584060299}. Best is trial 21 with value: 0.7144807245847764.\n"
     ]
    },
    {
     "name": "stderr",
     "output_type": "stream",
     "text": [
      "Best trial: 21. Best value: 0.714481:  12%|█▎        | 25/200 [01:21<08:07,  2.78s/it]C:\\Users\\alexa\\AppData\\Local\\Temp\\ipykernel_72564\\1941495575.py:9: FutureWarning: suggest_loguniform has been deprecated in v3.0.0. This feature will be removed in v6.0.0. See https://github.com/optuna/optuna/releases/tag/v3.0.0. Use suggest_float(..., log=True) instead.\n",
      "  \"gb__learning_rate\":      trial.suggest_loguniform(\"learning_rate\", 1e-3, 0.3),\n",
      "C:\\Users\\alexa\\AppData\\Local\\Temp\\ipykernel_72564\\1941495575.py:13: FutureWarning: suggest_uniform has been deprecated in v3.0.0. This feature will be removed in v6.0.0. See https://github.com/optuna/optuna/releases/tag/v3.0.0. Use suggest_float instead.\n",
      "  \"gb__l2_regularization\":  trial.suggest_uniform(\"l2_regularization\", 0.0, 2.0)\n"
     ]
    },
    {
     "name": "stdout",
     "output_type": "stream",
     "text": [
      "[I 2025-07-06 18:13:17,149] Trial 24 finished with value: 0.7081071761370025 and parameters: {'learning_rate': 0.02771021337394479, 'max_leaf_nodes': 88, 'max_depth': 4, 'min_samples_leaf': 30, 'l2_regularization': 1.5395095151327625}. Best is trial 21 with value: 0.7144807245847764.\n"
     ]
    },
    {
     "name": "stderr",
     "output_type": "stream",
     "text": [
      "Best trial: 21. Best value: 0.714481:  13%|█▎        | 26/200 [01:24<07:44,  2.67s/it]C:\\Users\\alexa\\AppData\\Local\\Temp\\ipykernel_72564\\1941495575.py:9: FutureWarning: suggest_loguniform has been deprecated in v3.0.0. This feature will be removed in v6.0.0. See https://github.com/optuna/optuna/releases/tag/v3.0.0. Use suggest_float(..., log=True) instead.\n",
      "  \"gb__learning_rate\":      trial.suggest_loguniform(\"learning_rate\", 1e-3, 0.3),\n",
      "C:\\Users\\alexa\\AppData\\Local\\Temp\\ipykernel_72564\\1941495575.py:13: FutureWarning: suggest_uniform has been deprecated in v3.0.0. This feature will be removed in v6.0.0. See https://github.com/optuna/optuna/releases/tag/v3.0.0. Use suggest_float instead.\n",
      "  \"gb__l2_regularization\":  trial.suggest_uniform(\"l2_regularization\", 0.0, 2.0)\n"
     ]
    },
    {
     "name": "stdout",
     "output_type": "stream",
     "text": [
      "[I 2025-07-06 18:13:19,557] Trial 25 finished with value: 0.7124453806748983 and parameters: {'learning_rate': 0.1122339888331046, 'max_leaf_nodes': 124, 'max_depth': 6, 'min_samples_leaf': 58, 'l2_regularization': 1.2753388246179551}. Best is trial 21 with value: 0.7144807245847764.\n"
     ]
    },
    {
     "name": "stderr",
     "output_type": "stream",
     "text": [
      "Best trial: 21. Best value: 0.714481:  14%|█▎        | 27/200 [01:27<07:52,  2.73s/it]C:\\Users\\alexa\\AppData\\Local\\Temp\\ipykernel_72564\\1941495575.py:9: FutureWarning: suggest_loguniform has been deprecated in v3.0.0. This feature will be removed in v6.0.0. See https://github.com/optuna/optuna/releases/tag/v3.0.0. Use suggest_float(..., log=True) instead.\n",
      "  \"gb__learning_rate\":      trial.suggest_loguniform(\"learning_rate\", 1e-3, 0.3),\n",
      "C:\\Users\\alexa\\AppData\\Local\\Temp\\ipykernel_72564\\1941495575.py:13: FutureWarning: suggest_uniform has been deprecated in v3.0.0. This feature will be removed in v6.0.0. See https://github.com/optuna/optuna/releases/tag/v3.0.0. Use suggest_float instead.\n",
      "  \"gb__l2_regularization\":  trial.suggest_uniform(\"l2_regularization\", 0.0, 2.0)\n"
     ]
    },
    {
     "name": "stdout",
     "output_type": "stream",
     "text": [
      "[I 2025-07-06 18:13:22,435] Trial 26 finished with value: 0.709655035102666 and parameters: {'learning_rate': 0.06457102170526872, 'max_leaf_nodes': 29, 'max_depth': 3, 'min_samples_leaf': 196, 'l2_regularization': 1.8349411374089712}. Best is trial 21 with value: 0.7144807245847764.\n"
     ]
    },
    {
     "name": "stderr",
     "output_type": "stream",
     "text": [
      "Best trial: 21. Best value: 0.714481:  14%|█▍        | 28/200 [01:29<07:38,  2.66s/it]C:\\Users\\alexa\\AppData\\Local\\Temp\\ipykernel_72564\\1941495575.py:9: FutureWarning: suggest_loguniform has been deprecated in v3.0.0. This feature will be removed in v6.0.0. See https://github.com/optuna/optuna/releases/tag/v3.0.0. Use suggest_float(..., log=True) instead.\n",
      "  \"gb__learning_rate\":      trial.suggest_loguniform(\"learning_rate\", 1e-3, 0.3),\n",
      "C:\\Users\\alexa\\AppData\\Local\\Temp\\ipykernel_72564\\1941495575.py:13: FutureWarning: suggest_uniform has been deprecated in v3.0.0. This feature will be removed in v6.0.0. See https://github.com/optuna/optuna/releases/tag/v3.0.0. Use suggest_float instead.\n",
      "  \"gb__l2_regularization\":  trial.suggest_uniform(\"l2_regularization\", 0.0, 2.0)\n"
     ]
    },
    {
     "name": "stdout",
     "output_type": "stream",
     "text": [
      "[I 2025-07-06 18:13:24,941] Trial 27 finished with value: 0.713153458252208 and parameters: {'learning_rate': 0.20547651498776537, 'max_leaf_nodes': 183, 'max_depth': 2, 'min_samples_leaf': 23, 'l2_regularization': 1.6064591306430167}. Best is trial 21 with value: 0.7144807245847764.\n"
     ]
    },
    {
     "name": "stderr",
     "output_type": "stream",
     "text": [
      "Best trial: 21. Best value: 0.714481:  14%|█▍        | 29/200 [01:32<08:06,  2.84s/it]C:\\Users\\alexa\\AppData\\Local\\Temp\\ipykernel_72564\\1941495575.py:9: FutureWarning: suggest_loguniform has been deprecated in v3.0.0. This feature will be removed in v6.0.0. See https://github.com/optuna/optuna/releases/tag/v3.0.0. Use suggest_float(..., log=True) instead.\n",
      "  \"gb__learning_rate\":      trial.suggest_loguniform(\"learning_rate\", 1e-3, 0.3),\n",
      "C:\\Users\\alexa\\AppData\\Local\\Temp\\ipykernel_72564\\1941495575.py:13: FutureWarning: suggest_uniform has been deprecated in v3.0.0. This feature will be removed in v6.0.0. See https://github.com/optuna/optuna/releases/tag/v3.0.0. Use suggest_float instead.\n",
      "  \"gb__l2_regularization\":  trial.suggest_uniform(\"l2_regularization\", 0.0, 2.0)\n"
     ]
    },
    {
     "name": "stdout",
     "output_type": "stream",
     "text": [
      "[I 2025-07-06 18:13:28,200] Trial 28 finished with value: 0.7115871310135271 and parameters: {'learning_rate': 0.04930706418643963, 'max_leaf_nodes': 72, 'max_depth': 4, 'min_samples_leaf': 51, 'l2_regularization': 1.9440011362707557}. Best is trial 21 with value: 0.7144807245847764.\n"
     ]
    },
    {
     "name": "stderr",
     "output_type": "stream",
     "text": [
      "Best trial: 21. Best value: 0.714481:  15%|█▌        | 30/200 [01:35<07:45,  2.74s/it]C:\\Users\\alexa\\AppData\\Local\\Temp\\ipykernel_72564\\1941495575.py:9: FutureWarning: suggest_loguniform has been deprecated in v3.0.0. This feature will be removed in v6.0.0. See https://github.com/optuna/optuna/releases/tag/v3.0.0. Use suggest_float(..., log=True) instead.\n",
      "  \"gb__learning_rate\":      trial.suggest_loguniform(\"learning_rate\", 1e-3, 0.3),\n",
      "C:\\Users\\alexa\\AppData\\Local\\Temp\\ipykernel_72564\\1941495575.py:13: FutureWarning: suggest_uniform has been deprecated in v3.0.0. This feature will be removed in v6.0.0. See https://github.com/optuna/optuna/releases/tag/v3.0.0. Use suggest_float instead.\n",
      "  \"gb__l2_regularization\":  trial.suggest_uniform(\"l2_regularization\", 0.0, 2.0)\n"
     ]
    },
    {
     "name": "stdout",
     "output_type": "stream",
     "text": [
      "[I 2025-07-06 18:13:30,688] Trial 29 finished with value: 0.7116050498378585 and parameters: {'learning_rate': 0.08423516321449688, 'max_leaf_nodes': 112, 'max_depth': 6, 'min_samples_leaf': 41, 'l2_regularization': 1.075082884274213}. Best is trial 21 with value: 0.7144807245847764.\n"
     ]
    },
    {
     "name": "stderr",
     "output_type": "stream",
     "text": [
      "Best trial: 21. Best value: 0.714481:  16%|█▌        | 31/200 [01:36<06:14,  2.21s/it]C:\\Users\\alexa\\AppData\\Local\\Temp\\ipykernel_72564\\1941495575.py:9: FutureWarning: suggest_loguniform has been deprecated in v3.0.0. This feature will be removed in v6.0.0. See https://github.com/optuna/optuna/releases/tag/v3.0.0. Use suggest_float(..., log=True) instead.\n",
      "  \"gb__learning_rate\":      trial.suggest_loguniform(\"learning_rate\", 1e-3, 0.3),\n",
      "C:\\Users\\alexa\\AppData\\Local\\Temp\\ipykernel_72564\\1941495575.py:13: FutureWarning: suggest_uniform has been deprecated in v3.0.0. This feature will be removed in v6.0.0. See https://github.com/optuna/optuna/releases/tag/v3.0.0. Use suggest_float instead.\n",
      "  \"gb__l2_regularization\":  trial.suggest_uniform(\"l2_regularization\", 0.0, 2.0)\n"
     ]
    },
    {
     "name": "stdout",
     "output_type": "stream",
     "text": [
      "[I 2025-07-06 18:13:31,686] Trial 30 finished with value: 0.7125697444539785 and parameters: {'learning_rate': 0.291346144059907, 'max_leaf_nodes': 143, 'max_depth': 5, 'min_samples_leaf': 22, 'l2_regularization': 1.2272349715192146}. Best is trial 21 with value: 0.7144807245847764.\n"
     ]
    },
    {
     "name": "stderr",
     "output_type": "stream",
     "text": [
      "Best trial: 21. Best value: 0.714481:  16%|█▌        | 32/200 [01:38<06:06,  2.18s/it]C:\\Users\\alexa\\AppData\\Local\\Temp\\ipykernel_72564\\1941495575.py:9: FutureWarning: suggest_loguniform has been deprecated in v3.0.0. This feature will be removed in v6.0.0. See https://github.com/optuna/optuna/releases/tag/v3.0.0. Use suggest_float(..., log=True) instead.\n",
      "  \"gb__learning_rate\":      trial.suggest_loguniform(\"learning_rate\", 1e-3, 0.3),\n",
      "C:\\Users\\alexa\\AppData\\Local\\Temp\\ipykernel_72564\\1941495575.py:13: FutureWarning: suggest_uniform has been deprecated in v3.0.0. This feature will be removed in v6.0.0. See https://github.com/optuna/optuna/releases/tag/v3.0.0. Use suggest_float instead.\n",
      "  \"gb__l2_regularization\":  trial.suggest_uniform(\"l2_regularization\", 0.0, 2.0)\n"
     ]
    },
    {
     "name": "stdout",
     "output_type": "stream",
     "text": [
      "[I 2025-07-06 18:13:33,800] Trial 31 finished with value: 0.7138064720901716 and parameters: {'learning_rate': 0.1685773584589243, 'max_leaf_nodes': 161, 'max_depth': 3, 'min_samples_leaf': 13, 'l2_regularization': 1.446503746664607}. Best is trial 21 with value: 0.7144807245847764.\n"
     ]
    },
    {
     "name": "stderr",
     "output_type": "stream",
     "text": [
      "Best trial: 21. Best value: 0.714481:  16%|█▋        | 33/200 [01:41<06:27,  2.32s/it]C:\\Users\\alexa\\AppData\\Local\\Temp\\ipykernel_72564\\1941495575.py:9: FutureWarning: suggest_loguniform has been deprecated in v3.0.0. This feature will be removed in v6.0.0. See https://github.com/optuna/optuna/releases/tag/v3.0.0. Use suggest_float(..., log=True) instead.\n",
      "  \"gb__learning_rate\":      trial.suggest_loguniform(\"learning_rate\", 1e-3, 0.3),\n",
      "C:\\Users\\alexa\\AppData\\Local\\Temp\\ipykernel_72564\\1941495575.py:13: FutureWarning: suggest_uniform has been deprecated in v3.0.0. This feature will be removed in v6.0.0. See https://github.com/optuna/optuna/releases/tag/v3.0.0. Use suggest_float instead.\n",
      "  \"gb__l2_regularization\":  trial.suggest_uniform(\"l2_regularization\", 0.0, 2.0)\n"
     ]
    },
    {
     "name": "stdout",
     "output_type": "stream",
     "text": [
      "[I 2025-07-06 18:13:36,433] Trial 32 finished with value: 0.7130334356245578 and parameters: {'learning_rate': 0.1615490118684442, 'max_leaf_nodes': 162, 'max_depth': 3, 'min_samples_leaf': 38, 'l2_regularization': 1.8133323514179245}. Best is trial 21 with value: 0.7144807245847764.\n"
     ]
    },
    {
     "name": "stderr",
     "output_type": "stream",
     "text": [
      "Best trial: 21. Best value: 0.714481:  17%|█▋        | 34/200 [01:43<06:27,  2.33s/it]C:\\Users\\alexa\\AppData\\Local\\Temp\\ipykernel_72564\\1941495575.py:9: FutureWarning: suggest_loguniform has been deprecated in v3.0.0. This feature will be removed in v6.0.0. See https://github.com/optuna/optuna/releases/tag/v3.0.0. Use suggest_float(..., log=True) instead.\n",
      "  \"gb__learning_rate\":      trial.suggest_loguniform(\"learning_rate\", 1e-3, 0.3),\n",
      "C:\\Users\\alexa\\AppData\\Local\\Temp\\ipykernel_72564\\1941495575.py:13: FutureWarning: suggest_uniform has been deprecated in v3.0.0. This feature will be removed in v6.0.0. See https://github.com/optuna/optuna/releases/tag/v3.0.0. Use suggest_float instead.\n",
      "  \"gb__l2_regularization\":  trial.suggest_uniform(\"l2_regularization\", 0.0, 2.0)\n"
     ]
    },
    {
     "name": "stdout",
     "output_type": "stream",
     "text": [
      "[I 2025-07-06 18:13:38,798] Trial 33 finished with value: 0.7131200177935451 and parameters: {'learning_rate': 0.21023177577999086, 'max_leaf_nodes': 186, 'max_depth': 2, 'min_samples_leaf': 10, 'l2_regularization': 1.4634897564944194}. Best is trial 21 with value: 0.7144807245847764.\n"
     ]
    },
    {
     "name": "stderr",
     "output_type": "stream",
     "text": [
      "Best trial: 21. Best value: 0.714481:  18%|█▊        | 35/200 [01:45<06:34,  2.39s/it]C:\\Users\\alexa\\AppData\\Local\\Temp\\ipykernel_72564\\1941495575.py:9: FutureWarning: suggest_loguniform has been deprecated in v3.0.0. This feature will be removed in v6.0.0. See https://github.com/optuna/optuna/releases/tag/v3.0.0. Use suggest_float(..., log=True) instead.\n",
      "  \"gb__learning_rate\":      trial.suggest_loguniform(\"learning_rate\", 1e-3, 0.3),\n",
      "C:\\Users\\alexa\\AppData\\Local\\Temp\\ipykernel_72564\\1941495575.py:13: FutureWarning: suggest_uniform has been deprecated in v3.0.0. This feature will be removed in v6.0.0. See https://github.com/optuna/optuna/releases/tag/v3.0.0. Use suggest_float instead.\n",
      "  \"gb__l2_regularization\":  trial.suggest_uniform(\"l2_regularization\", 0.0, 2.0)\n"
     ]
    },
    {
     "name": "stdout",
     "output_type": "stream",
     "text": [
      "[I 2025-07-06 18:13:41,324] Trial 34 finished with value: 0.7128153452896073 and parameters: {'learning_rate': 0.10662609958343988, 'max_leaf_nodes': 128, 'max_depth': 4, 'min_samples_leaf': 70, 'l2_regularization': 1.6991787278056512}. Best is trial 21 with value: 0.7144807245847764.\n"
     ]
    },
    {
     "name": "stderr",
     "output_type": "stream",
     "text": [
      "Best trial: 21. Best value: 0.714481:  18%|█▊        | 36/200 [01:48<06:36,  2.42s/it]C:\\Users\\alexa\\AppData\\Local\\Temp\\ipykernel_72564\\1941495575.py:9: FutureWarning: suggest_loguniform has been deprecated in v3.0.0. This feature will be removed in v6.0.0. See https://github.com/optuna/optuna/releases/tag/v3.0.0. Use suggest_float(..., log=True) instead.\n",
      "  \"gb__learning_rate\":      trial.suggest_loguniform(\"learning_rate\", 1e-3, 0.3),\n",
      "C:\\Users\\alexa\\AppData\\Local\\Temp\\ipykernel_72564\\1941495575.py:13: FutureWarning: suggest_uniform has been deprecated in v3.0.0. This feature will be removed in v6.0.0. See https://github.com/optuna/optuna/releases/tag/v3.0.0. Use suggest_float instead.\n",
      "  \"gb__l2_regularization\":  trial.suggest_uniform(\"l2_regularization\", 0.0, 2.0)\n"
     ]
    },
    {
     "name": "stdout",
     "output_type": "stream",
     "text": [
      "[I 2025-07-06 18:13:43,800] Trial 35 finished with value: 0.7135156023395169 and parameters: {'learning_rate': 0.16059994724625762, 'max_leaf_nodes': 205, 'max_depth': 3, 'min_samples_leaf': 20, 'l2_regularization': 0.9854994948599564}. Best is trial 21 with value: 0.7144807245847764.\n"
     ]
    },
    {
     "name": "stderr",
     "output_type": "stream",
     "text": [
      "Best trial: 21. Best value: 0.714481:  18%|█▊        | 37/200 [01:50<06:37,  2.44s/it]C:\\Users\\alexa\\AppData\\Local\\Temp\\ipykernel_72564\\1941495575.py:9: FutureWarning: suggest_loguniform has been deprecated in v3.0.0. This feature will be removed in v6.0.0. See https://github.com/optuna/optuna/releases/tag/v3.0.0. Use suggest_float(..., log=True) instead.\n",
      "  \"gb__learning_rate\":      trial.suggest_loguniform(\"learning_rate\", 1e-3, 0.3),\n",
      "C:\\Users\\alexa\\AppData\\Local\\Temp\\ipykernel_72564\\1941495575.py:13: FutureWarning: suggest_uniform has been deprecated in v3.0.0. This feature will be removed in v6.0.0. See https://github.com/optuna/optuna/releases/tag/v3.0.0. Use suggest_float instead.\n",
      "  \"gb__l2_regularization\":  trial.suggest_uniform(\"l2_regularization\", 0.0, 2.0)\n"
     ]
    },
    {
     "name": "stdout",
     "output_type": "stream",
     "text": [
      "[I 2025-07-06 18:13:46,293] Trial 36 finished with value: 0.7113752597375498 and parameters: {'learning_rate': 0.10029101803798822, 'max_leaf_nodes': 139, 'max_depth': 2, 'min_samples_leaf': 34, 'l2_regularization': 1.3464858900973544}. Best is trial 21 with value: 0.7144807245847764.\n"
     ]
    },
    {
     "name": "stderr",
     "output_type": "stream",
     "text": [
      "Best trial: 21. Best value: 0.714481:  19%|█▉        | 38/200 [01:55<08:27,  3.13s/it]C:\\Users\\alexa\\AppData\\Local\\Temp\\ipykernel_72564\\1941495575.py:9: FutureWarning: suggest_loguniform has been deprecated in v3.0.0. This feature will be removed in v6.0.0. See https://github.com/optuna/optuna/releases/tag/v3.0.0. Use suggest_float(..., log=True) instead.\n",
      "  \"gb__learning_rate\":      trial.suggest_loguniform(\"learning_rate\", 1e-3, 0.3),\n",
      "C:\\Users\\alexa\\AppData\\Local\\Temp\\ipykernel_72564\\1941495575.py:13: FutureWarning: suggest_uniform has been deprecated in v3.0.0. This feature will be removed in v6.0.0. See https://github.com/optuna/optuna/releases/tag/v3.0.0. Use suggest_float instead.\n",
      "  \"gb__l2_regularization\":  trial.suggest_uniform(\"l2_regularization\", 0.0, 2.0)\n"
     ]
    },
    {
     "name": "stdout",
     "output_type": "stream",
     "text": [
      "[I 2025-07-06 18:13:51,036] Trial 37 finished with value: 0.6902973671876131 and parameters: {'learning_rate': 0.008337340966511318, 'max_leaf_nodes': 173, 'max_depth': 7, 'min_samples_leaf': 152, 'l2_regularization': 1.5457458005517601}. Best is trial 21 with value: 0.7144807245847764.\n"
     ]
    },
    {
     "name": "stderr",
     "output_type": "stream",
     "text": [
      "Best trial: 21. Best value: 0.714481:  20%|█▉        | 39/200 [01:59<09:04,  3.38s/it]C:\\Users\\alexa\\AppData\\Local\\Temp\\ipykernel_72564\\1941495575.py:9: FutureWarning: suggest_loguniform has been deprecated in v3.0.0. This feature will be removed in v6.0.0. See https://github.com/optuna/optuna/releases/tag/v3.0.0. Use suggest_float(..., log=True) instead.\n",
      "  \"gb__learning_rate\":      trial.suggest_loguniform(\"learning_rate\", 1e-3, 0.3),\n",
      "C:\\Users\\alexa\\AppData\\Local\\Temp\\ipykernel_72564\\1941495575.py:13: FutureWarning: suggest_uniform has been deprecated in v3.0.0. This feature will be removed in v6.0.0. See https://github.com/optuna/optuna/releases/tag/v3.0.0. Use suggest_float instead.\n",
      "  \"gb__l2_regularization\":  trial.suggest_uniform(\"l2_regularization\", 0.0, 2.0)\n"
     ]
    },
    {
     "name": "stdout",
     "output_type": "stream",
     "text": [
      "[I 2025-07-06 18:13:55,008] Trial 38 finished with value: 0.6681431649575666 and parameters: {'learning_rate': 0.003605021143156896, 'max_leaf_nodes': 111, 'max_depth': 5, 'min_samples_leaf': 68, 'l2_regularization': 0.7680632547932427}. Best is trial 21 with value: 0.7144807245847764.\n"
     ]
    },
    {
     "name": "stderr",
     "output_type": "stream",
     "text": [
      "Best trial: 21. Best value: 0.714481:  20%|██        | 40/200 [02:00<07:15,  2.72s/it]C:\\Users\\alexa\\AppData\\Local\\Temp\\ipykernel_72564\\1941495575.py:9: FutureWarning: suggest_loguniform has been deprecated in v3.0.0. This feature will be removed in v6.0.0. See https://github.com/optuna/optuna/releases/tag/v3.0.0. Use suggest_float(..., log=True) instead.\n",
      "  \"gb__learning_rate\":      trial.suggest_loguniform(\"learning_rate\", 1e-3, 0.3),\n",
      "C:\\Users\\alexa\\AppData\\Local\\Temp\\ipykernel_72564\\1941495575.py:13: FutureWarning: suggest_uniform has been deprecated in v3.0.0. This feature will be removed in v6.0.0. See https://github.com/optuna/optuna/releases/tag/v3.0.0. Use suggest_float instead.\n",
      "  \"gb__l2_regularization\":  trial.suggest_uniform(\"l2_regularization\", 0.0, 2.0)\n"
     ]
    },
    {
     "name": "stdout",
     "output_type": "stream",
     "text": [
      "[I 2025-07-06 18:13:56,185] Trial 39 finished with value: 0.7120940667831692 and parameters: {'learning_rate': 0.22019995348298485, 'max_leaf_nodes': 197, 'max_depth': 9, 'min_samples_leaf': 85, 'l2_regularization': 1.6481469976589616}. Best is trial 21 with value: 0.7144807245847764.\n"
     ]
    },
    {
     "name": "stderr",
     "output_type": "stream",
     "text": [
      "Best trial: 21. Best value: 0.714481:  20%|██        | 41/200 [02:04<07:41,  2.90s/it]C:\\Users\\alexa\\AppData\\Local\\Temp\\ipykernel_72564\\1941495575.py:9: FutureWarning: suggest_loguniform has been deprecated in v3.0.0. This feature will be removed in v6.0.0. See https://github.com/optuna/optuna/releases/tag/v3.0.0. Use suggest_float(..., log=True) instead.\n",
      "  \"gb__learning_rate\":      trial.suggest_loguniform(\"learning_rate\", 1e-3, 0.3),\n",
      "C:\\Users\\alexa\\AppData\\Local\\Temp\\ipykernel_72564\\1941495575.py:13: FutureWarning: suggest_uniform has been deprecated in v3.0.0. This feature will be removed in v6.0.0. See https://github.com/optuna/optuna/releases/tag/v3.0.0. Use suggest_float instead.\n",
      "  \"gb__l2_regularization\":  trial.suggest_uniform(\"l2_regularization\", 0.0, 2.0)\n"
     ]
    },
    {
     "name": "stdout",
     "output_type": "stream",
     "text": [
      "[I 2025-07-06 18:13:59,512] Trial 40 finished with value: 0.7092093297315292 and parameters: {'learning_rate': 0.028139455040417847, 'max_leaf_nodes': 155, 'max_depth': 4, 'min_samples_leaf': 20, 'l2_regularization': 1.2073239510584983}. Best is trial 21 with value: 0.7144807245847764.\n"
     ]
    },
    {
     "name": "stderr",
     "output_type": "stream",
     "text": [
      "Best trial: 21. Best value: 0.714481:  21%|██        | 42/200 [02:06<07:14,  2.75s/it]C:\\Users\\alexa\\AppData\\Local\\Temp\\ipykernel_72564\\1941495575.py:9: FutureWarning: suggest_loguniform has been deprecated in v3.0.0. This feature will be removed in v6.0.0. See https://github.com/optuna/optuna/releases/tag/v3.0.0. Use suggest_float(..., log=True) instead.\n",
      "  \"gb__learning_rate\":      trial.suggest_loguniform(\"learning_rate\", 1e-3, 0.3),\n",
      "C:\\Users\\alexa\\AppData\\Local\\Temp\\ipykernel_72564\\1941495575.py:13: FutureWarning: suggest_uniform has been deprecated in v3.0.0. This feature will be removed in v6.0.0. See https://github.com/optuna/optuna/releases/tag/v3.0.0. Use suggest_float instead.\n",
      "  \"gb__l2_regularization\":  trial.suggest_uniform(\"l2_regularization\", 0.0, 2.0)\n"
     ]
    },
    {
     "name": "stdout",
     "output_type": "stream",
     "text": [
      "[I 2025-07-06 18:14:01,907] Trial 41 finished with value: 0.7138720916155317 and parameters: {'learning_rate': 0.15628291732801897, 'max_leaf_nodes': 176, 'max_depth': 3, 'min_samples_leaf': 11, 'l2_regularization': 1.3515365495769986}. Best is trial 21 with value: 0.7144807245847764.\n"
     ]
    },
    {
     "name": "stderr",
     "output_type": "stream",
     "text": [
      "Best trial: 21. Best value: 0.714481:  22%|██▏       | 43/200 [02:09<07:08,  2.73s/it]C:\\Users\\alexa\\AppData\\Local\\Temp\\ipykernel_72564\\1941495575.py:9: FutureWarning: suggest_loguniform has been deprecated in v3.0.0. This feature will be removed in v6.0.0. See https://github.com/optuna/optuna/releases/tag/v3.0.0. Use suggest_float(..., log=True) instead.\n",
      "  \"gb__learning_rate\":      trial.suggest_loguniform(\"learning_rate\", 1e-3, 0.3),\n",
      "C:\\Users\\alexa\\AppData\\Local\\Temp\\ipykernel_72564\\1941495575.py:13: FutureWarning: suggest_uniform has been deprecated in v3.0.0. This feature will be removed in v6.0.0. See https://github.com/optuna/optuna/releases/tag/v3.0.0. Use suggest_float instead.\n",
      "  \"gb__l2_regularization\":  trial.suggest_uniform(\"l2_regularization\", 0.0, 2.0)\n"
     ]
    },
    {
     "name": "stdout",
     "output_type": "stream",
     "text": [
      "[I 2025-07-06 18:14:04,588] Trial 42 finished with value: 0.7135963945485895 and parameters: {'learning_rate': 0.14835149671049025, 'max_leaf_nodes': 133, 'max_depth': 3, 'min_samples_leaf': 31, 'l2_regularization': 1.36536412614573}. Best is trial 21 with value: 0.7144807245847764.\n"
     ]
    },
    {
     "name": "stderr",
     "output_type": "stream",
     "text": [
      "Best trial: 21. Best value: 0.714481:  22%|██▏       | 44/200 [02:12<07:12,  2.77s/it]C:\\Users\\alexa\\AppData\\Local\\Temp\\ipykernel_72564\\1941495575.py:9: FutureWarning: suggest_loguniform has been deprecated in v3.0.0. This feature will be removed in v6.0.0. See https://github.com/optuna/optuna/releases/tag/v3.0.0. Use suggest_float(..., log=True) instead.\n",
      "  \"gb__learning_rate\":      trial.suggest_loguniform(\"learning_rate\", 1e-3, 0.3),\n",
      "C:\\Users\\alexa\\AppData\\Local\\Temp\\ipykernel_72564\\1941495575.py:13: FutureWarning: suggest_uniform has been deprecated in v3.0.0. This feature will be removed in v6.0.0. See https://github.com/optuna/optuna/releases/tag/v3.0.0. Use suggest_float instead.\n",
      "  \"gb__l2_regularization\":  trial.suggest_uniform(\"l2_regularization\", 0.0, 2.0)\n"
     ]
    },
    {
     "name": "stdout",
     "output_type": "stream",
     "text": [
      "[I 2025-07-06 18:14:07,462] Trial 43 finished with value: 0.7122066728079728 and parameters: {'learning_rate': 0.07628910945683069, 'max_leaf_nodes': 219, 'max_depth': 3, 'min_samples_leaf': 46, 'l2_regularization': 0.940284264593623}. Best is trial 21 with value: 0.7144807245847764.\n"
     ]
    },
    {
     "name": "stderr",
     "output_type": "stream",
     "text": [
      "Best trial: 21. Best value: 0.714481:  22%|██▎       | 45/200 [02:14<06:44,  2.61s/it]C:\\Users\\alexa\\AppData\\Local\\Temp\\ipykernel_72564\\1941495575.py:9: FutureWarning: suggest_loguniform has been deprecated in v3.0.0. This feature will be removed in v6.0.0. See https://github.com/optuna/optuna/releases/tag/v3.0.0. Use suggest_float(..., log=True) instead.\n",
      "  \"gb__learning_rate\":      trial.suggest_loguniform(\"learning_rate\", 1e-3, 0.3),\n",
      "C:\\Users\\alexa\\AppData\\Local\\Temp\\ipykernel_72564\\1941495575.py:13: FutureWarning: suggest_uniform has been deprecated in v3.0.0. This feature will be removed in v6.0.0. See https://github.com/optuna/optuna/releases/tag/v3.0.0. Use suggest_float instead.\n",
      "  \"gb__l2_regularization\":  trial.suggest_uniform(\"l2_regularization\", 0.0, 2.0)\n"
     ]
    },
    {
     "name": "stdout",
     "output_type": "stream",
     "text": [
      "[I 2025-07-06 18:14:09,692] Trial 44 finished with value: 0.7139894986993683 and parameters: {'learning_rate': 0.24178550516437616, 'max_leaf_nodes': 192, 'max_depth': 2, 'min_samples_leaf': 17, 'l2_regularization': 1.4562236306351286}. Best is trial 21 with value: 0.7144807245847764.\n"
     ]
    },
    {
     "name": "stderr",
     "output_type": "stream",
     "text": [
      "Best trial: 21. Best value: 0.714481:  23%|██▎       | 46/200 [02:16<06:36,  2.57s/it]C:\\Users\\alexa\\AppData\\Local\\Temp\\ipykernel_72564\\1941495575.py:9: FutureWarning: suggest_loguniform has been deprecated in v3.0.0. This feature will be removed in v6.0.0. See https://github.com/optuna/optuna/releases/tag/v3.0.0. Use suggest_float(..., log=True) instead.\n",
      "  \"gb__learning_rate\":      trial.suggest_loguniform(\"learning_rate\", 1e-3, 0.3),\n",
      "C:\\Users\\alexa\\AppData\\Local\\Temp\\ipykernel_72564\\1941495575.py:13: FutureWarning: suggest_uniform has been deprecated in v3.0.0. This feature will be removed in v6.0.0. See https://github.com/optuna/optuna/releases/tag/v3.0.0. Use suggest_float instead.\n",
      "  \"gb__l2_regularization\":  trial.suggest_uniform(\"l2_regularization\", 0.0, 2.0)\n"
     ]
    },
    {
     "name": "stdout",
     "output_type": "stream",
     "text": [
      "[I 2025-07-06 18:14:12,183] Trial 45 finished with value: 0.7127265019803648 and parameters: {'learning_rate': 0.223135061731667, 'max_leaf_nodes': 197, 'max_depth': 2, 'min_samples_leaf': 149, 'l2_regularization': 1.4578284254917553}. Best is trial 21 with value: 0.7144807245847764.\n"
     ]
    },
    {
     "name": "stderr",
     "output_type": "stream",
     "text": [
      "Best trial: 21. Best value: 0.714481:  24%|██▎       | 47/200 [02:19<06:39,  2.61s/it]C:\\Users\\alexa\\AppData\\Local\\Temp\\ipykernel_72564\\1941495575.py:9: FutureWarning: suggest_loguniform has been deprecated in v3.0.0. This feature will be removed in v6.0.0. See https://github.com/optuna/optuna/releases/tag/v3.0.0. Use suggest_float(..., log=True) instead.\n",
      "  \"gb__learning_rate\":      trial.suggest_loguniform(\"learning_rate\", 1e-3, 0.3),\n",
      "C:\\Users\\alexa\\AppData\\Local\\Temp\\ipykernel_72564\\1941495575.py:13: FutureWarning: suggest_uniform has been deprecated in v3.0.0. This feature will be removed in v6.0.0. See https://github.com/optuna/optuna/releases/tag/v3.0.0. Use suggest_float instead.\n",
      "  \"gb__l2_regularization\":  trial.suggest_uniform(\"l2_regularization\", 0.0, 2.0)\n"
     ]
    },
    {
     "name": "stdout",
     "output_type": "stream",
     "text": [
      "[I 2025-07-06 18:14:14,879] Trial 46 finished with value: 0.7115100842480784 and parameters: {'learning_rate': 0.11215310209989984, 'max_leaf_nodes': 188, 'max_depth': 2, 'min_samples_leaf': 35, 'l2_regularization': 0.6968736127542138}. Best is trial 21 with value: 0.7144807245847764.\n"
     ]
    },
    {
     "name": "stderr",
     "output_type": "stream",
     "text": [
      "Best trial: 21. Best value: 0.714481:  24%|██▍       | 48/200 [02:22<07:07,  2.81s/it]C:\\Users\\alexa\\AppData\\Local\\Temp\\ipykernel_72564\\1941495575.py:9: FutureWarning: suggest_loguniform has been deprecated in v3.0.0. This feature will be removed in v6.0.0. See https://github.com/optuna/optuna/releases/tag/v3.0.0. Use suggest_float(..., log=True) instead.\n",
      "  \"gb__learning_rate\":      trial.suggest_loguniform(\"learning_rate\", 1e-3, 0.3),\n",
      "C:\\Users\\alexa\\AppData\\Local\\Temp\\ipykernel_72564\\1941495575.py:13: FutureWarning: suggest_uniform has been deprecated in v3.0.0. This feature will be removed in v6.0.0. See https://github.com/optuna/optuna/releases/tag/v3.0.0. Use suggest_float instead.\n",
      "  \"gb__l2_regularization\":  trial.suggest_uniform(\"l2_regularization\", 0.0, 2.0)\n"
     ]
    },
    {
     "name": "stdout",
     "output_type": "stream",
     "text": [
      "[I 2025-07-06 18:14:18,158] Trial 47 finished with value: 0.7123618922547948 and parameters: {'learning_rate': 0.04726778424518717, 'max_leaf_nodes': 177, 'max_depth': 4, 'min_samples_leaf': 18, 'l2_regularization': 1.270954981065674}. Best is trial 21 with value: 0.7144807245847764.\n"
     ]
    },
    {
     "name": "stderr",
     "output_type": "stream",
     "text": [
      "Best trial: 21. Best value: 0.714481:  24%|██▍       | 49/200 [02:25<06:58,  2.77s/it]C:\\Users\\alexa\\AppData\\Local\\Temp\\ipykernel_72564\\1941495575.py:9: FutureWarning: suggest_loguniform has been deprecated in v3.0.0. This feature will be removed in v6.0.0. See https://github.com/optuna/optuna/releases/tag/v3.0.0. Use suggest_float(..., log=True) instead.\n",
      "  \"gb__learning_rate\":      trial.suggest_loguniform(\"learning_rate\", 1e-3, 0.3),\n",
      "C:\\Users\\alexa\\AppData\\Local\\Temp\\ipykernel_72564\\1941495575.py:13: FutureWarning: suggest_uniform has been deprecated in v3.0.0. This feature will be removed in v6.0.0. See https://github.com/optuna/optuna/releases/tag/v3.0.0. Use suggest_float instead.\n",
      "  \"gb__l2_regularization\":  trial.suggest_uniform(\"l2_regularization\", 0.0, 2.0)\n"
     ]
    },
    {
     "name": "stdout",
     "output_type": "stream",
     "text": [
      "[I 2025-07-06 18:14:20,828] Trial 48 finished with value: 0.6079093467373342 and parameters: {'learning_rate': 0.0014694304201989157, 'max_leaf_nodes': 250, 'max_depth': 2, 'min_samples_leaf': 63, 'l2_regularization': 1.1629818919208528}. Best is trial 21 with value: 0.7144807245847764.\n"
     ]
    },
    {
     "name": "stderr",
     "output_type": "stream",
     "text": [
      "Best trial: 21. Best value: 0.714481:  25%|██▌       | 50/200 [02:28<07:12,  2.89s/it]C:\\Users\\alexa\\AppData\\Local\\Temp\\ipykernel_72564\\1941495575.py:9: FutureWarning: suggest_loguniform has been deprecated in v3.0.0. This feature will be removed in v6.0.0. See https://github.com/optuna/optuna/releases/tag/v3.0.0. Use suggest_float(..., log=True) instead.\n",
      "  \"gb__learning_rate\":      trial.suggest_loguniform(\"learning_rate\", 1e-3, 0.3),\n",
      "C:\\Users\\alexa\\AppData\\Local\\Temp\\ipykernel_72564\\1941495575.py:13: FutureWarning: suggest_uniform has been deprecated in v3.0.0. This feature will be removed in v6.0.0. See https://github.com/optuna/optuna/releases/tag/v3.0.0. Use suggest_float instead.\n",
      "  \"gb__l2_regularization\":  trial.suggest_uniform(\"l2_regularization\", 0.0, 2.0)\n"
     ]
    },
    {
     "name": "stdout",
     "output_type": "stream",
     "text": [
      "[I 2025-07-06 18:14:23,989] Trial 49 finished with value: 0.7132308426608059 and parameters: {'learning_rate': 0.05700933392366488, 'max_leaf_nodes': 152, 'max_depth': 4, 'min_samples_leaf': 45, 'l2_regularization': 1.0295007837651944}. Best is trial 21 with value: 0.7144807245847764.\n"
     ]
    },
    {
     "name": "stderr",
     "output_type": "stream",
     "text": [
      "Best trial: 21. Best value: 0.714481:  26%|██▌       | 51/200 [02:31<07:16,  2.93s/it]C:\\Users\\alexa\\AppData\\Local\\Temp\\ipykernel_72564\\1941495575.py:9: FutureWarning: suggest_loguniform has been deprecated in v3.0.0. This feature will be removed in v6.0.0. See https://github.com/optuna/optuna/releases/tag/v3.0.0. Use suggest_float(..., log=True) instead.\n",
      "  \"gb__learning_rate\":      trial.suggest_loguniform(\"learning_rate\", 1e-3, 0.3),\n",
      "C:\\Users\\alexa\\AppData\\Local\\Temp\\ipykernel_72564\\1941495575.py:13: FutureWarning: suggest_uniform has been deprecated in v3.0.0. This feature will be removed in v6.0.0. See https://github.com/optuna/optuna/releases/tag/v3.0.0. Use suggest_float instead.\n",
      "  \"gb__l2_regularization\":  trial.suggest_uniform(\"l2_regularization\", 0.0, 2.0)\n"
     ]
    },
    {
     "name": "stdout",
     "output_type": "stream",
     "text": [
      "[I 2025-07-06 18:14:27,027] Trial 50 finished with value: 0.6952839463737568 and parameters: {'learning_rate': 0.01954185101600744, 'max_leaf_nodes': 211, 'max_depth': 3, 'min_samples_leaf': 28, 'l2_regularization': 0.4800532411911901}. Best is trial 21 with value: 0.7144807245847764.\n"
     ]
    },
    {
     "name": "stderr",
     "output_type": "stream",
     "text": [
      "Best trial: 21. Best value: 0.714481:  26%|██▌       | 52/200 [02:33<06:08,  2.49s/it]C:\\Users\\alexa\\AppData\\Local\\Temp\\ipykernel_72564\\1941495575.py:9: FutureWarning: suggest_loguniform has been deprecated in v3.0.0. This feature will be removed in v6.0.0. See https://github.com/optuna/optuna/releases/tag/v3.0.0. Use suggest_float(..., log=True) instead.\n",
      "  \"gb__learning_rate\":      trial.suggest_loguniform(\"learning_rate\", 1e-3, 0.3),\n",
      "C:\\Users\\alexa\\AppData\\Local\\Temp\\ipykernel_72564\\1941495575.py:13: FutureWarning: suggest_uniform has been deprecated in v3.0.0. This feature will be removed in v6.0.0. See https://github.com/optuna/optuna/releases/tag/v3.0.0. Use suggest_float instead.\n",
      "  \"gb__l2_regularization\":  trial.suggest_uniform(\"l2_regularization\", 0.0, 2.0)\n"
     ]
    },
    {
     "name": "stdout",
     "output_type": "stream",
     "text": [
      "[I 2025-07-06 18:14:28,488] Trial 51 finished with value: 0.7127548338819916 and parameters: {'learning_rate': 0.24298360984166717, 'max_leaf_nodes': 165, 'max_depth': 3, 'min_samples_leaf': 16, 'l2_regularization': 1.5532917963360884}. Best is trial 21 with value: 0.7144807245847764.\n"
     ]
    },
    {
     "name": "stderr",
     "output_type": "stream",
     "text": [
      "Best trial: 21. Best value: 0.714481:  26%|██▋       | 53/200 [02:35<05:47,  2.37s/it]C:\\Users\\alexa\\AppData\\Local\\Temp\\ipykernel_72564\\1941495575.py:9: FutureWarning: suggest_loguniform has been deprecated in v3.0.0. This feature will be removed in v6.0.0. See https://github.com/optuna/optuna/releases/tag/v3.0.0. Use suggest_float(..., log=True) instead.\n",
      "  \"gb__learning_rate\":      trial.suggest_loguniform(\"learning_rate\", 1e-3, 0.3),\n",
      "C:\\Users\\alexa\\AppData\\Local\\Temp\\ipykernel_72564\\1941495575.py:13: FutureWarning: suggest_uniform has been deprecated in v3.0.0. This feature will be removed in v6.0.0. See https://github.com/optuna/optuna/releases/tag/v3.0.0. Use suggest_float instead.\n",
      "  \"gb__l2_regularization\":  trial.suggest_uniform(\"l2_regularization\", 0.0, 2.0)\n"
     ]
    },
    {
     "name": "stdout",
     "output_type": "stream",
     "text": [
      "[I 2025-07-06 18:14:30,565] Trial 52 finished with value: 0.7138962407450447 and parameters: {'learning_rate': 0.16753748096207205, 'max_leaf_nodes': 94, 'max_depth': 3, 'min_samples_leaf': 10, 'l2_regularization': 1.775952398951078}. Best is trial 21 with value: 0.7144807245847764.\n"
     ]
    },
    {
     "name": "stderr",
     "output_type": "stream",
     "text": [
      "Best trial: 21. Best value: 0.714481:  27%|██▋       | 54/200 [02:37<05:50,  2.40s/it]C:\\Users\\alexa\\AppData\\Local\\Temp\\ipykernel_72564\\1941495575.py:9: FutureWarning: suggest_loguniform has been deprecated in v3.0.0. This feature will be removed in v6.0.0. See https://github.com/optuna/optuna/releases/tag/v3.0.0. Use suggest_float(..., log=True) instead.\n",
      "  \"gb__learning_rate\":      trial.suggest_loguniform(\"learning_rate\", 1e-3, 0.3),\n",
      "C:\\Users\\alexa\\AppData\\Local\\Temp\\ipykernel_72564\\1941495575.py:13: FutureWarning: suggest_uniform has been deprecated in v3.0.0. This feature will be removed in v6.0.0. See https://github.com/optuna/optuna/releases/tag/v3.0.0. Use suggest_float instead.\n",
      "  \"gb__l2_regularization\":  trial.suggest_uniform(\"l2_regularization\", 0.0, 2.0)\n"
     ]
    },
    {
     "name": "stdout",
     "output_type": "stream",
     "text": [
      "[I 2025-07-06 18:14:33,050] Trial 53 finished with value: 0.7137351574895048 and parameters: {'learning_rate': 0.14801960545839238, 'max_leaf_nodes': 90, 'max_depth': 2, 'min_samples_leaf': 11, 'l2_regularization': 1.845786281603168}. Best is trial 21 with value: 0.7144807245847764.\n"
     ]
    },
    {
     "name": "stderr",
     "output_type": "stream",
     "text": [
      "Best trial: 21. Best value: 0.714481:  28%|██▊       | 55/200 [02:40<06:10,  2.55s/it]C:\\Users\\alexa\\AppData\\Local\\Temp\\ipykernel_72564\\1941495575.py:9: FutureWarning: suggest_loguniform has been deprecated in v3.0.0. This feature will be removed in v6.0.0. See https://github.com/optuna/optuna/releases/tag/v3.0.0. Use suggest_float(..., log=True) instead.\n",
      "  \"gb__learning_rate\":      trial.suggest_loguniform(\"learning_rate\", 1e-3, 0.3),\n",
      "C:\\Users\\alexa\\AppData\\Local\\Temp\\ipykernel_72564\\1941495575.py:13: FutureWarning: suggest_uniform has been deprecated in v3.0.0. This feature will be removed in v6.0.0. See https://github.com/optuna/optuna/releases/tag/v3.0.0. Use suggest_float instead.\n",
      "  \"gb__l2_regularization\":  trial.suggest_uniform(\"l2_regularization\", 0.0, 2.0)\n"
     ]
    },
    {
     "name": "stdout",
     "output_type": "stream",
     "text": [
      "[I 2025-07-06 18:14:35,961] Trial 54 finished with value: 0.7128604097466468 and parameters: {'learning_rate': 0.08738145775397133, 'max_leaf_nodes': 146, 'max_depth': 4, 'min_samples_leaf': 26, 'l2_regularization': 1.423421311979637}. Best is trial 21 with value: 0.7144807245847764.\n"
     ]
    },
    {
     "name": "stderr",
     "output_type": "stream",
     "text": [
      "Best trial: 21. Best value: 0.714481:  28%|██▊       | 56/200 [02:43<06:13,  2.59s/it]C:\\Users\\alexa\\AppData\\Local\\Temp\\ipykernel_72564\\1941495575.py:9: FutureWarning: suggest_loguniform has been deprecated in v3.0.0. This feature will be removed in v6.0.0. See https://github.com/optuna/optuna/releases/tag/v3.0.0. Use suggest_float(..., log=True) instead.\n",
      "  \"gb__learning_rate\":      trial.suggest_loguniform(\"learning_rate\", 1e-3, 0.3),\n",
      "C:\\Users\\alexa\\AppData\\Local\\Temp\\ipykernel_72564\\1941495575.py:13: FutureWarning: suggest_uniform has been deprecated in v3.0.0. This feature will be removed in v6.0.0. See https://github.com/optuna/optuna/releases/tag/v3.0.0. Use suggest_float instead.\n",
      "  \"gb__l2_regularization\":  trial.suggest_uniform(\"l2_regularization\", 0.0, 2.0)\n"
     ]
    },
    {
     "name": "stdout",
     "output_type": "stream",
     "text": [
      "[I 2025-07-06 18:14:38,644] Trial 55 finished with value: 0.7140318926166997 and parameters: {'learning_rate': 0.17289276289015273, 'max_leaf_nodes': 102, 'max_depth': 3, 'min_samples_leaf': 110, 'l2_regularization': 1.744444707326485}. Best is trial 21 with value: 0.7144807245847764.\n"
     ]
    },
    {
     "name": "stderr",
     "output_type": "stream",
     "text": [
      "Best trial: 21. Best value: 0.714481:  28%|██▊       | 57/200 [02:45<06:07,  2.57s/it]C:\\Users\\alexa\\AppData\\Local\\Temp\\ipykernel_72564\\1941495575.py:9: FutureWarning: suggest_loguniform has been deprecated in v3.0.0. This feature will be removed in v6.0.0. See https://github.com/optuna/optuna/releases/tag/v3.0.0. Use suggest_float(..., log=True) instead.\n",
      "  \"gb__learning_rate\":      trial.suggest_loguniform(\"learning_rate\", 1e-3, 0.3),\n",
      "C:\\Users\\alexa\\AppData\\Local\\Temp\\ipykernel_72564\\1941495575.py:13: FutureWarning: suggest_uniform has been deprecated in v3.0.0. This feature will be removed in v6.0.0. See https://github.com/optuna/optuna/releases/tag/v3.0.0. Use suggest_float instead.\n",
      "  \"gb__l2_regularization\":  trial.suggest_uniform(\"l2_regularization\", 0.0, 2.0)\n"
     ]
    },
    {
     "name": "stdout",
     "output_type": "stream",
     "text": [
      "[I 2025-07-06 18:14:41,171] Trial 56 finished with value: 0.7117196450391103 and parameters: {'learning_rate': 0.12790053810186724, 'max_leaf_nodes': 99, 'max_depth': 2, 'min_samples_leaf': 99, 'l2_regularization': 1.7641610470430704}. Best is trial 21 with value: 0.7144807245847764.\n"
     ]
    },
    {
     "name": "stderr",
     "output_type": "stream",
     "text": [
      "Best trial: 21. Best value: 0.714481:  29%|██▉       | 58/200 [02:47<05:39,  2.39s/it]C:\\Users\\alexa\\AppData\\Local\\Temp\\ipykernel_72564\\1941495575.py:9: FutureWarning: suggest_loguniform has been deprecated in v3.0.0. This feature will be removed in v6.0.0. See https://github.com/optuna/optuna/releases/tag/v3.0.0. Use suggest_float(..., log=True) instead.\n",
      "  \"gb__learning_rate\":      trial.suggest_loguniform(\"learning_rate\", 1e-3, 0.3),\n",
      "C:\\Users\\alexa\\AppData\\Local\\Temp\\ipykernel_72564\\1941495575.py:13: FutureWarning: suggest_uniform has been deprecated in v3.0.0. This feature will be removed in v6.0.0. See https://github.com/optuna/optuna/releases/tag/v3.0.0. Use suggest_float instead.\n",
      "  \"gb__l2_regularization\":  trial.suggest_uniform(\"l2_regularization\", 0.0, 2.0)\n"
     ]
    },
    {
     "name": "stdout",
     "output_type": "stream",
     "text": [
      "[I 2025-07-06 18:14:43,137] Trial 57 finished with value: 0.7130557682389409 and parameters: {'learning_rate': 0.25775021380770524, 'max_leaf_nodes': 79, 'max_depth': 3, 'min_samples_leaf': 113, 'l2_regularization': 1.9920596209463879}. Best is trial 21 with value: 0.7144807245847764.\n"
     ]
    },
    {
     "name": "stderr",
     "output_type": "stream",
     "text": [
      "Best trial: 21. Best value: 0.714481:  30%|██▉       | 59/200 [02:49<05:19,  2.26s/it]C:\\Users\\alexa\\AppData\\Local\\Temp\\ipykernel_72564\\1941495575.py:9: FutureWarning: suggest_loguniform has been deprecated in v3.0.0. This feature will be removed in v6.0.0. See https://github.com/optuna/optuna/releases/tag/v3.0.0. Use suggest_float(..., log=True) instead.\n",
      "  \"gb__learning_rate\":      trial.suggest_loguniform(\"learning_rate\", 1e-3, 0.3),\n",
      "C:\\Users\\alexa\\AppData\\Local\\Temp\\ipykernel_72564\\1941495575.py:13: FutureWarning: suggest_uniform has been deprecated in v3.0.0. This feature will be removed in v6.0.0. See https://github.com/optuna/optuna/releases/tag/v3.0.0. Use suggest_float instead.\n",
      "  \"gb__l2_regularization\":  trial.suggest_uniform(\"l2_regularization\", 0.0, 2.0)\n"
     ]
    },
    {
     "name": "stdout",
     "output_type": "stream",
     "text": [
      "[I 2025-07-06 18:14:45,106] Trial 58 finished with value: 0.7121818531507357 and parameters: {'learning_rate': 0.17932878621487652, 'max_leaf_nodes': 54, 'max_depth': 5, 'min_samples_leaf': 132, 'l2_regularization': 1.8975686022783205}. Best is trial 21 with value: 0.7144807245847764.\n"
     ]
    },
    {
     "name": "stderr",
     "output_type": "stream",
     "text": [
      "Best trial: 21. Best value: 0.714481:  30%|███       | 60/200 [02:52<05:56,  2.55s/it]C:\\Users\\alexa\\AppData\\Local\\Temp\\ipykernel_72564\\1941495575.py:9: FutureWarning: suggest_loguniform has been deprecated in v3.0.0. This feature will be removed in v6.0.0. See https://github.com/optuna/optuna/releases/tag/v3.0.0. Use suggest_float(..., log=True) instead.\n",
      "  \"gb__learning_rate\":      trial.suggest_loguniform(\"learning_rate\", 1e-3, 0.3),\n",
      "C:\\Users\\alexa\\AppData\\Local\\Temp\\ipykernel_72564\\1941495575.py:13: FutureWarning: suggest_uniform has been deprecated in v3.0.0. This feature will be removed in v6.0.0. See https://github.com/optuna/optuna/releases/tag/v3.0.0. Use suggest_float instead.\n",
      "  \"gb__l2_regularization\":  trial.suggest_uniform(\"l2_regularization\", 0.0, 2.0)\n"
     ]
    },
    {
     "name": "stdout",
     "output_type": "stream",
     "text": [
      "[I 2025-07-06 18:14:48,319] Trial 59 finished with value: 0.7087122771755243 and parameters: {'learning_rate': 0.03755418038473589, 'max_leaf_nodes': 85, 'max_depth': 4, 'min_samples_leaf': 136, 'l2_regularization': 1.6270185890506503}. Best is trial 21 with value: 0.7144807245847764.\n"
     ]
    },
    {
     "name": "stderr",
     "output_type": "stream",
     "text": [
      "Best trial: 21. Best value: 0.714481:  30%|███       | 61/200 [02:55<05:57,  2.57s/it]C:\\Users\\alexa\\AppData\\Local\\Temp\\ipykernel_72564\\1941495575.py:9: FutureWarning: suggest_loguniform has been deprecated in v3.0.0. This feature will be removed in v6.0.0. See https://github.com/optuna/optuna/releases/tag/v3.0.0. Use suggest_float(..., log=True) instead.\n",
      "  \"gb__learning_rate\":      trial.suggest_loguniform(\"learning_rate\", 1e-3, 0.3),\n",
      "C:\\Users\\alexa\\AppData\\Local\\Temp\\ipykernel_72564\\1941495575.py:13: FutureWarning: suggest_uniform has been deprecated in v3.0.0. This feature will be removed in v6.0.0. See https://github.com/optuna/optuna/releases/tag/v3.0.0. Use suggest_float instead.\n",
      "  \"gb__l2_regularization\":  trial.suggest_uniform(\"l2_regularization\", 0.0, 2.0)\n"
     ]
    },
    {
     "name": "stdout",
     "output_type": "stream",
     "text": [
      "[I 2025-07-06 18:14:50,938] Trial 60 finished with value: 0.7110450849423323 and parameters: {'learning_rate': 0.12781219017983392, 'max_leaf_nodes': 118, 'max_depth': 2, 'min_samples_leaf': 86, 'l2_regularization': 1.761662786188939}. Best is trial 21 with value: 0.7144807245847764.\n"
     ]
    },
    {
     "name": "stderr",
     "output_type": "stream",
     "text": [
      "Best trial: 21. Best value: 0.714481:  31%|███       | 62/200 [02:57<05:44,  2.50s/it]C:\\Users\\alexa\\AppData\\Local\\Temp\\ipykernel_72564\\1941495575.py:9: FutureWarning: suggest_loguniform has been deprecated in v3.0.0. This feature will be removed in v6.0.0. See https://github.com/optuna/optuna/releases/tag/v3.0.0. Use suggest_float(..., log=True) instead.\n",
      "  \"gb__learning_rate\":      trial.suggest_loguniform(\"learning_rate\", 1e-3, 0.3),\n",
      "C:\\Users\\alexa\\AppData\\Local\\Temp\\ipykernel_72564\\1941495575.py:13: FutureWarning: suggest_uniform has been deprecated in v3.0.0. This feature will be removed in v6.0.0. See https://github.com/optuna/optuna/releases/tag/v3.0.0. Use suggest_float instead.\n",
      "  \"gb__l2_regularization\":  trial.suggest_uniform(\"l2_regularization\", 0.0, 2.0)\n"
     ]
    },
    {
     "name": "stdout",
     "output_type": "stream",
     "text": [
      "[I 2025-07-06 18:14:53,266] Trial 61 finished with value: 0.7125529650701179 and parameters: {'learning_rate': 0.19096065170351892, 'max_leaf_nodes': 105, 'max_depth': 3, 'min_samples_leaf': 109, 'l2_regularization': 1.3199762100806498}. Best is trial 21 with value: 0.7144807245847764.\n"
     ]
    },
    {
     "name": "stderr",
     "output_type": "stream",
     "text": [
      "Best trial: 21. Best value: 0.714481:  32%|███▏      | 63/200 [03:00<05:55,  2.60s/it]C:\\Users\\alexa\\AppData\\Local\\Temp\\ipykernel_72564\\1941495575.py:9: FutureWarning: suggest_loguniform has been deprecated in v3.0.0. This feature will be removed in v6.0.0. See https://github.com/optuna/optuna/releases/tag/v3.0.0. Use suggest_float(..., log=True) instead.\n",
      "  \"gb__learning_rate\":      trial.suggest_loguniform(\"learning_rate\", 1e-3, 0.3),\n",
      "C:\\Users\\alexa\\AppData\\Local\\Temp\\ipykernel_72564\\1941495575.py:13: FutureWarning: suggest_uniform has been deprecated in v3.0.0. This feature will be removed in v6.0.0. See https://github.com/optuna/optuna/releases/tag/v3.0.0. Use suggest_float instead.\n",
      "  \"gb__l2_regularization\":  trial.suggest_uniform(\"l2_regularization\", 0.0, 2.0)\n"
     ]
    },
    {
     "name": "stdout",
     "output_type": "stream",
     "text": [
      "[I 2025-07-06 18:14:56,094] Trial 62 finished with value: 0.7117485011766889 and parameters: {'learning_rate': 0.09352876704993089, 'max_leaf_nodes': 136, 'max_depth': 3, 'min_samples_leaf': 123, 'l2_regularization': 1.688276430137791}. Best is trial 21 with value: 0.7144807245847764.\n"
     ]
    },
    {
     "name": "stderr",
     "output_type": "stream",
     "text": [
      "Best trial: 21. Best value: 0.714481:  32%|███▏      | 64/200 [03:02<05:36,  2.47s/it]C:\\Users\\alexa\\AppData\\Local\\Temp\\ipykernel_72564\\1941495575.py:9: FutureWarning: suggest_loguniform has been deprecated in v3.0.0. This feature will be removed in v6.0.0. See https://github.com/optuna/optuna/releases/tag/v3.0.0. Use suggest_float(..., log=True) instead.\n",
      "  \"gb__learning_rate\":      trial.suggest_loguniform(\"learning_rate\", 1e-3, 0.3),\n",
      "C:\\Users\\alexa\\AppData\\Local\\Temp\\ipykernel_72564\\1941495575.py:13: FutureWarning: suggest_uniform has been deprecated in v3.0.0. This feature will be removed in v6.0.0. See https://github.com/optuna/optuna/releases/tag/v3.0.0. Use suggest_float instead.\n",
      "  \"gb__l2_regularization\":  trial.suggest_uniform(\"l2_regularization\", 0.0, 2.0)\n"
     ]
    },
    {
     "name": "stdout",
     "output_type": "stream",
     "text": [
      "[I 2025-07-06 18:14:58,277] Trial 63 finished with value: 0.7138915146146358 and parameters: {'learning_rate': 0.16321767657653136, 'max_leaf_nodes': 156, 'max_depth': 3, 'min_samples_leaf': 16, 'l2_regularization': 1.5111636430682882}. Best is trial 21 with value: 0.7144807245847764.\n"
     ]
    },
    {
     "name": "stderr",
     "output_type": "stream",
     "text": [
      "Best trial: 21. Best value: 0.714481:  32%|███▎      | 65/200 [03:05<05:25,  2.41s/it]C:\\Users\\alexa\\AppData\\Local\\Temp\\ipykernel_72564\\1941495575.py:9: FutureWarning: suggest_loguniform has been deprecated in v3.0.0. This feature will be removed in v6.0.0. See https://github.com/optuna/optuna/releases/tag/v3.0.0. Use suggest_float(..., log=True) instead.\n",
      "  \"gb__learning_rate\":      trial.suggest_loguniform(\"learning_rate\", 1e-3, 0.3),\n",
      "C:\\Users\\alexa\\AppData\\Local\\Temp\\ipykernel_72564\\1941495575.py:13: FutureWarning: suggest_uniform has been deprecated in v3.0.0. This feature will be removed in v6.0.0. See https://github.com/optuna/optuna/releases/tag/v3.0.0. Use suggest_float instead.\n",
      "  \"gb__l2_regularization\":  trial.suggest_uniform(\"l2_regularization\", 0.0, 2.0)\n"
     ]
    },
    {
     "name": "stdout",
     "output_type": "stream",
     "text": [
      "[I 2025-07-06 18:15:00,555] Trial 64 finished with value: 0.7128665648897352 and parameters: {'learning_rate': 0.25320229629078406, 'max_leaf_nodes': 173, 'max_depth': 2, 'min_samples_leaf': 19, 'l2_regularization': 1.533352577878072}. Best is trial 21 with value: 0.7144807245847764.\n"
     ]
    },
    {
     "name": "stderr",
     "output_type": "stream",
     "text": [
      "Best trial: 21. Best value: 0.714481:  33%|███▎      | 66/200 [03:07<05:35,  2.51s/it]C:\\Users\\alexa\\AppData\\Local\\Temp\\ipykernel_72564\\1941495575.py:9: FutureWarning: suggest_loguniform has been deprecated in v3.0.0. This feature will be removed in v6.0.0. See https://github.com/optuna/optuna/releases/tag/v3.0.0. Use suggest_float(..., log=True) instead.\n",
      "  \"gb__learning_rate\":      trial.suggest_loguniform(\"learning_rate\", 1e-3, 0.3),\n",
      "C:\\Users\\alexa\\AppData\\Local\\Temp\\ipykernel_72564\\1941495575.py:13: FutureWarning: suggest_uniform has been deprecated in v3.0.0. This feature will be removed in v6.0.0. See https://github.com/optuna/optuna/releases/tag/v3.0.0. Use suggest_float instead.\n",
      "  \"gb__l2_regularization\":  trial.suggest_uniform(\"l2_regularization\", 0.0, 2.0)\n"
     ]
    },
    {
     "name": "stdout",
     "output_type": "stream",
     "text": [
      "[I 2025-07-06 18:15:03,280] Trial 65 finished with value: 0.712940080440285 and parameters: {'learning_rate': 0.1317743628097206, 'max_leaf_nodes': 96, 'max_depth': 3, 'min_samples_leaf': 173, 'l2_regularization': 1.5998328704645015}. Best is trial 21 with value: 0.7144807245847764.\n"
     ]
    },
    {
     "name": "stderr",
     "output_type": "stream",
     "text": [
      "Best trial: 21. Best value: 0.714481:  34%|███▎      | 67/200 [03:10<05:47,  2.61s/it]C:\\Users\\alexa\\AppData\\Local\\Temp\\ipykernel_72564\\1941495575.py:9: FutureWarning: suggest_loguniform has been deprecated in v3.0.0. This feature will be removed in v6.0.0. See https://github.com/optuna/optuna/releases/tag/v3.0.0. Use suggest_float(..., log=True) instead.\n",
      "  \"gb__learning_rate\":      trial.suggest_loguniform(\"learning_rate\", 1e-3, 0.3),\n",
      "C:\\Users\\alexa\\AppData\\Local\\Temp\\ipykernel_72564\\1941495575.py:13: FutureWarning: suggest_uniform has been deprecated in v3.0.0. This feature will be removed in v6.0.0. See https://github.com/optuna/optuna/releases/tag/v3.0.0. Use suggest_float instead.\n",
      "  \"gb__l2_regularization\":  trial.suggest_uniform(\"l2_regularization\", 0.0, 2.0)\n"
     ]
    },
    {
     "name": "stdout",
     "output_type": "stream",
     "text": [
      "[I 2025-07-06 18:15:06,137] Trial 66 finished with value: 0.7125902775378267 and parameters: {'learning_rate': 0.07831071180440305, 'max_leaf_nodes': 117, 'max_depth': 4, 'min_samples_leaf': 25, 'l2_regularization': 1.8907785365577423}. Best is trial 21 with value: 0.7144807245847764.\n"
     ]
    },
    {
     "name": "stderr",
     "output_type": "stream",
     "text": [
      "Best trial: 21. Best value: 0.714481:  34%|███▍      | 68/200 [03:13<05:35,  2.54s/it]C:\\Users\\alexa\\AppData\\Local\\Temp\\ipykernel_72564\\1941495575.py:9: FutureWarning: suggest_loguniform has been deprecated in v3.0.0. This feature will be removed in v6.0.0. See https://github.com/optuna/optuna/releases/tag/v3.0.0. Use suggest_float(..., log=True) instead.\n",
      "  \"gb__learning_rate\":      trial.suggest_loguniform(\"learning_rate\", 1e-3, 0.3),\n",
      "C:\\Users\\alexa\\AppData\\Local\\Temp\\ipykernel_72564\\1941495575.py:13: FutureWarning: suggest_uniform has been deprecated in v3.0.0. This feature will be removed in v6.0.0. See https://github.com/optuna/optuna/releases/tag/v3.0.0. Use suggest_float instead.\n",
      "  \"gb__l2_regularization\":  trial.suggest_uniform(\"l2_regularization\", 0.0, 2.0)\n"
     ]
    },
    {
     "name": "stdout",
     "output_type": "stream",
     "text": [
      "[I 2025-07-06 18:15:08,500] Trial 67 finished with value: 0.713238772347337 and parameters: {'learning_rate': 0.17943660292267652, 'max_leaf_nodes': 190, 'max_depth': 3, 'min_samples_leaf': 37, 'l2_regularization': 1.7785653839362445}. Best is trial 21 with value: 0.7144807245847764.\n"
     ]
    },
    {
     "name": "stderr",
     "output_type": "stream",
     "text": [
      "Best trial: 21. Best value: 0.714481:  34%|███▍      | 69/200 [03:15<05:33,  2.54s/it]C:\\Users\\alexa\\AppData\\Local\\Temp\\ipykernel_72564\\1941495575.py:9: FutureWarning: suggest_loguniform has been deprecated in v3.0.0. This feature will be removed in v6.0.0. See https://github.com/optuna/optuna/releases/tag/v3.0.0. Use suggest_float(..., log=True) instead.\n",
      "  \"gb__learning_rate\":      trial.suggest_loguniform(\"learning_rate\", 1e-3, 0.3),\n",
      "C:\\Users\\alexa\\AppData\\Local\\Temp\\ipykernel_72564\\1941495575.py:13: FutureWarning: suggest_uniform has been deprecated in v3.0.0. This feature will be removed in v6.0.0. See https://github.com/optuna/optuna/releases/tag/v3.0.0. Use suggest_float instead.\n",
      "  \"gb__l2_regularization\":  trial.suggest_uniform(\"l2_regularization\", 0.0, 2.0)\n"
     ]
    },
    {
     "name": "stdout",
     "output_type": "stream",
     "text": [
      "[I 2025-07-06 18:15:11,060] Trial 68 finished with value: 0.710914534746321 and parameters: {'learning_rate': 0.11018543717175096, 'max_leaf_nodes': 69, 'max_depth': 2, 'min_samples_leaf': 92, 'l2_regularization': 1.5018318374443802}. Best is trial 21 with value: 0.7144807245847764.\n"
     ]
    },
    {
     "name": "stderr",
     "output_type": "stream",
     "text": [
      "Best trial: 21. Best value: 0.714481:  35%|███▌      | 70/200 [03:18<05:51,  2.70s/it]C:\\Users\\alexa\\AppData\\Local\\Temp\\ipykernel_72564\\1941495575.py:9: FutureWarning: suggest_loguniform has been deprecated in v3.0.0. This feature will be removed in v6.0.0. See https://github.com/optuna/optuna/releases/tag/v3.0.0. Use suggest_float(..., log=True) instead.\n",
      "  \"gb__learning_rate\":      trial.suggest_loguniform(\"learning_rate\", 1e-3, 0.3),\n",
      "C:\\Users\\alexa\\AppData\\Local\\Temp\\ipykernel_72564\\1941495575.py:13: FutureWarning: suggest_uniform has been deprecated in v3.0.0. This feature will be removed in v6.0.0. See https://github.com/optuna/optuna/releases/tag/v3.0.0. Use suggest_float instead.\n",
      "  \"gb__l2_regularization\":  trial.suggest_uniform(\"l2_regularization\", 0.0, 2.0)\n"
     ]
    },
    {
     "name": "stdout",
     "output_type": "stream",
     "text": [
      "[I 2025-07-06 18:15:14,127] Trial 69 finished with value: 0.6827809815444507 and parameters: {'learning_rate': 0.012342320285981354, 'max_leaf_nodes': 48, 'max_depth': 3, 'min_samples_leaf': 15, 'l2_regularization': 1.6718821942844784}. Best is trial 21 with value: 0.7144807245847764.\n"
     ]
    },
    {
     "name": "stderr",
     "output_type": "stream",
     "text": [
      "Best trial: 21. Best value: 0.714481:  36%|███▌      | 71/200 [03:20<04:58,  2.32s/it]C:\\Users\\alexa\\AppData\\Local\\Temp\\ipykernel_72564\\1941495575.py:9: FutureWarning: suggest_loguniform has been deprecated in v3.0.0. This feature will be removed in v6.0.0. See https://github.com/optuna/optuna/releases/tag/v3.0.0. Use suggest_float(..., log=True) instead.\n",
      "  \"gb__learning_rate\":      trial.suggest_loguniform(\"learning_rate\", 1e-3, 0.3),\n",
      "C:\\Users\\alexa\\AppData\\Local\\Temp\\ipykernel_72564\\1941495575.py:13: FutureWarning: suggest_uniform has been deprecated in v3.0.0. This feature will be removed in v6.0.0. See https://github.com/optuna/optuna/releases/tag/v3.0.0. Use suggest_float instead.\n",
      "  \"gb__l2_regularization\":  trial.suggest_uniform(\"l2_regularization\", 0.0, 2.0)\n"
     ]
    },
    {
     "name": "stdout",
     "output_type": "stream",
     "text": [
      "[I 2025-07-06 18:15:15,546] Trial 70 finished with value: 0.7123242662299595 and parameters: {'learning_rate': 0.1548509136484042, 'max_leaf_nodes': 132, 'max_depth': 6, 'min_samples_leaf': 30, 'l2_regularization': 0.18430496154386233}. Best is trial 21 with value: 0.7144807245847764.\n"
     ]
    },
    {
     "name": "stderr",
     "output_type": "stream",
     "text": [
      "Best trial: 21. Best value: 0.714481:  36%|███▌      | 72/200 [03:22<04:54,  2.30s/it]C:\\Users\\alexa\\AppData\\Local\\Temp\\ipykernel_72564\\1941495575.py:9: FutureWarning: suggest_loguniform has been deprecated in v3.0.0. This feature will be removed in v6.0.0. See https://github.com/optuna/optuna/releases/tag/v3.0.0. Use suggest_float(..., log=True) instead.\n",
      "  \"gb__learning_rate\":      trial.suggest_loguniform(\"learning_rate\", 1e-3, 0.3),\n",
      "C:\\Users\\alexa\\AppData\\Local\\Temp\\ipykernel_72564\\1941495575.py:13: FutureWarning: suggest_uniform has been deprecated in v3.0.0. This feature will be removed in v6.0.0. See https://github.com/optuna/optuna/releases/tag/v3.0.0. Use suggest_float instead.\n",
      "  \"gb__l2_regularization\":  trial.suggest_uniform(\"l2_regularization\", 0.0, 2.0)\n"
     ]
    },
    {
     "name": "stdout",
     "output_type": "stream",
     "text": [
      "[I 2025-07-06 18:15:17,812] Trial 71 finished with value: 0.7139526346581571 and parameters: {'learning_rate': 0.18281757504477383, 'max_leaf_nodes': 160, 'max_depth': 3, 'min_samples_leaf': 14, 'l2_regularization': 1.4379403365010055}. Best is trial 21 with value: 0.7144807245847764.\n"
     ]
    },
    {
     "name": "stderr",
     "output_type": "stream",
     "text": [
      "Best trial: 21. Best value: 0.714481:  36%|███▋      | 73/200 [03:23<04:11,  1.98s/it]C:\\Users\\alexa\\AppData\\Local\\Temp\\ipykernel_72564\\1941495575.py:9: FutureWarning: suggest_loguniform has been deprecated in v3.0.0. This feature will be removed in v6.0.0. See https://github.com/optuna/optuna/releases/tag/v3.0.0. Use suggest_float(..., log=True) instead.\n",
      "  \"gb__learning_rate\":      trial.suggest_loguniform(\"learning_rate\", 1e-3, 0.3),\n",
      "C:\\Users\\alexa\\AppData\\Local\\Temp\\ipykernel_72564\\1941495575.py:13: FutureWarning: suggest_uniform has been deprecated in v3.0.0. This feature will be removed in v6.0.0. See https://github.com/optuna/optuna/releases/tag/v3.0.0. Use suggest_float instead.\n",
      "  \"gb__l2_regularization\":  trial.suggest_uniform(\"l2_regularization\", 0.0, 2.0)\n"
     ]
    },
    {
     "name": "stdout",
     "output_type": "stream",
     "text": [
      "[I 2025-07-06 18:15:19,042] Trial 72 finished with value: 0.7128134366374027 and parameters: {'learning_rate': 0.26613396576373, 'max_leaf_nodes': 151, 'max_depth': 4, 'min_samples_leaf': 23, 'l2_regularization': 1.3943591499122718}. Best is trial 21 with value: 0.7144807245847764.\n"
     ]
    },
    {
     "name": "stderr",
     "output_type": "stream",
     "text": [
      "Best trial: 21. Best value: 0.714481:  37%|███▋      | 74/200 [03:25<04:12,  2.00s/it]C:\\Users\\alexa\\AppData\\Local\\Temp\\ipykernel_72564\\1941495575.py:9: FutureWarning: suggest_loguniform has been deprecated in v3.0.0. This feature will be removed in v6.0.0. See https://github.com/optuna/optuna/releases/tag/v3.0.0. Use suggest_float(..., log=True) instead.\n",
      "  \"gb__learning_rate\":      trial.suggest_loguniform(\"learning_rate\", 1e-3, 0.3),\n",
      "C:\\Users\\alexa\\AppData\\Local\\Temp\\ipykernel_72564\\1941495575.py:13: FutureWarning: suggest_uniform has been deprecated in v3.0.0. This feature will be removed in v6.0.0. See https://github.com/optuna/optuna/releases/tag/v3.0.0. Use suggest_float instead.\n",
      "  \"gb__l2_regularization\":  trial.suggest_uniform(\"l2_regularization\", 0.0, 2.0)\n"
     ]
    },
    {
     "name": "stdout",
     "output_type": "stream",
     "text": [
      "[I 2025-07-06 18:15:21,100] Trial 73 finished with value: 0.7138057539921936 and parameters: {'learning_rate': 0.21063343384311034, 'max_leaf_nodes': 161, 'max_depth': 3, 'min_samples_leaf': 15, 'l2_regularization': 1.5845556023512268}. Best is trial 21 with value: 0.7144807245847764.\n"
     ]
    },
    {
     "name": "stderr",
     "output_type": "stream",
     "text": [
      "Best trial: 21. Best value: 0.714481:  38%|███▊      | 75/200 [03:28<04:27,  2.14s/it]C:\\Users\\alexa\\AppData\\Local\\Temp\\ipykernel_72564\\1941495575.py:9: FutureWarning: suggest_loguniform has been deprecated in v3.0.0. This feature will be removed in v6.0.0. See https://github.com/optuna/optuna/releases/tag/v3.0.0. Use suggest_float(..., log=True) instead.\n",
      "  \"gb__learning_rate\":      trial.suggest_loguniform(\"learning_rate\", 1e-3, 0.3),\n",
      "C:\\Users\\alexa\\AppData\\Local\\Temp\\ipykernel_72564\\1941495575.py:13: FutureWarning: suggest_uniform has been deprecated in v3.0.0. This feature will be removed in v6.0.0. See https://github.com/optuna/optuna/releases/tag/v3.0.0. Use suggest_float instead.\n",
      "  \"gb__l2_regularization\":  trial.suggest_uniform(\"l2_regularization\", 0.0, 2.0)\n"
     ]
    },
    {
     "name": "stdout",
     "output_type": "stream",
     "text": [
      "[I 2025-07-06 18:15:23,555] Trial 74 finished with value: 0.713411066284994 and parameters: {'learning_rate': 0.14630771060723585, 'max_leaf_nodes': 181, 'max_depth': 3, 'min_samples_leaf': 10, 'l2_regularization': 1.3254180251545853}. Best is trial 21 with value: 0.7144807245847764.\n"
     ]
    },
    {
     "name": "stderr",
     "output_type": "stream",
     "text": [
      "Best trial: 21. Best value: 0.714481:  38%|███▊      | 76/200 [03:29<03:54,  1.89s/it]C:\\Users\\alexa\\AppData\\Local\\Temp\\ipykernel_72564\\1941495575.py:9: FutureWarning: suggest_loguniform has been deprecated in v3.0.0. This feature will be removed in v6.0.0. See https://github.com/optuna/optuna/releases/tag/v3.0.0. Use suggest_float(..., log=True) instead.\n",
      "  \"gb__learning_rate\":      trial.suggest_loguniform(\"learning_rate\", 1e-3, 0.3),\n",
      "C:\\Users\\alexa\\AppData\\Local\\Temp\\ipykernel_72564\\1941495575.py:13: FutureWarning: suggest_uniform has been deprecated in v3.0.0. This feature will be removed in v6.0.0. See https://github.com/optuna/optuna/releases/tag/v3.0.0. Use suggest_float instead.\n",
      "  \"gb__l2_regularization\":  trial.suggest_uniform(\"l2_regularization\", 0.0, 2.0)\n"
     ]
    },
    {
     "name": "stdout",
     "output_type": "stream",
     "text": [
      "[I 2025-07-06 18:15:24,859] Trial 75 finished with value: 0.7115031974271414 and parameters: {'learning_rate': 0.18533619970236972, 'max_leaf_nodes': 169, 'max_depth': 7, 'min_samples_leaf': 42, 'l2_regularization': 1.5037337726084266}. Best is trial 21 with value: 0.7144807245847764.\n"
     ]
    },
    {
     "name": "stderr",
     "output_type": "stream",
     "text": [
      "Best trial: 21. Best value: 0.714481:  38%|███▊      | 77/200 [03:31<04:16,  2.08s/it]C:\\Users\\alexa\\AppData\\Local\\Temp\\ipykernel_72564\\1941495575.py:9: FutureWarning: suggest_loguniform has been deprecated in v3.0.0. This feature will be removed in v6.0.0. See https://github.com/optuna/optuna/releases/tag/v3.0.0. Use suggest_float(..., log=True) instead.\n",
      "  \"gb__learning_rate\":      trial.suggest_loguniform(\"learning_rate\", 1e-3, 0.3),\n",
      "C:\\Users\\alexa\\AppData\\Local\\Temp\\ipykernel_72564\\1941495575.py:13: FutureWarning: suggest_uniform has been deprecated in v3.0.0. This feature will be removed in v6.0.0. See https://github.com/optuna/optuna/releases/tag/v3.0.0. Use suggest_float instead.\n",
      "  \"gb__l2_regularization\":  trial.suggest_uniform(\"l2_regularization\", 0.0, 2.0)\n"
     ]
    },
    {
     "name": "stdout",
     "output_type": "stream",
     "text": [
      "[I 2025-07-06 18:15:27,402] Trial 76 finished with value: 0.7099406936269822 and parameters: {'learning_rate': 0.10169450840036084, 'max_leaf_nodes': 142, 'max_depth': 2, 'min_samples_leaf': 77, 'l2_regularization': 1.7181174795728762}. Best is trial 21 with value: 0.7144807245847764.\n"
     ]
    },
    {
     "name": "stderr",
     "output_type": "stream",
     "text": [
      "Best trial: 21. Best value: 0.714481:  39%|███▉      | 78/200 [03:35<04:50,  2.38s/it]C:\\Users\\alexa\\AppData\\Local\\Temp\\ipykernel_72564\\1941495575.py:9: FutureWarning: suggest_loguniform has been deprecated in v3.0.0. This feature will be removed in v6.0.0. See https://github.com/optuna/optuna/releases/tag/v3.0.0. Use suggest_float(..., log=True) instead.\n",
      "  \"gb__learning_rate\":      trial.suggest_loguniform(\"learning_rate\", 1e-3, 0.3),\n",
      "C:\\Users\\alexa\\AppData\\Local\\Temp\\ipykernel_72564\\1941495575.py:13: FutureWarning: suggest_uniform has been deprecated in v3.0.0. This feature will be removed in v6.0.0. See https://github.com/optuna/optuna/releases/tag/v3.0.0. Use suggest_float instead.\n",
      "  \"gb__l2_regularization\":  trial.suggest_uniform(\"l2_regularization\", 0.0, 2.0)\n"
     ]
    },
    {
     "name": "stdout",
     "output_type": "stream",
     "text": [
      "[I 2025-07-06 18:15:30,460] Trial 77 finished with value: 0.7133197303087647 and parameters: {'learning_rate': 0.07183712340193056, 'max_leaf_nodes': 157, 'max_depth': 4, 'min_samples_leaf': 31, 'l2_regularization': 1.1449430137940269}. Best is trial 21 with value: 0.7144807245847764.\n"
     ]
    },
    {
     "name": "stderr",
     "output_type": "stream",
     "text": [
      "Best trial: 21. Best value: 0.714481:  40%|███▉      | 79/200 [03:36<04:28,  2.22s/it]C:\\Users\\alexa\\AppData\\Local\\Temp\\ipykernel_72564\\1941495575.py:9: FutureWarning: suggest_loguniform has been deprecated in v3.0.0. This feature will be removed in v6.0.0. See https://github.com/optuna/optuna/releases/tag/v3.0.0. Use suggest_float(..., log=True) instead.\n",
      "  \"gb__learning_rate\":      trial.suggest_loguniform(\"learning_rate\", 1e-3, 0.3),\n",
      "C:\\Users\\alexa\\AppData\\Local\\Temp\\ipykernel_72564\\1941495575.py:13: FutureWarning: suggest_uniform has been deprecated in v3.0.0. This feature will be removed in v6.0.0. See https://github.com/optuna/optuna/releases/tag/v3.0.0. Use suggest_float instead.\n",
      "  \"gb__l2_regularization\":  trial.suggest_uniform(\"l2_regularization\", 0.0, 2.0)\n"
     ]
    },
    {
     "name": "stdout",
     "output_type": "stream",
     "text": [
      "[I 2025-07-06 18:15:32,306] Trial 78 finished with value: 0.7141229734738077 and parameters: {'learning_rate': 0.292159129196187, 'max_leaf_nodes': 204, 'max_depth': 3, 'min_samples_leaf': 52, 'l2_regularization': 0.8741848243415179}. Best is trial 21 with value: 0.7144807245847764.\n"
     ]
    },
    {
     "name": "stderr",
     "output_type": "stream",
     "text": [
      "Best trial: 21. Best value: 0.714481:  40%|████      | 80/200 [03:39<04:26,  2.22s/it]C:\\Users\\alexa\\AppData\\Local\\Temp\\ipykernel_72564\\1941495575.py:9: FutureWarning: suggest_loguniform has been deprecated in v3.0.0. This feature will be removed in v6.0.0. See https://github.com/optuna/optuna/releases/tag/v3.0.0. Use suggest_float(..., log=True) instead.\n",
      "  \"gb__learning_rate\":      trial.suggest_loguniform(\"learning_rate\", 1e-3, 0.3),\n",
      "C:\\Users\\alexa\\AppData\\Local\\Temp\\ipykernel_72564\\1941495575.py:13: FutureWarning: suggest_uniform has been deprecated in v3.0.0. This feature will be removed in v6.0.0. See https://github.com/optuna/optuna/releases/tag/v3.0.0. Use suggest_float instead.\n",
      "  \"gb__l2_regularization\":  trial.suggest_uniform(\"l2_regularization\", 0.0, 2.0)\n"
     ]
    },
    {
     "name": "stdout",
     "output_type": "stream",
     "text": [
      "[I 2025-07-06 18:15:34,543] Trial 79 finished with value: 0.7131811311686236 and parameters: {'learning_rate': 0.2291775417576171, 'max_leaf_nodes': 215, 'max_depth': 2, 'min_samples_leaf': 55, 'l2_regularization': 0.8017222708127785}. Best is trial 21 with value: 0.7144807245847764.\n"
     ]
    },
    {
     "name": "stderr",
     "output_type": "stream",
     "text": [
      "Best trial: 21. Best value: 0.714481:  40%|████      | 81/200 [03:40<03:38,  1.83s/it]C:\\Users\\alexa\\AppData\\Local\\Temp\\ipykernel_72564\\1941495575.py:9: FutureWarning: suggest_loguniform has been deprecated in v3.0.0. This feature will be removed in v6.0.0. See https://github.com/optuna/optuna/releases/tag/v3.0.0. Use suggest_float(..., log=True) instead.\n",
      "  \"gb__learning_rate\":      trial.suggest_loguniform(\"learning_rate\", 1e-3, 0.3),\n",
      "C:\\Users\\alexa\\AppData\\Local\\Temp\\ipykernel_72564\\1941495575.py:13: FutureWarning: suggest_uniform has been deprecated in v3.0.0. This feature will be removed in v6.0.0. See https://github.com/optuna/optuna/releases/tag/v3.0.0. Use suggest_float instead.\n",
      "  \"gb__l2_regularization\":  trial.suggest_uniform(\"l2_regularization\", 0.0, 2.0)\n"
     ]
    },
    {
     "name": "stdout",
     "output_type": "stream",
     "text": [
      "[I 2025-07-06 18:15:35,466] Trial 80 finished with value: 0.7101080706596055 and parameters: {'learning_rate': 0.2992100385720708, 'max_leaf_nodes': 197, 'max_depth': 9, 'min_samples_leaf': 103, 'l2_regularization': 0.9341574477686372}. Best is trial 21 with value: 0.7144807245847764.\n"
     ]
    },
    {
     "name": "stderr",
     "output_type": "stream",
     "text": [
      "Best trial: 21. Best value: 0.714481:  41%|████      | 82/200 [03:42<03:44,  1.90s/it]C:\\Users\\alexa\\AppData\\Local\\Temp\\ipykernel_72564\\1941495575.py:9: FutureWarning: suggest_loguniform has been deprecated in v3.0.0. This feature will be removed in v6.0.0. See https://github.com/optuna/optuna/releases/tag/v3.0.0. Use suggest_float(..., log=True) instead.\n",
      "  \"gb__learning_rate\":      trial.suggest_loguniform(\"learning_rate\", 1e-3, 0.3),\n",
      "C:\\Users\\alexa\\AppData\\Local\\Temp\\ipykernel_72564\\1941495575.py:13: FutureWarning: suggest_uniform has been deprecated in v3.0.0. This feature will be removed in v6.0.0. See https://github.com/optuna/optuna/releases/tag/v3.0.0. Use suggest_float instead.\n",
      "  \"gb__l2_regularization\":  trial.suggest_uniform(\"l2_regularization\", 0.0, 2.0)\n"
     ]
    },
    {
     "name": "stdout",
     "output_type": "stream",
     "text": [
      "[I 2025-07-06 18:15:37,529] Trial 81 finished with value: 0.7130195743287541 and parameters: {'learning_rate': 0.19485316885105547, 'max_leaf_nodes': 223, 'max_depth': 3, 'min_samples_leaf': 20, 'l2_regularization': 0.641778581588837}. Best is trial 21 with value: 0.7144807245847764.\n"
     ]
    },
    {
     "name": "stderr",
     "output_type": "stream",
     "text": [
      "Best trial: 21. Best value: 0.714481:  42%|████▏     | 83/200 [03:44<03:54,  2.00s/it]C:\\Users\\alexa\\AppData\\Local\\Temp\\ipykernel_72564\\1941495575.py:9: FutureWarning: suggest_loguniform has been deprecated in v3.0.0. This feature will be removed in v6.0.0. See https://github.com/optuna/optuna/releases/tag/v3.0.0. Use suggest_float(..., log=True) instead.\n",
      "  \"gb__learning_rate\":      trial.suggest_loguniform(\"learning_rate\", 1e-3, 0.3),\n",
      "C:\\Users\\alexa\\AppData\\Local\\Temp\\ipykernel_72564\\1941495575.py:13: FutureWarning: suggest_uniform has been deprecated in v3.0.0. This feature will be removed in v6.0.0. See https://github.com/optuna/optuna/releases/tag/v3.0.0. Use suggest_float instead.\n",
      "  \"gb__l2_regularization\":  trial.suggest_uniform(\"l2_regularization\", 0.0, 2.0)\n"
     ]
    },
    {
     "name": "stdout",
     "output_type": "stream",
     "text": [
      "[I 2025-07-06 18:15:39,766] Trial 82 finished with value: 0.7135495770249034 and parameters: {'learning_rate': 0.1653596124909237, 'max_leaf_nodes': 202, 'max_depth': 3, 'min_samples_leaf': 24, 'l2_regularization': 0.7306953758913497}. Best is trial 21 with value: 0.7144807245847764.\n"
     ]
    },
    {
     "name": "stderr",
     "output_type": "stream",
     "text": [
      "Best trial: 21. Best value: 0.714481:  42%|████▏     | 84/200 [03:47<04:15,  2.20s/it]C:\\Users\\alexa\\AppData\\Local\\Temp\\ipykernel_72564\\1941495575.py:9: FutureWarning: suggest_loguniform has been deprecated in v3.0.0. This feature will be removed in v6.0.0. See https://github.com/optuna/optuna/releases/tag/v3.0.0. Use suggest_float(..., log=True) instead.\n",
      "  \"gb__learning_rate\":      trial.suggest_loguniform(\"learning_rate\", 1e-3, 0.3),\n",
      "C:\\Users\\alexa\\AppData\\Local\\Temp\\ipykernel_72564\\1941495575.py:13: FutureWarning: suggest_uniform has been deprecated in v3.0.0. This feature will be removed in v6.0.0. See https://github.com/optuna/optuna/releases/tag/v3.0.0. Use suggest_float instead.\n",
      "  \"gb__l2_regularization\":  trial.suggest_uniform(\"l2_regularization\", 0.0, 2.0)\n"
     ]
    },
    {
     "name": "stdout",
     "output_type": "stream",
     "text": [
      "[I 2025-07-06 18:15:42,435] Trial 83 finished with value: 0.71287898643618 and parameters: {'learning_rate': 0.12527370927275636, 'max_leaf_nodes': 179, 'max_depth': 3, 'min_samples_leaf': 15, 'l2_regularization': 0.8613392010212855}. Best is trial 21 with value: 0.7144807245847764.\n"
     ]
    },
    {
     "name": "stderr",
     "output_type": "stream",
     "text": [
      "Best trial: 21. Best value: 0.714481:  42%|████▎     | 85/200 [03:48<03:41,  1.93s/it]C:\\Users\\alexa\\AppData\\Local\\Temp\\ipykernel_72564\\1941495575.py:9: FutureWarning: suggest_loguniform has been deprecated in v3.0.0. This feature will be removed in v6.0.0. See https://github.com/optuna/optuna/releases/tag/v3.0.0. Use suggest_float(..., log=True) instead.\n",
      "  \"gb__learning_rate\":      trial.suggest_loguniform(\"learning_rate\", 1e-3, 0.3),\n",
      "C:\\Users\\alexa\\AppData\\Local\\Temp\\ipykernel_72564\\1941495575.py:13: FutureWarning: suggest_uniform has been deprecated in v3.0.0. This feature will be removed in v6.0.0. See https://github.com/optuna/optuna/releases/tag/v3.0.0. Use suggest_float instead.\n",
      "  \"gb__l2_regularization\":  trial.suggest_uniform(\"l2_regularization\", 0.0, 2.0)\n"
     ]
    },
    {
     "name": "stdout",
     "output_type": "stream",
     "text": [
      "[I 2025-07-06 18:15:43,728] Trial 84 finished with value: 0.7129842795047444 and parameters: {'learning_rate': 0.24884425216934672, 'max_leaf_nodes': 193, 'max_depth': 4, 'min_samples_leaf': 34, 'l2_regularization': 1.0285668148542209}. Best is trial 21 with value: 0.7144807245847764.\n"
     ]
    },
    {
     "name": "stderr",
     "output_type": "stream",
     "text": [
      "Best trial: 21. Best value: 0.714481:  43%|████▎     | 86/200 [03:50<03:53,  2.05s/it]C:\\Users\\alexa\\AppData\\Local\\Temp\\ipykernel_72564\\1941495575.py:9: FutureWarning: suggest_loguniform has been deprecated in v3.0.0. This feature will be removed in v6.0.0. See https://github.com/optuna/optuna/releases/tag/v3.0.0. Use suggest_float(..., log=True) instead.\n",
      "  \"gb__learning_rate\":      trial.suggest_loguniform(\"learning_rate\", 1e-3, 0.3),\n",
      "C:\\Users\\alexa\\AppData\\Local\\Temp\\ipykernel_72564\\1941495575.py:13: FutureWarning: suggest_uniform has been deprecated in v3.0.0. This feature will be removed in v6.0.0. See https://github.com/optuna/optuna/releases/tag/v3.0.0. Use suggest_float instead.\n",
      "  \"gb__l2_regularization\":  trial.suggest_uniform(\"l2_regularization\", 0.0, 2.0)\n"
     ]
    },
    {
     "name": "stdout",
     "output_type": "stream",
     "text": [
      "[I 2025-07-06 18:15:46,065] Trial 85 finished with value: 0.7126759777225102 and parameters: {'learning_rate': 0.14301860023053942, 'max_leaf_nodes': 237, 'max_depth': 3, 'min_samples_leaf': 10, 'l2_regularization': 1.2162980331790751}. Best is trial 21 with value: 0.7144807245847764.\n"
     ]
    },
    {
     "name": "stderr",
     "output_type": "stream",
     "text": [
      "Best trial: 21. Best value: 0.714481:  44%|████▎     | 87/200 [03:53<04:05,  2.17s/it]C:\\Users\\alexa\\AppData\\Local\\Temp\\ipykernel_72564\\1941495575.py:9: FutureWarning: suggest_loguniform has been deprecated in v3.0.0. This feature will be removed in v6.0.0. See https://github.com/optuna/optuna/releases/tag/v3.0.0. Use suggest_float(..., log=True) instead.\n",
      "  \"gb__learning_rate\":      trial.suggest_loguniform(\"learning_rate\", 1e-3, 0.3),\n",
      "C:\\Users\\alexa\\AppData\\Local\\Temp\\ipykernel_72564\\1941495575.py:13: FutureWarning: suggest_uniform has been deprecated in v3.0.0. This feature will be removed in v6.0.0. See https://github.com/optuna/optuna/releases/tag/v3.0.0. Use suggest_float instead.\n",
      "  \"gb__l2_regularization\":  trial.suggest_uniform(\"l2_regularization\", 0.0, 2.0)\n"
     ]
    },
    {
     "name": "stdout",
     "output_type": "stream",
     "text": [
      "[I 2025-07-06 18:15:48,512] Trial 86 finished with value: 0.7143172554777782 and parameters: {'learning_rate': 0.2083396574032395, 'max_leaf_nodes': 148, 'max_depth': 2, 'min_samples_leaf': 18, 'l2_regularization': 1.4583188557945261}. Best is trial 21 with value: 0.7144807245847764.\n"
     ]
    },
    {
     "name": "stderr",
     "output_type": "stream",
     "text": [
      "Best trial: 21. Best value: 0.714481:  44%|████▍     | 88/200 [03:55<04:13,  2.26s/it]C:\\Users\\alexa\\AppData\\Local\\Temp\\ipykernel_72564\\1941495575.py:9: FutureWarning: suggest_loguniform has been deprecated in v3.0.0. This feature will be removed in v6.0.0. See https://github.com/optuna/optuna/releases/tag/v3.0.0. Use suggest_float(..., log=True) instead.\n",
      "  \"gb__learning_rate\":      trial.suggest_loguniform(\"learning_rate\", 1e-3, 0.3),\n",
      "C:\\Users\\alexa\\AppData\\Local\\Temp\\ipykernel_72564\\1941495575.py:13: FutureWarning: suggest_uniform has been deprecated in v3.0.0. This feature will be removed in v6.0.0. See https://github.com/optuna/optuna/releases/tag/v3.0.0. Use suggest_float instead.\n",
      "  \"gb__l2_regularization\":  trial.suggest_uniform(\"l2_regularization\", 0.0, 2.0)\n"
     ]
    },
    {
     "name": "stdout",
     "output_type": "stream",
     "text": [
      "[I 2025-07-06 18:15:50,988] Trial 87 finished with value: 0.7139969594262362 and parameters: {'learning_rate': 0.2122214669034999, 'max_leaf_nodes': 129, 'max_depth': 2, 'min_samples_leaf': 40, 'l2_regularization': 1.6506334798917628}. Best is trial 21 with value: 0.7144807245847764.\n"
     ]
    },
    {
     "name": "stderr",
     "output_type": "stream",
     "text": [
      "Best trial: 21. Best value: 0.714481:  44%|████▍     | 89/200 [03:58<04:23,  2.37s/it]C:\\Users\\alexa\\AppData\\Local\\Temp\\ipykernel_72564\\1941495575.py:9: FutureWarning: suggest_loguniform has been deprecated in v3.0.0. This feature will be removed in v6.0.0. See https://github.com/optuna/optuna/releases/tag/v3.0.0. Use suggest_float(..., log=True) instead.\n",
      "  \"gb__learning_rate\":      trial.suggest_loguniform(\"learning_rate\", 1e-3, 0.3),\n",
      "C:\\Users\\alexa\\AppData\\Local\\Temp\\ipykernel_72564\\1941495575.py:13: FutureWarning: suggest_uniform has been deprecated in v3.0.0. This feature will be removed in v6.0.0. See https://github.com/optuna/optuna/releases/tag/v3.0.0. Use suggest_float instead.\n",
      "  \"gb__l2_regularization\":  trial.suggest_uniform(\"l2_regularization\", 0.0, 2.0)\n"
     ]
    },
    {
     "name": "stdout",
     "output_type": "stream",
     "text": [
      "[I 2025-07-06 18:15:53,607] Trial 88 finished with value: 0.7133490593345827 and parameters: {'learning_rate': 0.21994927135339207, 'max_leaf_nodes': 106, 'max_depth': 2, 'min_samples_leaf': 51, 'l2_regularization': 1.8621606237946606}. Best is trial 21 with value: 0.7144807245847764.\n"
     ]
    },
    {
     "name": "stderr",
     "output_type": "stream",
     "text": [
      "Best trial: 21. Best value: 0.714481:  45%|████▌     | 90/200 [04:00<04:09,  2.27s/it]C:\\Users\\alexa\\AppData\\Local\\Temp\\ipykernel_72564\\1941495575.py:9: FutureWarning: suggest_loguniform has been deprecated in v3.0.0. This feature will be removed in v6.0.0. See https://github.com/optuna/optuna/releases/tag/v3.0.0. Use suggest_float(..., log=True) instead.\n",
      "  \"gb__learning_rate\":      trial.suggest_loguniform(\"learning_rate\", 1e-3, 0.3),\n",
      "C:\\Users\\alexa\\AppData\\Local\\Temp\\ipykernel_72564\\1941495575.py:13: FutureWarning: suggest_uniform has been deprecated in v3.0.0. This feature will be removed in v6.0.0. See https://github.com/optuna/optuna/releases/tag/v3.0.0. Use suggest_float instead.\n",
      "  \"gb__l2_regularization\":  trial.suggest_uniform(\"l2_regularization\", 0.0, 2.0)\n"
     ]
    },
    {
     "name": "stdout",
     "output_type": "stream",
     "text": [
      "[I 2025-07-06 18:15:55,631] Trial 89 finished with value: 0.7128723953976346 and parameters: {'learning_rate': 0.26636110781628747, 'max_leaf_nodes': 129, 'max_depth': 2, 'min_samples_leaf': 41, 'l2_regularization': 1.8109980122822114}. Best is trial 21 with value: 0.7144807245847764.\n"
     ]
    },
    {
     "name": "stderr",
     "output_type": "stream",
     "text": [
      "Best trial: 21. Best value: 0.714481:  46%|████▌     | 91/200 [04:02<04:09,  2.29s/it]C:\\Users\\alexa\\AppData\\Local\\Temp\\ipykernel_72564\\1941495575.py:9: FutureWarning: suggest_loguniform has been deprecated in v3.0.0. This feature will be removed in v6.0.0. See https://github.com/optuna/optuna/releases/tag/v3.0.0. Use suggest_float(..., log=True) instead.\n",
      "  \"gb__learning_rate\":      trial.suggest_loguniform(\"learning_rate\", 1e-3, 0.3),\n",
      "C:\\Users\\alexa\\AppData\\Local\\Temp\\ipykernel_72564\\1941495575.py:13: FutureWarning: suggest_uniform has been deprecated in v3.0.0. This feature will be removed in v6.0.0. See https://github.com/optuna/optuna/releases/tag/v3.0.0. Use suggest_float instead.\n",
      "  \"gb__l2_regularization\":  trial.suggest_uniform(\"l2_regularization\", 0.0, 2.0)\n"
     ]
    },
    {
     "name": "stdout",
     "output_type": "stream",
     "text": [
      "[I 2025-07-06 18:15:57,967] Trial 90 finished with value: 0.7136774434047505 and parameters: {'learning_rate': 0.20765820286185874, 'max_leaf_nodes': 124, 'max_depth': 2, 'min_samples_leaf': 28, 'l2_regularization': 0.534990505043763}. Best is trial 21 with value: 0.7144807245847764.\n"
     ]
    },
    {
     "name": "stderr",
     "output_type": "stream",
     "text": [
      "Best trial: 21. Best value: 0.714481:  46%|████▌     | 92/200 [04:05<04:12,  2.34s/it]C:\\Users\\alexa\\AppData\\Local\\Temp\\ipykernel_72564\\1941495575.py:9: FutureWarning: suggest_loguniform has been deprecated in v3.0.0. This feature will be removed in v6.0.0. See https://github.com/optuna/optuna/releases/tag/v3.0.0. Use suggest_float(..., log=True) instead.\n",
      "  \"gb__learning_rate\":      trial.suggest_loguniform(\"learning_rate\", 1e-3, 0.3),\n",
      "C:\\Users\\alexa\\AppData\\Local\\Temp\\ipykernel_72564\\1941495575.py:13: FutureWarning: suggest_uniform has been deprecated in v3.0.0. This feature will be removed in v6.0.0. See https://github.com/optuna/optuna/releases/tag/v3.0.0. Use suggest_float instead.\n",
      "  \"gb__l2_regularization\":  trial.suggest_uniform(\"l2_regularization\", 0.0, 2.0)\n"
     ]
    },
    {
     "name": "stdout",
     "output_type": "stream",
     "text": [
      "[I 2025-07-06 18:16:00,417] Trial 91 finished with value: 0.7129342308494105 and parameters: {'learning_rate': 0.17625005700692667, 'max_leaf_nodes': 114, 'max_depth': 2, 'min_samples_leaf': 19, 'l2_regularization': 1.650386854118999}. Best is trial 21 with value: 0.7144807245847764.\n"
     ]
    },
    {
     "name": "stderr",
     "output_type": "stream",
     "text": [
      "Best trial: 21. Best value: 0.714481:  46%|████▋     | 93/200 [04:07<04:08,  2.33s/it]C:\\Users\\alexa\\AppData\\Local\\Temp\\ipykernel_72564\\1941495575.py:9: FutureWarning: suggest_loguniform has been deprecated in v3.0.0. This feature will be removed in v6.0.0. See https://github.com/optuna/optuna/releases/tag/v3.0.0. Use suggest_float(..., log=True) instead.\n",
      "  \"gb__learning_rate\":      trial.suggest_loguniform(\"learning_rate\", 1e-3, 0.3),\n",
      "C:\\Users\\alexa\\AppData\\Local\\Temp\\ipykernel_72564\\1941495575.py:13: FutureWarning: suggest_uniform has been deprecated in v3.0.0. This feature will be removed in v6.0.0. See https://github.com/optuna/optuna/releases/tag/v3.0.0. Use suggest_float instead.\n",
      "  \"gb__l2_regularization\":  trial.suggest_uniform(\"l2_regularization\", 0.0, 2.0)\n"
     ]
    },
    {
     "name": "stdout",
     "output_type": "stream",
     "text": [
      "[I 2025-07-06 18:16:02,721] Trial 92 finished with value: 0.7128586213540541 and parameters: {'learning_rate': 0.23047368707109409, 'max_leaf_nodes': 144, 'max_depth': 2, 'min_samples_leaf': 18, 'l2_regularization': 1.4726940260817911}. Best is trial 21 with value: 0.7144807245847764.\n"
     ]
    },
    {
     "name": "stderr",
     "output_type": "stream",
     "text": [
      "Best trial: 21. Best value: 0.714481:  47%|████▋     | 94/200 [04:10<04:27,  2.53s/it]C:\\Users\\alexa\\AppData\\Local\\Temp\\ipykernel_72564\\1941495575.py:9: FutureWarning: suggest_loguniform has been deprecated in v3.0.0. This feature will be removed in v6.0.0. See https://github.com/optuna/optuna/releases/tag/v3.0.0. Use suggest_float(..., log=True) instead.\n",
      "  \"gb__learning_rate\":      trial.suggest_loguniform(\"learning_rate\", 1e-3, 0.3),\n",
      "C:\\Users\\alexa\\AppData\\Local\\Temp\\ipykernel_72564\\1941495575.py:13: FutureWarning: suggest_uniform has been deprecated in v3.0.0. This feature will be removed in v6.0.0. See https://github.com/optuna/optuna/releases/tag/v3.0.0. Use suggest_float instead.\n",
      "  \"gb__l2_regularization\":  trial.suggest_uniform(\"l2_regularization\", 0.0, 2.0)\n"
     ]
    },
    {
     "name": "stdout",
     "output_type": "stream",
     "text": [
      "[I 2025-07-06 18:16:05,720] Trial 93 finished with value: 0.6654476142386294 and parameters: {'learning_rate': 0.005146662625762904, 'max_leaf_nodes': 149, 'max_depth': 3, 'min_samples_leaf': 23, 'l2_regularization': 1.9338839533102514}. Best is trial 21 with value: 0.7144807245847764.\n"
     ]
    },
    {
     "name": "stderr",
     "output_type": "stream",
     "text": [
      "Best trial: 21. Best value: 0.714481:  48%|████▊     | 95/200 [04:12<04:20,  2.48s/it]C:\\Users\\alexa\\AppData\\Local\\Temp\\ipykernel_72564\\1941495575.py:9: FutureWarning: suggest_loguniform has been deprecated in v3.0.0. This feature will be removed in v6.0.0. See https://github.com/optuna/optuna/releases/tag/v3.0.0. Use suggest_float(..., log=True) instead.\n",
      "  \"gb__learning_rate\":      trial.suggest_loguniform(\"learning_rate\", 1e-3, 0.3),\n",
      "C:\\Users\\alexa\\AppData\\Local\\Temp\\ipykernel_72564\\1941495575.py:13: FutureWarning: suggest_uniform has been deprecated in v3.0.0. This feature will be removed in v6.0.0. See https://github.com/optuna/optuna/releases/tag/v3.0.0. Use suggest_float instead.\n",
      "  \"gb__l2_regularization\":  trial.suggest_uniform(\"l2_regularization\", 0.0, 2.0)\n"
     ]
    },
    {
     "name": "stdout",
     "output_type": "stream",
     "text": [
      "[I 2025-07-06 18:16:08,089] Trial 94 finished with value: 0.7129043943738836 and parameters: {'learning_rate': 0.2923438435963361, 'max_leaf_nodes': 138, 'max_depth': 2, 'min_samples_leaf': 38, 'l2_regularization': 1.5789122838212315}. Best is trial 21 with value: 0.7144807245847764.\n"
     ]
    },
    {
     "name": "stderr",
     "output_type": "stream",
     "text": [
      "Best trial: 21. Best value: 0.714481:  48%|████▊     | 96/200 [04:15<04:26,  2.56s/it]C:\\Users\\alexa\\AppData\\Local\\Temp\\ipykernel_72564\\1941495575.py:9: FutureWarning: suggest_loguniform has been deprecated in v3.0.0. This feature will be removed in v6.0.0. See https://github.com/optuna/optuna/releases/tag/v3.0.0. Use suggest_float(..., log=True) instead.\n",
      "  \"gb__learning_rate\":      trial.suggest_loguniform(\"learning_rate\", 1e-3, 0.3),\n",
      "C:\\Users\\alexa\\AppData\\Local\\Temp\\ipykernel_72564\\1941495575.py:13: FutureWarning: suggest_uniform has been deprecated in v3.0.0. This feature will be removed in v6.0.0. See https://github.com/optuna/optuna/releases/tag/v3.0.0. Use suggest_float instead.\n",
      "  \"gb__l2_regularization\":  trial.suggest_uniform(\"l2_regularization\", 0.0, 2.0)\n"
     ]
    },
    {
     "name": "stdout",
     "output_type": "stream",
     "text": [
      "[I 2025-07-06 18:16:10,839] Trial 95 finished with value: 0.7136438597015842 and parameters: {'learning_rate': 0.11584719998899856, 'max_leaf_nodes': 157, 'max_depth': 3, 'min_samples_leaf': 30, 'l2_regularization': 1.718565245652118}. Best is trial 21 with value: 0.7144807245847764.\n"
     ]
    },
    {
     "name": "stderr",
     "output_type": "stream",
     "text": [
      "Best trial: 21. Best value: 0.714481:  48%|████▊     | 97/200 [04:17<04:23,  2.56s/it]C:\\Users\\alexa\\AppData\\Local\\Temp\\ipykernel_72564\\1941495575.py:9: FutureWarning: suggest_loguniform has been deprecated in v3.0.0. This feature will be removed in v6.0.0. See https://github.com/optuna/optuna/releases/tag/v3.0.0. Use suggest_float(..., log=True) instead.\n",
      "  \"gb__learning_rate\":      trial.suggest_loguniform(\"learning_rate\", 1e-3, 0.3),\n",
      "C:\\Users\\alexa\\AppData\\Local\\Temp\\ipykernel_72564\\1941495575.py:13: FutureWarning: suggest_uniform has been deprecated in v3.0.0. This feature will be removed in v6.0.0. See https://github.com/optuna/optuna/releases/tag/v3.0.0. Use suggest_float instead.\n",
      "  \"gb__l2_regularization\":  trial.suggest_uniform(\"l2_regularization\", 0.0, 2.0)\n"
     ]
    },
    {
     "name": "stdout",
     "output_type": "stream",
     "text": [
      "[I 2025-07-06 18:16:13,390] Trial 96 finished with value: 0.7129409682175396 and parameters: {'learning_rate': 0.16701767920988475, 'max_leaf_nodes': 120, 'max_depth': 2, 'min_samples_leaf': 34, 'l2_regularization': 1.7966805320212267}. Best is trial 21 with value: 0.7144807245847764.\n"
     ]
    },
    {
     "name": "stderr",
     "output_type": "stream",
     "text": [
      "Best trial: 21. Best value: 0.714481:  49%|████▉     | 98/200 [04:20<04:06,  2.42s/it]C:\\Users\\alexa\\AppData\\Local\\Temp\\ipykernel_72564\\1941495575.py:9: FutureWarning: suggest_loguniform has been deprecated in v3.0.0. This feature will be removed in v6.0.0. See https://github.com/optuna/optuna/releases/tag/v3.0.0. Use suggest_float(..., log=True) instead.\n",
      "  \"gb__learning_rate\":      trial.suggest_loguniform(\"learning_rate\", 1e-3, 0.3),\n",
      "C:\\Users\\alexa\\AppData\\Local\\Temp\\ipykernel_72564\\1941495575.py:13: FutureWarning: suggest_uniform has been deprecated in v3.0.0. This feature will be removed in v6.0.0. See https://github.com/optuna/optuna/releases/tag/v3.0.0. Use suggest_float instead.\n",
      "  \"gb__l2_regularization\":  trial.suggest_uniform(\"l2_regularization\", 0.0, 2.0)\n"
     ]
    },
    {
     "name": "stdout",
     "output_type": "stream",
     "text": [
      "[I 2025-07-06 18:16:15,484] Trial 97 finished with value: 0.7138795683804057 and parameters: {'learning_rate': 0.19352601761671642, 'max_leaf_nodes': 103, 'max_depth': 3, 'min_samples_leaf': 63, 'l2_regularization': 1.4038845064604002}. Best is trial 21 with value: 0.7144807245847764.\n"
     ]
    },
    {
     "name": "stderr",
     "output_type": "stream",
     "text": [
      "Best trial: 21. Best value: 0.714481:  50%|████▉     | 99/200 [04:22<04:16,  2.54s/it]C:\\Users\\alexa\\AppData\\Local\\Temp\\ipykernel_72564\\1941495575.py:9: FutureWarning: suggest_loguniform has been deprecated in v3.0.0. This feature will be removed in v6.0.0. See https://github.com/optuna/optuna/releases/tag/v3.0.0. Use suggest_float(..., log=True) instead.\n",
      "  \"gb__learning_rate\":      trial.suggest_loguniform(\"learning_rate\", 1e-3, 0.3),\n",
      "C:\\Users\\alexa\\AppData\\Local\\Temp\\ipykernel_72564\\1941495575.py:13: FutureWarning: suggest_uniform has been deprecated in v3.0.0. This feature will be removed in v6.0.0. See https://github.com/optuna/optuna/releases/tag/v3.0.0. Use suggest_float instead.\n",
      "  \"gb__l2_regularization\":  trial.suggest_uniform(\"l2_regularization\", 0.0, 2.0)\n"
     ]
    },
    {
     "name": "stdout",
     "output_type": "stream",
     "text": [
      "[I 2025-07-06 18:16:18,303] Trial 98 finished with value: 0.7139294079694744 and parameters: {'learning_rate': 0.09347624157589948, 'max_leaf_nodes': 94, 'max_depth': 4, 'min_samples_leaf': 14, 'l2_regularization': 1.5332603554918203}. Best is trial 21 with value: 0.7144807245847764.\n"
     ]
    },
    {
     "name": "stderr",
     "output_type": "stream",
     "text": [
      "Best trial: 21. Best value: 0.714481:  50%|█████     | 100/200 [04:26<04:32,  2.72s/it]C:\\Users\\alexa\\AppData\\Local\\Temp\\ipykernel_72564\\1941495575.py:9: FutureWarning: suggest_loguniform has been deprecated in v3.0.0. This feature will be removed in v6.0.0. See https://github.com/optuna/optuna/releases/tag/v3.0.0. Use suggest_float(..., log=True) instead.\n",
      "  \"gb__learning_rate\":      trial.suggest_loguniform(\"learning_rate\", 1e-3, 0.3),\n",
      "C:\\Users\\alexa\\AppData\\Local\\Temp\\ipykernel_72564\\1941495575.py:13: FutureWarning: suggest_uniform has been deprecated in v3.0.0. This feature will be removed in v6.0.0. See https://github.com/optuna/optuna/releases/tag/v3.0.0. Use suggest_float instead.\n",
      "  \"gb__l2_regularization\":  trial.suggest_uniform(\"l2_regularization\", 0.0, 2.0)\n"
     ]
    },
    {
     "name": "stdout",
     "output_type": "stream",
     "text": [
      "[I 2025-07-06 18:16:21,455] Trial 99 finished with value: 0.7131790201688591 and parameters: {'learning_rate': 0.09236798913641504, 'max_leaf_nodes': 91, 'max_depth': 4, 'min_samples_leaf': 114, 'l2_regularization': 1.6336127960049922}. Best is trial 21 with value: 0.7144807245847764.\n"
     ]
    },
    {
     "name": "stderr",
     "output_type": "stream",
     "text": [
      "Best trial: 21. Best value: 0.714481:  50%|█████     | 101/200 [04:28<04:07,  2.50s/it]C:\\Users\\alexa\\AppData\\Local\\Temp\\ipykernel_72564\\1941495575.py:9: FutureWarning: suggest_loguniform has been deprecated in v3.0.0. This feature will be removed in v6.0.0. See https://github.com/optuna/optuna/releases/tag/v3.0.0. Use suggest_float(..., log=True) instead.\n",
      "  \"gb__learning_rate\":      trial.suggest_loguniform(\"learning_rate\", 1e-3, 0.3),\n",
      "C:\\Users\\alexa\\AppData\\Local\\Temp\\ipykernel_72564\\1941495575.py:13: FutureWarning: suggest_uniform has been deprecated in v3.0.0. This feature will be removed in v6.0.0. See https://github.com/optuna/optuna/releases/tag/v3.0.0. Use suggest_float instead.\n",
      "  \"gb__l2_regularization\":  trial.suggest_uniform(\"l2_regularization\", 0.0, 2.0)\n"
     ]
    },
    {
     "name": "stdout",
     "output_type": "stream",
     "text": [
      "[I 2025-07-06 18:16:23,436] Trial 100 finished with value: 0.7119181869024247 and parameters: {'learning_rate': 0.1339366407273921, 'max_leaf_nodes': 110, 'max_depth': 5, 'min_samples_leaf': 48, 'l2_regularization': 1.4376300196124914}. Best is trial 21 with value: 0.7144807245847764.\n"
     ]
    },
    {
     "name": "stderr",
     "output_type": "stream",
     "text": [
      "Best trial: 21. Best value: 0.714481:  51%|█████     | 102/200 [04:30<04:01,  2.47s/it]C:\\Users\\alexa\\AppData\\Local\\Temp\\ipykernel_72564\\1941495575.py:9: FutureWarning: suggest_loguniform has been deprecated in v3.0.0. This feature will be removed in v6.0.0. See https://github.com/optuna/optuna/releases/tag/v3.0.0. Use suggest_float(..., log=True) instead.\n",
      "  \"gb__learning_rate\":      trial.suggest_loguniform(\"learning_rate\", 1e-3, 0.3),\n",
      "C:\\Users\\alexa\\AppData\\Local\\Temp\\ipykernel_72564\\1941495575.py:13: FutureWarning: suggest_uniform has been deprecated in v3.0.0. This feature will be removed in v6.0.0. See https://github.com/optuna/optuna/releases/tag/v3.0.0. Use suggest_float instead.\n",
      "  \"gb__l2_regularization\":  trial.suggest_uniform(\"l2_regularization\", 0.0, 2.0)\n"
     ]
    },
    {
     "name": "stdout",
     "output_type": "stream",
     "text": [
      "[I 2025-07-06 18:16:25,821] Trial 101 finished with value: 0.7140278837119116 and parameters: {'learning_rate': 0.11949192498632805, 'max_leaf_nodes': 80, 'max_depth': 4, 'min_samples_leaf': 15, 'l2_regularization': 1.5249414652918345}. Best is trial 21 with value: 0.7144807245847764.\n"
     ]
    },
    {
     "name": "stderr",
     "output_type": "stream",
     "text": [
      "Best trial: 21. Best value: 0.714481:  52%|█████▏    | 103/200 [04:32<03:50,  2.38s/it]C:\\Users\\alexa\\AppData\\Local\\Temp\\ipykernel_72564\\1941495575.py:9: FutureWarning: suggest_loguniform has been deprecated in v3.0.0. This feature will be removed in v6.0.0. See https://github.com/optuna/optuna/releases/tag/v3.0.0. Use suggest_float(..., log=True) instead.\n",
      "  \"gb__learning_rate\":      trial.suggest_loguniform(\"learning_rate\", 1e-3, 0.3),\n",
      "C:\\Users\\alexa\\AppData\\Local\\Temp\\ipykernel_72564\\1941495575.py:13: FutureWarning: suggest_uniform has been deprecated in v3.0.0. This feature will be removed in v6.0.0. See https://github.com/optuna/optuna/releases/tag/v3.0.0. Use suggest_float instead.\n",
      "  \"gb__l2_regularization\":  trial.suggest_uniform(\"l2_regularization\", 0.0, 2.0)\n"
     ]
    },
    {
     "name": "stdout",
     "output_type": "stream",
     "text": [
      "[I 2025-07-06 18:16:28,001] Trial 102 finished with value: 0.7123108203498043 and parameters: {'learning_rate': 0.1171439736233174, 'max_leaf_nodes': 97, 'max_depth': 5, 'min_samples_leaf': 21, 'l2_regularization': 1.5705906671842045}. Best is trial 21 with value: 0.7144807245847764.\n"
     ]
    },
    {
     "name": "stderr",
     "output_type": "stream",
     "text": [
      "Best trial: 21. Best value: 0.714481:  52%|█████▏    | 104/200 [04:35<04:17,  2.68s/it]C:\\Users\\alexa\\AppData\\Local\\Temp\\ipykernel_72564\\1941495575.py:9: FutureWarning: suggest_loguniform has been deprecated in v3.0.0. This feature will be removed in v6.0.0. See https://github.com/optuna/optuna/releases/tag/v3.0.0. Use suggest_float(..., log=True) instead.\n",
      "  \"gb__learning_rate\":      trial.suggest_loguniform(\"learning_rate\", 1e-3, 0.3),\n",
      "C:\\Users\\alexa\\AppData\\Local\\Temp\\ipykernel_72564\\1941495575.py:13: FutureWarning: suggest_uniform has been deprecated in v3.0.0. This feature will be removed in v6.0.0. See https://github.com/optuna/optuna/releases/tag/v3.0.0. Use suggest_float instead.\n",
      "  \"gb__l2_regularization\":  trial.suggest_uniform(\"l2_regularization\", 0.0, 2.0)\n"
     ]
    },
    {
     "name": "stdout",
     "output_type": "stream",
     "text": [
      "[I 2025-07-06 18:16:31,383] Trial 103 finished with value: 0.7053755012996736 and parameters: {'learning_rate': 0.020540992452391393, 'max_leaf_nodes': 81, 'max_depth': 4, 'min_samples_leaf': 13, 'l2_regularization': 1.7376887384837025}. Best is trial 21 with value: 0.7144807245847764.\n"
     ]
    },
    {
     "name": "stderr",
     "output_type": "stream",
     "text": [
      "Best trial: 21. Best value: 0.714481:  52%|█████▎    | 105/200 [04:37<03:50,  2.42s/it]C:\\Users\\alexa\\AppData\\Local\\Temp\\ipykernel_72564\\1941495575.py:9: FutureWarning: suggest_loguniform has been deprecated in v3.0.0. This feature will be removed in v6.0.0. See https://github.com/optuna/optuna/releases/tag/v3.0.0. Use suggest_float(..., log=True) instead.\n",
      "  \"gb__learning_rate\":      trial.suggest_loguniform(\"learning_rate\", 1e-3, 0.3),\n",
      "C:\\Users\\alexa\\AppData\\Local\\Temp\\ipykernel_72564\\1941495575.py:13: FutureWarning: suggest_uniform has been deprecated in v3.0.0. This feature will be removed in v6.0.0. See https://github.com/optuna/optuna/releases/tag/v3.0.0. Use suggest_float instead.\n",
      "  \"gb__l2_regularization\":  trial.suggest_uniform(\"l2_regularization\", 0.0, 2.0)\n"
     ]
    },
    {
     "name": "stdout",
     "output_type": "stream",
     "text": [
      "[I 2025-07-06 18:16:33,200] Trial 104 finished with value: 0.7132690902210296 and parameters: {'learning_rate': 0.13851298370344456, 'max_leaf_nodes': 91, 'max_depth': 4, 'min_samples_leaf': 26, 'l2_regularization': 1.6127468312358009}. Best is trial 21 with value: 0.7144807245847764.\n"
     ]
    },
    {
     "name": "stderr",
     "output_type": "stream",
     "text": [
      "Best trial: 21. Best value: 0.714481:  53%|█████▎    | 106/200 [04:40<03:59,  2.55s/it]C:\\Users\\alexa\\AppData\\Local\\Temp\\ipykernel_72564\\1941495575.py:9: FutureWarning: suggest_loguniform has been deprecated in v3.0.0. This feature will be removed in v6.0.0. See https://github.com/optuna/optuna/releases/tag/v3.0.0. Use suggest_float(..., log=True) instead.\n",
      "  \"gb__learning_rate\":      trial.suggest_loguniform(\"learning_rate\", 1e-3, 0.3),\n",
      "C:\\Users\\alexa\\AppData\\Local\\Temp\\ipykernel_72564\\1941495575.py:13: FutureWarning: suggest_uniform has been deprecated in v3.0.0. This feature will be removed in v6.0.0. See https://github.com/optuna/optuna/releases/tag/v3.0.0. Use suggest_float instead.\n",
      "  \"gb__l2_regularization\":  trial.suggest_uniform(\"l2_regularization\", 0.0, 2.0)\n"
     ]
    },
    {
     "name": "stdout",
     "output_type": "stream",
     "text": [
      "[I 2025-07-06 18:16:36,041] Trial 105 finished with value: 0.7138777663418439 and parameters: {'learning_rate': 0.09795608907874699, 'max_leaf_nodes': 70, 'max_depth': 4, 'min_samples_leaf': 14, 'l2_regularization': 1.6727480269197714}. Best is trial 21 with value: 0.7144807245847764.\n"
     ]
    },
    {
     "name": "stderr",
     "output_type": "stream",
     "text": [
      "Best trial: 21. Best value: 0.714481:  54%|█████▎    | 107/200 [04:42<03:41,  2.39s/it]C:\\Users\\alexa\\AppData\\Local\\Temp\\ipykernel_72564\\1941495575.py:9: FutureWarning: suggest_loguniform has been deprecated in v3.0.0. This feature will be removed in v6.0.0. See https://github.com/optuna/optuna/releases/tag/v3.0.0. Use suggest_float(..., log=True) instead.\n",
      "  \"gb__learning_rate\":      trial.suggest_loguniform(\"learning_rate\", 1e-3, 0.3),\n",
      "C:\\Users\\alexa\\AppData\\Local\\Temp\\ipykernel_72564\\1941495575.py:13: FutureWarning: suggest_uniform has been deprecated in v3.0.0. This feature will be removed in v6.0.0. See https://github.com/optuna/optuna/releases/tag/v3.0.0. Use suggest_float instead.\n",
      "  \"gb__l2_regularization\":  trial.suggest_uniform(\"l2_regularization\", 0.0, 2.0)\n"
     ]
    },
    {
     "name": "stdout",
     "output_type": "stream",
     "text": [
      "[I 2025-07-06 18:16:38,048] Trial 106 finished with value: 0.7141408799347223 and parameters: {'learning_rate': 0.2622464043957015, 'max_leaf_nodes': 85, 'max_depth': 2, 'min_samples_leaf': 19, 'l2_regularization': 1.3077233069408578}. Best is trial 21 with value: 0.7144807245847764.\n"
     ]
    },
    {
     "name": "stderr",
     "output_type": "stream",
     "text": [
      "Best trial: 21. Best value: 0.714481:  54%|█████▍    | 108/200 [04:45<03:45,  2.45s/it]C:\\Users\\alexa\\AppData\\Local\\Temp\\ipykernel_72564\\1941495575.py:9: FutureWarning: suggest_loguniform has been deprecated in v3.0.0. This feature will be removed in v6.0.0. See https://github.com/optuna/optuna/releases/tag/v3.0.0. Use suggest_float(..., log=True) instead.\n",
      "  \"gb__learning_rate\":      trial.suggest_loguniform(\"learning_rate\", 1e-3, 0.3),\n",
      "C:\\Users\\alexa\\AppData\\Local\\Temp\\ipykernel_72564\\1941495575.py:13: FutureWarning: suggest_uniform has been deprecated in v3.0.0. This feature will be removed in v6.0.0. See https://github.com/optuna/optuna/releases/tag/v3.0.0. Use suggest_float instead.\n",
      "  \"gb__l2_regularization\":  trial.suggest_uniform(\"l2_regularization\", 0.0, 2.0)\n"
     ]
    },
    {
     "name": "stdout",
     "output_type": "stream",
     "text": [
      "[I 2025-07-06 18:16:40,637] Trial 107 finished with value: 0.7062924784024223 and parameters: {'learning_rate': 0.05547356935791318, 'max_leaf_nodes': 83, 'max_depth': 2, 'min_samples_leaf': 19, 'l2_regularization': 1.3061903018986472}. Best is trial 21 with value: 0.7144807245847764.\n"
     ]
    },
    {
     "name": "stderr",
     "output_type": "stream",
     "text": [
      "Best trial: 21. Best value: 0.714481:  55%|█████▍    | 109/200 [04:47<03:39,  2.41s/it]C:\\Users\\alexa\\AppData\\Local\\Temp\\ipykernel_72564\\1941495575.py:9: FutureWarning: suggest_loguniform has been deprecated in v3.0.0. This feature will be removed in v6.0.0. See https://github.com/optuna/optuna/releases/tag/v3.0.0. Use suggest_float(..., log=True) instead.\n",
      "  \"gb__learning_rate\":      trial.suggest_loguniform(\"learning_rate\", 1e-3, 0.3),\n",
      "C:\\Users\\alexa\\AppData\\Local\\Temp\\ipykernel_72564\\1941495575.py:13: FutureWarning: suggest_uniform has been deprecated in v3.0.0. This feature will be removed in v6.0.0. See https://github.com/optuna/optuna/releases/tag/v3.0.0. Use suggest_float instead.\n",
      "  \"gb__l2_regularization\":  trial.suggest_uniform(\"l2_regularization\", 0.0, 2.0)\n"
     ]
    },
    {
     "name": "stdout",
     "output_type": "stream",
     "text": [
      "[I 2025-07-06 18:16:42,955] Trial 108 finished with value: 0.7141256429265315 and parameters: {'learning_rate': 0.27668996393493367, 'max_leaf_nodes': 100, 'max_depth': 2, 'min_samples_leaf': 27, 'l2_regularization': 1.4766307210986818}. Best is trial 21 with value: 0.7144807245847764.\n"
     ]
    },
    {
     "name": "stderr",
     "output_type": "stream",
     "text": [
      "Best trial: 21. Best value: 0.714481:  55%|█████▌    | 110/200 [04:49<03:21,  2.24s/it]C:\\Users\\alexa\\AppData\\Local\\Temp\\ipykernel_72564\\1941495575.py:9: FutureWarning: suggest_loguniform has been deprecated in v3.0.0. This feature will be removed in v6.0.0. See https://github.com/optuna/optuna/releases/tag/v3.0.0. Use suggest_float(..., log=True) instead.\n",
      "  \"gb__learning_rate\":      trial.suggest_loguniform(\"learning_rate\", 1e-3, 0.3),\n",
      "C:\\Users\\alexa\\AppData\\Local\\Temp\\ipykernel_72564\\1941495575.py:13: FutureWarning: suggest_uniform has been deprecated in v3.0.0. This feature will be removed in v6.0.0. See https://github.com/optuna/optuna/releases/tag/v3.0.0. Use suggest_float instead.\n",
      "  \"gb__l2_regularization\":  trial.suggest_uniform(\"l2_regularization\", 0.0, 2.0)\n"
     ]
    },
    {
     "name": "stdout",
     "output_type": "stream",
     "text": [
      "[I 2025-07-06 18:16:44,798] Trial 109 finished with value: 0.7136354971895769 and parameters: {'learning_rate': 0.2600126039372736, 'max_leaf_nodes': 74, 'max_depth': 2, 'min_samples_leaf': 27, 'l2_regularization': 1.4737570681439118}. Best is trial 21 with value: 0.7144807245847764.\n"
     ]
    },
    {
     "name": "stderr",
     "output_type": "stream",
     "text": [
      "Best trial: 21. Best value: 0.714481:  56%|█████▌    | 111/200 [04:51<03:23,  2.28s/it]C:\\Users\\alexa\\AppData\\Local\\Temp\\ipykernel_72564\\1941495575.py:9: FutureWarning: suggest_loguniform has been deprecated in v3.0.0. This feature will be removed in v6.0.0. See https://github.com/optuna/optuna/releases/tag/v3.0.0. Use suggest_float(..., log=True) instead.\n",
      "  \"gb__learning_rate\":      trial.suggest_loguniform(\"learning_rate\", 1e-3, 0.3),\n",
      "C:\\Users\\alexa\\AppData\\Local\\Temp\\ipykernel_72564\\1941495575.py:13: FutureWarning: suggest_uniform has been deprecated in v3.0.0. This feature will be removed in v6.0.0. See https://github.com/optuna/optuna/releases/tag/v3.0.0. Use suggest_float instead.\n",
      "  \"gb__l2_regularization\":  trial.suggest_uniform(\"l2_regularization\", 0.0, 2.0)\n"
     ]
    },
    {
     "name": "stdout",
     "output_type": "stream",
     "text": [
      "[I 2025-07-06 18:16:47,187] Trial 110 finished with value: 0.7127200435849657 and parameters: {'learning_rate': 0.23619678095716612, 'max_leaf_nodes': 66, 'max_depth': 2, 'min_samples_leaf': 31, 'l2_regularization': 1.5349449940052866}. Best is trial 21 with value: 0.7144807245847764.\n"
     ]
    },
    {
     "name": "stderr",
     "output_type": "stream",
     "text": [
      "Best trial: 21. Best value: 0.714481:  56%|█████▌    | 112/200 [04:54<03:25,  2.33s/it]C:\\Users\\alexa\\AppData\\Local\\Temp\\ipykernel_72564\\1941495575.py:9: FutureWarning: suggest_loguniform has been deprecated in v3.0.0. This feature will be removed in v6.0.0. See https://github.com/optuna/optuna/releases/tag/v3.0.0. Use suggest_float(..., log=True) instead.\n",
      "  \"gb__learning_rate\":      trial.suggest_loguniform(\"learning_rate\", 1e-3, 0.3),\n",
      "C:\\Users\\alexa\\AppData\\Local\\Temp\\ipykernel_72564\\1941495575.py:13: FutureWarning: suggest_uniform has been deprecated in v3.0.0. This feature will be removed in v6.0.0. See https://github.com/optuna/optuna/releases/tag/v3.0.0. Use suggest_float instead.\n",
      "  \"gb__l2_regularization\":  trial.suggest_uniform(\"l2_regularization\", 0.0, 2.0)\n"
     ]
    },
    {
     "name": "stdout",
     "output_type": "stream",
     "text": [
      "[I 2025-07-06 18:16:49,634] Trial 111 finished with value: 0.7137522088003749 and parameters: {'learning_rate': 0.20515214515377472, 'max_leaf_nodes': 101, 'max_depth': 2, 'min_samples_leaf': 22, 'l2_regularization': 1.374527401760091}. Best is trial 21 with value: 0.7144807245847764.\n"
     ]
    },
    {
     "name": "stderr",
     "output_type": "stream",
     "text": [
      "Best trial: 21. Best value: 0.714481:  56%|█████▋    | 113/200 [04:56<03:17,  2.27s/it]C:\\Users\\alexa\\AppData\\Local\\Temp\\ipykernel_72564\\1941495575.py:9: FutureWarning: suggest_loguniform has been deprecated in v3.0.0. This feature will be removed in v6.0.0. See https://github.com/optuna/optuna/releases/tag/v3.0.0. Use suggest_float(..., log=True) instead.\n",
      "  \"gb__learning_rate\":      trial.suggest_loguniform(\"learning_rate\", 1e-3, 0.3),\n",
      "C:\\Users\\alexa\\AppData\\Local\\Temp\\ipykernel_72564\\1941495575.py:13: FutureWarning: suggest_uniform has been deprecated in v3.0.0. This feature will be removed in v6.0.0. See https://github.com/optuna/optuna/releases/tag/v3.0.0. Use suggest_float instead.\n",
      "  \"gb__l2_regularization\":  trial.suggest_uniform(\"l2_regularization\", 0.0, 2.0)\n"
     ]
    },
    {
     "name": "stdout",
     "output_type": "stream",
     "text": [
      "[I 2025-07-06 18:16:51,765] Trial 112 finished with value: 0.7142615085635435 and parameters: {'learning_rate': 0.28024569309193204, 'max_leaf_nodes': 85, 'max_depth': 2, 'min_samples_leaf': 15, 'l2_regularization': 1.256888553446703}. Best is trial 21 with value: 0.7144807245847764.\n"
     ]
    },
    {
     "name": "stderr",
     "output_type": "stream",
     "text": [
      "Best trial: 21. Best value: 0.714481:  57%|█████▋    | 114/200 [04:58<03:18,  2.31s/it]C:\\Users\\alexa\\AppData\\Local\\Temp\\ipykernel_72564\\1941495575.py:9: FutureWarning: suggest_loguniform has been deprecated in v3.0.0. This feature will be removed in v6.0.0. See https://github.com/optuna/optuna/releases/tag/v3.0.0. Use suggest_float(..., log=True) instead.\n",
      "  \"gb__learning_rate\":      trial.suggest_loguniform(\"learning_rate\", 1e-3, 0.3),\n",
      "C:\\Users\\alexa\\AppData\\Local\\Temp\\ipykernel_72564\\1941495575.py:13: FutureWarning: suggest_uniform has been deprecated in v3.0.0. This feature will be removed in v6.0.0. See https://github.com/optuna/optuna/releases/tag/v3.0.0. Use suggest_float instead.\n",
      "  \"gb__l2_regularization\":  trial.suggest_uniform(\"l2_regularization\", 0.0, 2.0)\n"
     ]
    },
    {
     "name": "stdout",
     "output_type": "stream",
     "text": [
      "[I 2025-07-06 18:16:54,146] Trial 113 finished with value: 0.7136761380825515 and parameters: {'learning_rate': 0.27782661129352176, 'max_leaf_nodes': 87, 'max_depth': 2, 'min_samples_leaf': 39, 'l2_regularization': 1.2979079505613547}. Best is trial 21 with value: 0.7144807245847764.\n"
     ]
    },
    {
     "name": "stderr",
     "output_type": "stream",
     "text": [
      "Best trial: 21. Best value: 0.714481:  57%|█████▊    | 115/200 [05:01<03:17,  2.32s/it]C:\\Users\\alexa\\AppData\\Local\\Temp\\ipykernel_72564\\1941495575.py:9: FutureWarning: suggest_loguniform has been deprecated in v3.0.0. This feature will be removed in v6.0.0. See https://github.com/optuna/optuna/releases/tag/v3.0.0. Use suggest_float(..., log=True) instead.\n",
      "  \"gb__learning_rate\":      trial.suggest_loguniform(\"learning_rate\", 1e-3, 0.3),\n",
      "C:\\Users\\alexa\\AppData\\Local\\Temp\\ipykernel_72564\\1941495575.py:13: FutureWarning: suggest_uniform has been deprecated in v3.0.0. This feature will be removed in v6.0.0. See https://github.com/optuna/optuna/releases/tag/v3.0.0. Use suggest_float instead.\n",
      "  \"gb__l2_regularization\":  trial.suggest_uniform(\"l2_regularization\", 0.0, 2.0)\n"
     ]
    },
    {
     "name": "stdout",
     "output_type": "stream",
     "text": [
      "[I 2025-07-06 18:16:56,509] Trial 114 finished with value: 0.7141940049494859 and parameters: {'learning_rate': 0.23852632686926573, 'max_leaf_nodes': 78, 'max_depth': 2, 'min_samples_leaf': 17, 'l2_regularization': 1.4357416561442131}. Best is trial 21 with value: 0.7144807245847764.\n"
     ]
    },
    {
     "name": "stderr",
     "output_type": "stream",
     "text": [
      "Best trial: 21. Best value: 0.714481:  58%|█████▊    | 116/200 [05:03<03:07,  2.23s/it]C:\\Users\\alexa\\AppData\\Local\\Temp\\ipykernel_72564\\1941495575.py:9: FutureWarning: suggest_loguniform has been deprecated in v3.0.0. This feature will be removed in v6.0.0. See https://github.com/optuna/optuna/releases/tag/v3.0.0. Use suggest_float(..., log=True) instead.\n",
      "  \"gb__learning_rate\":      trial.suggest_loguniform(\"learning_rate\", 1e-3, 0.3),\n",
      "C:\\Users\\alexa\\AppData\\Local\\Temp\\ipykernel_72564\\1941495575.py:13: FutureWarning: suggest_uniform has been deprecated in v3.0.0. This feature will be removed in v6.0.0. See https://github.com/optuna/optuna/releases/tag/v3.0.0. Use suggest_float instead.\n",
      "  \"gb__l2_regularization\":  trial.suggest_uniform(\"l2_regularization\", 0.0, 2.0)\n"
     ]
    },
    {
     "name": "stdout",
     "output_type": "stream",
     "text": [
      "[I 2025-07-06 18:16:58,538] Trial 115 finished with value: 0.7130904764052782 and parameters: {'learning_rate': 0.29863423308833675, 'max_leaf_nodes': 78, 'max_depth': 2, 'min_samples_leaf': 25, 'l2_regularization': 1.2506663113125036}. Best is trial 21 with value: 0.7144807245847764.\n"
     ]
    },
    {
     "name": "stderr",
     "output_type": "stream",
     "text": [
      "Best trial: 21. Best value: 0.714481:  58%|█████▊    | 117/200 [05:05<03:09,  2.29s/it]C:\\Users\\alexa\\AppData\\Local\\Temp\\ipykernel_72564\\1941495575.py:9: FutureWarning: suggest_loguniform has been deprecated in v3.0.0. This feature will be removed in v6.0.0. See https://github.com/optuna/optuna/releases/tag/v3.0.0. Use suggest_float(..., log=True) instead.\n",
      "  \"gb__learning_rate\":      trial.suggest_loguniform(\"learning_rate\", 1e-3, 0.3),\n",
      "C:\\Users\\alexa\\AppData\\Local\\Temp\\ipykernel_72564\\1941495575.py:13: FutureWarning: suggest_uniform has been deprecated in v3.0.0. This feature will be removed in v6.0.0. See https://github.com/optuna/optuna/releases/tag/v3.0.0. Use suggest_float instead.\n",
      "  \"gb__l2_regularization\":  trial.suggest_uniform(\"l2_regularization\", 0.0, 2.0)\n"
     ]
    },
    {
     "name": "stdout",
     "output_type": "stream",
     "text": [
      "[I 2025-07-06 18:17:00,946] Trial 116 finished with value: 0.7139708592517828 and parameters: {'learning_rate': 0.24370295171044246, 'max_leaf_nodes': 85, 'max_depth': 2, 'min_samples_leaf': 33, 'l2_regularization': 1.4355794616423327}. Best is trial 21 with value: 0.7144807245847764.\n"
     ]
    },
    {
     "name": "stderr",
     "output_type": "stream",
     "text": [
      "Best trial: 21. Best value: 0.714481:  59%|█████▉    | 118/200 [05:07<03:05,  2.26s/it]C:\\Users\\alexa\\AppData\\Local\\Temp\\ipykernel_72564\\1941495575.py:9: FutureWarning: suggest_loguniform has been deprecated in v3.0.0. This feature will be removed in v6.0.0. See https://github.com/optuna/optuna/releases/tag/v3.0.0. Use suggest_float(..., log=True) instead.\n",
      "  \"gb__learning_rate\":      trial.suggest_loguniform(\"learning_rate\", 1e-3, 0.3),\n",
      "C:\\Users\\alexa\\AppData\\Local\\Temp\\ipykernel_72564\\1941495575.py:13: FutureWarning: suggest_uniform has been deprecated in v3.0.0. This feature will be removed in v6.0.0. See https://github.com/optuna/optuna/releases/tag/v3.0.0. Use suggest_float instead.\n",
      "  \"gb__l2_regularization\":  trial.suggest_uniform(\"l2_regularization\", 0.0, 2.0)\n"
     ]
    },
    {
     "name": "stdout",
     "output_type": "stream",
     "text": [
      "[I 2025-07-06 18:17:03,145] Trial 117 finished with value: 0.7139067723698782 and parameters: {'learning_rate': 0.23959765309029987, 'max_leaf_nodes': 85, 'max_depth': 2, 'min_samples_leaf': 29, 'l2_regularization': 1.178162146105605}. Best is trial 21 with value: 0.7144807245847764.\n"
     ]
    },
    {
     "name": "stderr",
     "output_type": "stream",
     "text": [
      "Best trial: 21. Best value: 0.714481:  60%|█████▉    | 119/200 [05:09<03:02,  2.25s/it]C:\\Users\\alexa\\AppData\\Local\\Temp\\ipykernel_72564\\1941495575.py:9: FutureWarning: suggest_loguniform has been deprecated in v3.0.0. This feature will be removed in v6.0.0. See https://github.com/optuna/optuna/releases/tag/v3.0.0. Use suggest_float(..., log=True) instead.\n",
      "  \"gb__learning_rate\":      trial.suggest_loguniform(\"learning_rate\", 1e-3, 0.3),\n",
      "C:\\Users\\alexa\\AppData\\Local\\Temp\\ipykernel_72564\\1941495575.py:13: FutureWarning: suggest_uniform has been deprecated in v3.0.0. This feature will be removed in v6.0.0. See https://github.com/optuna/optuna/releases/tag/v3.0.0. Use suggest_float instead.\n",
      "  \"gb__l2_regularization\":  trial.suggest_uniform(\"l2_regularization\", 0.0, 2.0)\n"
     ]
    },
    {
     "name": "stdout",
     "output_type": "stream",
     "text": [
      "[I 2025-07-06 18:17:05,387] Trial 118 finished with value: 0.7132744899069678 and parameters: {'learning_rate': 0.26483743273562016, 'max_leaf_nodes': 46, 'max_depth': 2, 'min_samples_leaf': 34, 'l2_regularization': 1.1032897808439954}. Best is trial 21 with value: 0.7144807245847764.\n"
     ]
    },
    {
     "name": "stderr",
     "output_type": "stream",
     "text": [
      "Best trial: 21. Best value: 0.714481:  60%|██████    | 120/200 [05:12<03:06,  2.33s/it]C:\\Users\\alexa\\AppData\\Local\\Temp\\ipykernel_72564\\1941495575.py:9: FutureWarning: suggest_loguniform has been deprecated in v3.0.0. This feature will be removed in v6.0.0. See https://github.com/optuna/optuna/releases/tag/v3.0.0. Use suggest_float(..., log=True) instead.\n",
      "  \"gb__learning_rate\":      trial.suggest_loguniform(\"learning_rate\", 1e-3, 0.3),\n",
      "C:\\Users\\alexa\\AppData\\Local\\Temp\\ipykernel_72564\\1941495575.py:13: FutureWarning: suggest_uniform has been deprecated in v3.0.0. This feature will be removed in v6.0.0. See https://github.com/optuna/optuna/releases/tag/v3.0.0. Use suggest_float instead.\n",
      "  \"gb__l2_regularization\":  trial.suggest_uniform(\"l2_regularization\", 0.0, 2.0)\n"
     ]
    },
    {
     "name": "stdout",
     "output_type": "stream",
     "text": [
      "[I 2025-07-06 18:17:07,908] Trial 119 finished with value: 0.7140019918591153 and parameters: {'learning_rate': 0.21765046772779267, 'max_leaf_nodes': 63, 'max_depth': 2, 'min_samples_leaf': 122, 'l2_regularization': 1.3543379126216089}. Best is trial 21 with value: 0.7144807245847764.\n"
     ]
    },
    {
     "name": "stderr",
     "output_type": "stream",
     "text": [
      "Best trial: 21. Best value: 0.714481:  60%|██████    | 121/200 [05:15<03:09,  2.40s/it]C:\\Users\\alexa\\AppData\\Local\\Temp\\ipykernel_72564\\1941495575.py:9: FutureWarning: suggest_loguniform has been deprecated in v3.0.0. This feature will be removed in v6.0.0. See https://github.com/optuna/optuna/releases/tag/v3.0.0. Use suggest_float(..., log=True) instead.\n",
      "  \"gb__learning_rate\":      trial.suggest_loguniform(\"learning_rate\", 1e-3, 0.3),\n",
      "C:\\Users\\alexa\\AppData\\Local\\Temp\\ipykernel_72564\\1941495575.py:13: FutureWarning: suggest_uniform has been deprecated in v3.0.0. This feature will be removed in v6.0.0. See https://github.com/optuna/optuna/releases/tag/v3.0.0. Use suggest_float instead.\n",
      "  \"gb__l2_regularization\":  trial.suggest_uniform(\"l2_regularization\", 0.0, 2.0)\n"
     ]
    },
    {
     "name": "stdout",
     "output_type": "stream",
     "text": [
      "[I 2025-07-06 18:17:10,470] Trial 120 finished with value: 0.7126953133960248 and parameters: {'learning_rate': 0.21033793660799605, 'max_leaf_nodes': 66, 'max_depth': 2, 'min_samples_leaf': 126, 'l2_regularization': 1.351236935639972}. Best is trial 21 with value: 0.7144807245847764.\n"
     ]
    },
    {
     "name": "stderr",
     "output_type": "stream",
     "text": [
      "Best trial: 21. Best value: 0.714481:  61%|██████    | 122/200 [05:17<03:07,  2.40s/it]C:\\Users\\alexa\\AppData\\Local\\Temp\\ipykernel_72564\\1941495575.py:9: FutureWarning: suggest_loguniform has been deprecated in v3.0.0. This feature will be removed in v6.0.0. See https://github.com/optuna/optuna/releases/tag/v3.0.0. Use suggest_float(..., log=True) instead.\n",
      "  \"gb__learning_rate\":      trial.suggest_loguniform(\"learning_rate\", 1e-3, 0.3),\n",
      "C:\\Users\\alexa\\AppData\\Local\\Temp\\ipykernel_72564\\1941495575.py:13: FutureWarning: suggest_uniform has been deprecated in v3.0.0. This feature will be removed in v6.0.0. See https://github.com/optuna/optuna/releases/tag/v3.0.0. Use suggest_float instead.\n",
      "  \"gb__l2_regularization\":  trial.suggest_uniform(\"l2_regularization\", 0.0, 2.0)\n"
     ]
    },
    {
     "name": "stdout",
     "output_type": "stream",
     "text": [
      "[I 2025-07-06 18:17:12,871] Trial 121 finished with value: 0.7134242623880164 and parameters: {'learning_rate': 0.23637588724735442, 'max_leaf_nodes': 63, 'max_depth': 2, 'min_samples_leaf': 113, 'l2_regularization': 1.4150239353844836}. Best is trial 21 with value: 0.7144807245847764.\n"
     ]
    },
    {
     "name": "stderr",
     "output_type": "stream",
     "text": [
      "Best trial: 21. Best value: 0.714481:  62%|██████▏   | 123/200 [05:19<03:06,  2.42s/it]C:\\Users\\alexa\\AppData\\Local\\Temp\\ipykernel_72564\\1941495575.py:9: FutureWarning: suggest_loguniform has been deprecated in v3.0.0. This feature will be removed in v6.0.0. See https://github.com/optuna/optuna/releases/tag/v3.0.0. Use suggest_float(..., log=True) instead.\n",
      "  \"gb__learning_rate\":      trial.suggest_loguniform(\"learning_rate\", 1e-3, 0.3),\n",
      "C:\\Users\\alexa\\AppData\\Local\\Temp\\ipykernel_72564\\1941495575.py:13: FutureWarning: suggest_uniform has been deprecated in v3.0.0. This feature will be removed in v6.0.0. See https://github.com/optuna/optuna/releases/tag/v3.0.0. Use suggest_float instead.\n",
      "  \"gb__l2_regularization\":  trial.suggest_uniform(\"l2_regularization\", 0.0, 2.0)\n"
     ]
    },
    {
     "name": "stdout",
     "output_type": "stream",
     "text": [
      "[I 2025-07-06 18:17:15,342] Trial 122 finished with value: 0.7139539178100829 and parameters: {'learning_rate': 0.268086353484152, 'max_leaf_nodes': 59, 'max_depth': 2, 'min_samples_leaf': 118, 'l2_regularization': 1.4753042572435193}. Best is trial 21 with value: 0.7144807245847764.\n"
     ]
    },
    {
     "name": "stderr",
     "output_type": "stream",
     "text": [
      "Best trial: 21. Best value: 0.714481:  62%|██████▏   | 124/200 [05:22<03:06,  2.45s/it]C:\\Users\\alexa\\AppData\\Local\\Temp\\ipykernel_72564\\1941495575.py:9: FutureWarning: suggest_loguniform has been deprecated in v3.0.0. This feature will be removed in v6.0.0. See https://github.com/optuna/optuna/releases/tag/v3.0.0. Use suggest_float(..., log=True) instead.\n",
      "  \"gb__learning_rate\":      trial.suggest_loguniform(\"learning_rate\", 1e-3, 0.3),\n",
      "C:\\Users\\alexa\\AppData\\Local\\Temp\\ipykernel_72564\\1941495575.py:13: FutureWarning: suggest_uniform has been deprecated in v3.0.0. This feature will be removed in v6.0.0. See https://github.com/optuna/optuna/releases/tag/v3.0.0. Use suggest_float instead.\n",
      "  \"gb__l2_regularization\":  trial.suggest_uniform(\"l2_regularization\", 0.0, 2.0)\n"
     ]
    },
    {
     "name": "stdout",
     "output_type": "stream",
     "text": [
      "[I 2025-07-06 18:17:17,870] Trial 123 finished with value: 0.7133070841872822 and parameters: {'learning_rate': 0.20244368806586077, 'max_leaf_nodes': 75, 'max_depth': 2, 'min_samples_leaf': 142, 'l2_regularization': 1.2433434963472667}. Best is trial 21 with value: 0.7144807245847764.\n"
     ]
    },
    {
     "name": "stderr",
     "output_type": "stream",
     "text": [
      "Best trial: 21. Best value: 0.714481:  62%|██████▎   | 125/200 [05:24<03:00,  2.41s/it]C:\\Users\\alexa\\AppData\\Local\\Temp\\ipykernel_72564\\1941495575.py:9: FutureWarning: suggest_loguniform has been deprecated in v3.0.0. This feature will be removed in v6.0.0. See https://github.com/optuna/optuna/releases/tag/v3.0.0. Use suggest_float(..., log=True) instead.\n",
      "  \"gb__learning_rate\":      trial.suggest_loguniform(\"learning_rate\", 1e-3, 0.3),\n",
      "C:\\Users\\alexa\\AppData\\Local\\Temp\\ipykernel_72564\\1941495575.py:13: FutureWarning: suggest_uniform has been deprecated in v3.0.0. This feature will be removed in v6.0.0. See https://github.com/optuna/optuna/releases/tag/v3.0.0. Use suggest_float instead.\n",
      "  \"gb__l2_regularization\":  trial.suggest_uniform(\"l2_regularization\", 0.0, 2.0)\n"
     ]
    },
    {
     "name": "stdout",
     "output_type": "stream",
     "text": [
      "[I 2025-07-06 18:17:20,177] Trial 124 finished with value: 0.7127482278079799 and parameters: {'learning_rate': 0.23646209808363733, 'max_leaf_nodes': 56, 'max_depth': 2, 'min_samples_leaf': 43, 'l2_regularization': 1.3587321587275454}. Best is trial 21 with value: 0.7144807245847764.\n"
     ]
    },
    {
     "name": "stderr",
     "output_type": "stream",
     "text": [
      "Best trial: 21. Best value: 0.714481:  63%|██████▎   | 126/200 [05:27<02:56,  2.39s/it]C:\\Users\\alexa\\AppData\\Local\\Temp\\ipykernel_72564\\1941495575.py:9: FutureWarning: suggest_loguniform has been deprecated in v3.0.0. This feature will be removed in v6.0.0. See https://github.com/optuna/optuna/releases/tag/v3.0.0. Use suggest_float(..., log=True) instead.\n",
      "  \"gb__learning_rate\":      trial.suggest_loguniform(\"learning_rate\", 1e-3, 0.3),\n",
      "C:\\Users\\alexa\\AppData\\Local\\Temp\\ipykernel_72564\\1941495575.py:13: FutureWarning: suggest_uniform has been deprecated in v3.0.0. This feature will be removed in v6.0.0. See https://github.com/optuna/optuna/releases/tag/v3.0.0. Use suggest_float instead.\n",
      "  \"gb__l2_regularization\":  trial.suggest_uniform(\"l2_regularization\", 0.0, 2.0)\n"
     ]
    },
    {
     "name": "stdout",
     "output_type": "stream",
     "text": [
      "[I 2025-07-06 18:17:22,521] Trial 125 finished with value: 0.7137970274336742 and parameters: {'learning_rate': 0.2995850785440281, 'max_leaf_nodes': 38, 'max_depth': 2, 'min_samples_leaf': 119, 'l2_regularization': 1.2769250465088073}. Best is trial 21 with value: 0.7144807245847764.\n"
     ]
    },
    {
     "name": "stderr",
     "output_type": "stream",
     "text": [
      "Best trial: 21. Best value: 0.714481:  64%|██████▎   | 127/200 [05:29<02:56,  2.41s/it]C:\\Users\\alexa\\AppData\\Local\\Temp\\ipykernel_72564\\1941495575.py:9: FutureWarning: suggest_loguniform has been deprecated in v3.0.0. This feature will be removed in v6.0.0. See https://github.com/optuna/optuna/releases/tag/v3.0.0. Use suggest_float(..., log=True) instead.\n",
      "  \"gb__learning_rate\":      trial.suggest_loguniform(\"learning_rate\", 1e-3, 0.3),\n",
      "C:\\Users\\alexa\\AppData\\Local\\Temp\\ipykernel_72564\\1941495575.py:13: FutureWarning: suggest_uniform has been deprecated in v3.0.0. This feature will be removed in v6.0.0. See https://github.com/optuna/optuna/releases/tag/v3.0.0. Use suggest_float instead.\n",
      "  \"gb__l2_regularization\":  trial.suggest_uniform(\"l2_regularization\", 0.0, 2.0)\n"
     ]
    },
    {
     "name": "stdout",
     "output_type": "stream",
     "text": [
      "[I 2025-07-06 18:17:24,986] Trial 126 finished with value: 0.7127067214006252 and parameters: {'learning_rate': 0.18783307175312552, 'max_leaf_nodes': 80, 'max_depth': 2, 'min_samples_leaf': 106, 'l2_regularization': 1.404387749806024}. Best is trial 21 with value: 0.7144807245847764.\n"
     ]
    },
    {
     "name": "stderr",
     "output_type": "stream",
     "text": [
      "Best trial: 21. Best value: 0.714481:  64%|██████▍   | 128/200 [05:31<02:50,  2.37s/it]C:\\Users\\alexa\\AppData\\Local\\Temp\\ipykernel_72564\\1941495575.py:9: FutureWarning: suggest_loguniform has been deprecated in v3.0.0. This feature will be removed in v6.0.0. See https://github.com/optuna/optuna/releases/tag/v3.0.0. Use suggest_float(..., log=True) instead.\n",
      "  \"gb__learning_rate\":      trial.suggest_loguniform(\"learning_rate\", 1e-3, 0.3),\n",
      "C:\\Users\\alexa\\AppData\\Local\\Temp\\ipykernel_72564\\1941495575.py:13: FutureWarning: suggest_uniform has been deprecated in v3.0.0. This feature will be removed in v6.0.0. See https://github.com/optuna/optuna/releases/tag/v3.0.0. Use suggest_float instead.\n",
      "  \"gb__l2_regularization\":  trial.suggest_uniform(\"l2_regularization\", 0.0, 2.0)\n"
     ]
    },
    {
     "name": "stdout",
     "output_type": "stream",
     "text": [
      "[I 2025-07-06 18:17:27,256] Trial 127 finished with value: 0.7131597149699856 and parameters: {'learning_rate': 0.22581544251859054, 'max_leaf_nodes': 98, 'max_depth': 2, 'min_samples_leaf': 94, 'l2_regularization': 1.5145240660267243}. Best is trial 21 with value: 0.7144807245847764.\n"
     ]
    },
    {
     "name": "stderr",
     "output_type": "stream",
     "text": [
      "Best trial: 21. Best value: 0.714481:  64%|██████▍   | 129/200 [05:34<02:49,  2.39s/it]C:\\Users\\alexa\\AppData\\Local\\Temp\\ipykernel_72564\\1941495575.py:9: FutureWarning: suggest_loguniform has been deprecated in v3.0.0. This feature will be removed in v6.0.0. See https://github.com/optuna/optuna/releases/tag/v3.0.0. Use suggest_float(..., log=True) instead.\n",
      "  \"gb__learning_rate\":      trial.suggest_loguniform(\"learning_rate\", 1e-3, 0.3),\n",
      "C:\\Users\\alexa\\AppData\\Local\\Temp\\ipykernel_72564\\1941495575.py:13: FutureWarning: suggest_uniform has been deprecated in v3.0.0. This feature will be removed in v6.0.0. See https://github.com/optuna/optuna/releases/tag/v3.0.0. Use suggest_float instead.\n",
      "  \"gb__l2_regularization\":  trial.suggest_uniform(\"l2_regularization\", 0.0, 2.0)\n"
     ]
    },
    {
     "name": "stdout",
     "output_type": "stream",
     "text": [
      "[I 2025-07-06 18:17:29,702] Trial 128 finished with value: 0.7127859027999833 and parameters: {'learning_rate': 0.15158041117359608, 'max_leaf_nodes': 109, 'max_depth': 2, 'min_samples_leaf': 24, 'l2_regularization': 1.4575412907308616}. Best is trial 21 with value: 0.7144807245847764.\n"
     ]
    },
    {
     "name": "stderr",
     "output_type": "stream",
     "text": [
      "Best trial: 21. Best value: 0.714481:  65%|██████▌   | 130/200 [05:36<02:36,  2.23s/it]C:\\Users\\alexa\\AppData\\Local\\Temp\\ipykernel_72564\\1941495575.py:9: FutureWarning: suggest_loguniform has been deprecated in v3.0.0. This feature will be removed in v6.0.0. See https://github.com/optuna/optuna/releases/tag/v3.0.0. Use suggest_float(..., log=True) instead.\n",
      "  \"gb__learning_rate\":      trial.suggest_loguniform(\"learning_rate\", 1e-3, 0.3),\n",
      "C:\\Users\\alexa\\AppData\\Local\\Temp\\ipykernel_72564\\1941495575.py:13: FutureWarning: suggest_uniform has been deprecated in v3.0.0. This feature will be removed in v6.0.0. See https://github.com/optuna/optuna/releases/tag/v3.0.0. Use suggest_float instead.\n",
      "  \"gb__l2_regularization\":  trial.suggest_uniform(\"l2_regularization\", 0.0, 2.0)\n"
     ]
    },
    {
     "name": "stdout",
     "output_type": "stream",
     "text": [
      "[I 2025-07-06 18:17:31,550] Trial 129 finished with value: 0.7132469454595858 and parameters: {'learning_rate': 0.26370196900078, 'max_leaf_nodes': 114, 'max_depth': 2, 'min_samples_leaf': 18, 'l2_regularization': 1.3762694297631284}. Best is trial 21 with value: 0.7144807245847764.\n"
     ]
    },
    {
     "name": "stderr",
     "output_type": "stream",
     "text": [
      "Best trial: 21. Best value: 0.714481:  66%|██████▌   | 131/200 [05:38<02:39,  2.32s/it]C:\\Users\\alexa\\AppData\\Local\\Temp\\ipykernel_72564\\1941495575.py:9: FutureWarning: suggest_loguniform has been deprecated in v3.0.0. This feature will be removed in v6.0.0. See https://github.com/optuna/optuna/releases/tag/v3.0.0. Use suggest_float(..., log=True) instead.\n",
      "  \"gb__learning_rate\":      trial.suggest_loguniform(\"learning_rate\", 1e-3, 0.3),\n",
      "C:\\Users\\alexa\\AppData\\Local\\Temp\\ipykernel_72564\\1941495575.py:13: FutureWarning: suggest_uniform has been deprecated in v3.0.0. This feature will be removed in v6.0.0. See https://github.com/optuna/optuna/releases/tag/v3.0.0. Use suggest_float instead.\n",
      "  \"gb__l2_regularization\":  trial.suggest_uniform(\"l2_regularization\", 0.0, 2.0)\n"
     ]
    },
    {
     "name": "stdout",
     "output_type": "stream",
     "text": [
      "[I 2025-07-06 18:17:34,068] Trial 130 finished with value: 0.7133068667592288 and parameters: {'learning_rate': 0.20231697707439497, 'max_leaf_nodes': 88, 'max_depth': 2, 'min_samples_leaf': 130, 'l2_regularization': 0.9756037893004933}. Best is trial 21 with value: 0.7144807245847764.\n"
     ]
    },
    {
     "name": "stderr",
     "output_type": "stream",
     "text": [
      "Best trial: 21. Best value: 0.714481:  66%|██████▌   | 132/200 [05:40<02:37,  2.32s/it]C:\\Users\\alexa\\AppData\\Local\\Temp\\ipykernel_72564\\1941495575.py:9: FutureWarning: suggest_loguniform has been deprecated in v3.0.0. This feature will be removed in v6.0.0. See https://github.com/optuna/optuna/releases/tag/v3.0.0. Use suggest_float(..., log=True) instead.\n",
      "  \"gb__learning_rate\":      trial.suggest_loguniform(\"learning_rate\", 1e-3, 0.3),\n",
      "C:\\Users\\alexa\\AppData\\Local\\Temp\\ipykernel_72564\\1941495575.py:13: FutureWarning: suggest_uniform has been deprecated in v3.0.0. This feature will be removed in v6.0.0. See https://github.com/optuna/optuna/releases/tag/v3.0.0. Use suggest_float instead.\n",
      "  \"gb__l2_regularization\":  trial.suggest_uniform(\"l2_regularization\", 0.0, 2.0)\n"
     ]
    },
    {
     "name": "stdout",
     "output_type": "stream",
     "text": [
      "[I 2025-07-06 18:17:36,392] Trial 131 finished with value: 0.7139603166594415 and parameters: {'learning_rate': 0.2671866765845711, 'max_leaf_nodes': 61, 'max_depth': 2, 'min_samples_leaf': 117, 'l2_regularization': 1.4723249348880314}. Best is trial 21 with value: 0.7144807245847764.\n"
     ]
    },
    {
     "name": "stderr",
     "output_type": "stream",
     "text": [
      "Best trial: 21. Best value: 0.714481:  66%|██████▋   | 133/200 [05:43<02:39,  2.38s/it]C:\\Users\\alexa\\AppData\\Local\\Temp\\ipykernel_72564\\1941495575.py:9: FutureWarning: suggest_loguniform has been deprecated in v3.0.0. This feature will be removed in v6.0.0. See https://github.com/optuna/optuna/releases/tag/v3.0.0. Use suggest_float(..., log=True) instead.\n",
      "  \"gb__learning_rate\":      trial.suggest_loguniform(\"learning_rate\", 1e-3, 0.3),\n",
      "C:\\Users\\alexa\\AppData\\Local\\Temp\\ipykernel_72564\\1941495575.py:13: FutureWarning: suggest_uniform has been deprecated in v3.0.0. This feature will be removed in v6.0.0. See https://github.com/optuna/optuna/releases/tag/v3.0.0. Use suggest_float instead.\n",
      "  \"gb__l2_regularization\":  trial.suggest_uniform(\"l2_regularization\", 0.0, 2.0)\n"
     ]
    },
    {
     "name": "stdout",
     "output_type": "stream",
     "text": [
      "[I 2025-07-06 18:17:38,912] Trial 132 finished with value: 0.7141185233857519 and parameters: {'learning_rate': 0.24866871629660775, 'max_leaf_nodes': 75, 'max_depth': 2, 'min_samples_leaf': 122, 'l2_regularization': 1.4904459853849201}. Best is trial 21 with value: 0.7144807245847764.\n"
     ]
    },
    {
     "name": "stderr",
     "output_type": "stream",
     "text": [
      "Best trial: 21. Best value: 0.714481:  67%|██████▋   | 134/200 [05:45<02:38,  2.40s/it]C:\\Users\\alexa\\AppData\\Local\\Temp\\ipykernel_72564\\1941495575.py:9: FutureWarning: suggest_loguniform has been deprecated in v3.0.0. This feature will be removed in v6.0.0. See https://github.com/optuna/optuna/releases/tag/v3.0.0. Use suggest_float(..., log=True) instead.\n",
      "  \"gb__learning_rate\":      trial.suggest_loguniform(\"learning_rate\", 1e-3, 0.3),\n",
      "C:\\Users\\alexa\\AppData\\Local\\Temp\\ipykernel_72564\\1941495575.py:13: FutureWarning: suggest_uniform has been deprecated in v3.0.0. This feature will be removed in v6.0.0. See https://github.com/optuna/optuna/releases/tag/v3.0.0. Use suggest_float instead.\n",
      "  \"gb__l2_regularization\":  trial.suggest_uniform(\"l2_regularization\", 0.0, 2.0)\n"
     ]
    },
    {
     "name": "stdout",
     "output_type": "stream",
     "text": [
      "[I 2025-07-06 18:17:41,367] Trial 133 finished with value: 0.7125245588628811 and parameters: {'learning_rate': 0.1738065585153952, 'max_leaf_nodes': 72, 'max_depth': 2, 'min_samples_leaf': 133, 'l2_regularization': 1.566960950706156}. Best is trial 21 with value: 0.7144807245847764.\n"
     ]
    },
    {
     "name": "stderr",
     "output_type": "stream",
     "text": [
      "Best trial: 21. Best value: 0.714481:  68%|██████▊   | 135/200 [05:48<02:35,  2.40s/it]C:\\Users\\alexa\\AppData\\Local\\Temp\\ipykernel_72564\\1941495575.py:9: FutureWarning: suggest_loguniform has been deprecated in v3.0.0. This feature will be removed in v6.0.0. See https://github.com/optuna/optuna/releases/tag/v3.0.0. Use suggest_float(..., log=True) instead.\n",
      "  \"gb__learning_rate\":      trial.suggest_loguniform(\"learning_rate\", 1e-3, 0.3),\n",
      "C:\\Users\\alexa\\AppData\\Local\\Temp\\ipykernel_72564\\1941495575.py:13: FutureWarning: suggest_uniform has been deprecated in v3.0.0. This feature will be removed in v6.0.0. See https://github.com/optuna/optuna/releases/tag/v3.0.0. Use suggest_float instead.\n",
      "  \"gb__l2_regularization\":  trial.suggest_uniform(\"l2_regularization\", 0.0, 2.0)\n"
     ]
    },
    {
     "name": "stdout",
     "output_type": "stream",
     "text": [
      "[I 2025-07-06 18:17:43,749] Trial 134 finished with value: 0.7131806751517485 and parameters: {'learning_rate': 0.2236290618178275, 'max_leaf_nodes': 206, 'max_depth': 2, 'min_samples_leaf': 122, 'l2_regularization': 1.334574511982228}. Best is trial 21 with value: 0.7144807245847764.\n"
     ]
    },
    {
     "name": "stderr",
     "output_type": "stream",
     "text": [
      "Best trial: 21. Best value: 0.714481:  68%|██████▊   | 136/200 [05:49<02:13,  2.08s/it]C:\\Users\\alexa\\AppData\\Local\\Temp\\ipykernel_72564\\1941495575.py:9: FutureWarning: suggest_loguniform has been deprecated in v3.0.0. This feature will be removed in v6.0.0. See https://github.com/optuna/optuna/releases/tag/v3.0.0. Use suggest_float(..., log=True) instead.\n",
      "  \"gb__learning_rate\":      trial.suggest_loguniform(\"learning_rate\", 1e-3, 0.3),\n",
      "C:\\Users\\alexa\\AppData\\Local\\Temp\\ipykernel_72564\\1941495575.py:13: FutureWarning: suggest_uniform has been deprecated in v3.0.0. This feature will be removed in v6.0.0. See https://github.com/optuna/optuna/releases/tag/v3.0.0. Use suggest_float instead.\n",
      "  \"gb__l2_regularization\":  trial.suggest_uniform(\"l2_regularization\", 0.0, 2.0)\n"
     ]
    },
    {
     "name": "stdout",
     "output_type": "stream",
     "text": [
      "[I 2025-07-06 18:17:45,092] Trial 135 finished with value: 0.7111970729237063 and parameters: {'learning_rate': 0.23426424459832423, 'max_leaf_nodes': 78, 'max_depth': 8, 'min_samples_leaf': 108, 'l2_regularization': 1.4275365312993087}. Best is trial 21 with value: 0.7144807245847764.\n"
     ]
    },
    {
     "name": "stderr",
     "output_type": "stream",
     "text": [
      "Best trial: 21. Best value: 0.714481:  68%|██████▊   | 137/200 [05:52<02:17,  2.18s/it]C:\\Users\\alexa\\AppData\\Local\\Temp\\ipykernel_72564\\1941495575.py:9: FutureWarning: suggest_loguniform has been deprecated in v3.0.0. This feature will be removed in v6.0.0. See https://github.com/optuna/optuna/releases/tag/v3.0.0. Use suggest_float(..., log=True) instead.\n",
      "  \"gb__learning_rate\":      trial.suggest_loguniform(\"learning_rate\", 1e-3, 0.3),\n",
      "C:\\Users\\alexa\\AppData\\Local\\Temp\\ipykernel_72564\\1941495575.py:13: FutureWarning: suggest_uniform has been deprecated in v3.0.0. This feature will be removed in v6.0.0. See https://github.com/optuna/optuna/releases/tag/v3.0.0. Use suggest_float instead.\n",
      "  \"gb__l2_regularization\":  trial.suggest_uniform(\"l2_regularization\", 0.0, 2.0)\n"
     ]
    },
    {
     "name": "stdout",
     "output_type": "stream",
     "text": [
      "[I 2025-07-06 18:17:47,498] Trial 136 finished with value: 0.7126403468189604 and parameters: {'learning_rate': 0.1890909866148675, 'max_leaf_nodes': 82, 'max_depth': 2, 'min_samples_leaf': 103, 'l2_regularization': 1.5927763850295247}. Best is trial 21 with value: 0.7144807245847764.\n"
     ]
    },
    {
     "name": "stderr",
     "output_type": "stream",
     "text": [
      "Best trial: 21. Best value: 0.714481:  69%|██████▉   | 138/200 [05:54<02:16,  2.20s/it]C:\\Users\\alexa\\AppData\\Local\\Temp\\ipykernel_72564\\1941495575.py:9: FutureWarning: suggest_loguniform has been deprecated in v3.0.0. This feature will be removed in v6.0.0. See https://github.com/optuna/optuna/releases/tag/v3.0.0. Use suggest_float(..., log=True) instead.\n",
      "  \"gb__learning_rate\":      trial.suggest_loguniform(\"learning_rate\", 1e-3, 0.3),\n",
      "C:\\Users\\alexa\\AppData\\Local\\Temp\\ipykernel_72564\\1941495575.py:13: FutureWarning: suggest_uniform has been deprecated in v3.0.0. This feature will be removed in v6.0.0. See https://github.com/optuna/optuna/releases/tag/v3.0.0. Use suggest_float instead.\n",
      "  \"gb__l2_regularization\":  trial.suggest_uniform(\"l2_regularization\", 0.0, 2.0)\n"
     ]
    },
    {
     "name": "stdout",
     "output_type": "stream",
     "text": [
      "[I 2025-07-06 18:17:49,764] Trial 137 finished with value: 0.7131665486645303 and parameters: {'learning_rate': 0.2949840968115203, 'max_leaf_nodes': 91, 'max_depth': 2, 'min_samples_leaf': 127, 'l2_regularization': 1.4991270695932721}. Best is trial 21 with value: 0.7144807245847764.\n"
     ]
    },
    {
     "name": "stderr",
     "output_type": "stream",
     "text": [
      "Best trial: 21. Best value: 0.714481:  70%|██████▉   | 139/200 [05:56<02:06,  2.07s/it]C:\\Users\\alexa\\AppData\\Local\\Temp\\ipykernel_72564\\1941495575.py:9: FutureWarning: suggest_loguniform has been deprecated in v3.0.0. This feature will be removed in v6.0.0. See https://github.com/optuna/optuna/releases/tag/v3.0.0. Use suggest_float(..., log=True) instead.\n",
      "  \"gb__learning_rate\":      trial.suggest_loguniform(\"learning_rate\", 1e-3, 0.3),\n",
      "C:\\Users\\alexa\\AppData\\Local\\Temp\\ipykernel_72564\\1941495575.py:13: FutureWarning: suggest_uniform has been deprecated in v3.0.0. This feature will be removed in v6.0.0. See https://github.com/optuna/optuna/releases/tag/v3.0.0. Use suggest_float instead.\n",
      "  \"gb__l2_regularization\":  trial.suggest_uniform(\"l2_regularization\", 0.0, 2.0)\n"
     ]
    },
    {
     "name": "stdout",
     "output_type": "stream",
     "text": [
      "[I 2025-07-06 18:17:51,536] Trial 138 finished with value: 0.7136728818155864 and parameters: {'learning_rate': 0.2529965311896251, 'max_leaf_nodes': 75, 'max_depth': 3, 'min_samples_leaf': 99, 'l2_regularization': 0.8569752107602612}. Best is trial 21 with value: 0.7144807245847764.\n"
     ]
    },
    {
     "name": "stderr",
     "output_type": "stream",
     "text": [
      "Best trial: 21. Best value: 0.714481:  70%|███████   | 140/200 [05:58<02:12,  2.21s/it]C:\\Users\\alexa\\AppData\\Local\\Temp\\ipykernel_72564\\1941495575.py:9: FutureWarning: suggest_loguniform has been deprecated in v3.0.0. This feature will be removed in v6.0.0. See https://github.com/optuna/optuna/releases/tag/v3.0.0. Use suggest_float(..., log=True) instead.\n",
      "  \"gb__learning_rate\":      trial.suggest_loguniform(\"learning_rate\", 1e-3, 0.3),\n",
      "C:\\Users\\alexa\\AppData\\Local\\Temp\\ipykernel_72564\\1941495575.py:13: FutureWarning: suggest_uniform has been deprecated in v3.0.0. This feature will be removed in v6.0.0. See https://github.com/optuna/optuna/releases/tag/v3.0.0. Use suggest_float instead.\n",
      "  \"gb__l2_regularization\":  trial.suggest_uniform(\"l2_regularization\", 0.0, 2.0)\n"
     ]
    },
    {
     "name": "stdout",
     "output_type": "stream",
     "text": [
      "[I 2025-07-06 18:17:54,070] Trial 139 finished with value: 0.7121739861870588 and parameters: {'learning_rate': 0.16630905161645174, 'max_leaf_nodes': 102, 'max_depth': 2, 'min_samples_leaf': 138, 'l2_regularization': 1.6541682275150662}. Best is trial 21 with value: 0.7144807245847764.\n"
     ]
    },
    {
     "name": "stderr",
     "output_type": "stream",
     "text": [
      "Best trial: 21. Best value: 0.714481:  70%|███████   | 141/200 [06:00<02:03,  2.10s/it]C:\\Users\\alexa\\AppData\\Local\\Temp\\ipykernel_72564\\1941495575.py:9: FutureWarning: suggest_loguniform has been deprecated in v3.0.0. This feature will be removed in v6.0.0. See https://github.com/optuna/optuna/releases/tag/v3.0.0. Use suggest_float(..., log=True) instead.\n",
      "  \"gb__learning_rate\":      trial.suggest_loguniform(\"learning_rate\", 1e-3, 0.3),\n",
      "C:\\Users\\alexa\\AppData\\Local\\Temp\\ipykernel_72564\\1941495575.py:13: FutureWarning: suggest_uniform has been deprecated in v3.0.0. This feature will be removed in v6.0.0. See https://github.com/optuna/optuna/releases/tag/v3.0.0. Use suggest_float instead.\n",
      "  \"gb__l2_regularization\":  trial.suggest_uniform(\"l2_regularization\", 0.0, 2.0)\n"
     ]
    },
    {
     "name": "stdout",
     "output_type": "stream",
     "text": [
      "[I 2025-07-06 18:17:55,904] Trial 140 finished with value: 0.7134213288279584 and parameters: {'learning_rate': 0.21731013621167378, 'max_leaf_nodes': 68, 'max_depth': 3, 'min_samples_leaf': 20, 'l2_regularization': 1.552648107208344}. Best is trial 21 with value: 0.7144807245847764.\n"
     ]
    },
    {
     "name": "stderr",
     "output_type": "stream",
     "text": [
      "Best trial: 21. Best value: 0.714481:  71%|███████   | 142/200 [06:02<02:07,  2.20s/it]C:\\Users\\alexa\\AppData\\Local\\Temp\\ipykernel_72564\\1941495575.py:9: FutureWarning: suggest_loguniform has been deprecated in v3.0.0. This feature will be removed in v6.0.0. See https://github.com/optuna/optuna/releases/tag/v3.0.0. Use suggest_float(..., log=True) instead.\n",
      "  \"gb__learning_rate\":      trial.suggest_loguniform(\"learning_rate\", 1e-3, 0.3),\n",
      "C:\\Users\\alexa\\AppData\\Local\\Temp\\ipykernel_72564\\1941495575.py:13: FutureWarning: suggest_uniform has been deprecated in v3.0.0. This feature will be removed in v6.0.0. See https://github.com/optuna/optuna/releases/tag/v3.0.0. Use suggest_float instead.\n",
      "  \"gb__l2_regularization\":  trial.suggest_uniform(\"l2_regularization\", 0.0, 2.0)\n"
     ]
    },
    {
     "name": "stdout",
     "output_type": "stream",
     "text": [
      "[I 2025-07-06 18:17:58,328] Trial 141 finished with value: 0.7137889740119154 and parameters: {'learning_rate': 0.26021079460917795, 'max_leaf_nodes': 53, 'max_depth': 2, 'min_samples_leaf': 115, 'l2_regularization': 1.475154220687057}. Best is trial 21 with value: 0.7144807245847764.\n"
     ]
    },
    {
     "name": "stderr",
     "output_type": "stream",
     "text": [
      "Best trial: 21. Best value: 0.714481:  72%|███████▏  | 143/200 [06:05<02:08,  2.25s/it]C:\\Users\\alexa\\AppData\\Local\\Temp\\ipykernel_72564\\1941495575.py:9: FutureWarning: suggest_loguniform has been deprecated in v3.0.0. This feature will be removed in v6.0.0. See https://github.com/optuna/optuna/releases/tag/v3.0.0. Use suggest_float(..., log=True) instead.\n",
      "  \"gb__learning_rate\":      trial.suggest_loguniform(\"learning_rate\", 1e-3, 0.3),\n",
      "C:\\Users\\alexa\\AppData\\Local\\Temp\\ipykernel_72564\\1941495575.py:13: FutureWarning: suggest_uniform has been deprecated in v3.0.0. This feature will be removed in v6.0.0. See https://github.com/optuna/optuna/releases/tag/v3.0.0. Use suggest_float instead.\n",
      "  \"gb__l2_regularization\":  trial.suggest_uniform(\"l2_regularization\", 0.0, 2.0)\n"
     ]
    },
    {
     "name": "stdout",
     "output_type": "stream",
     "text": [
      "[I 2025-07-06 18:18:00,695] Trial 142 finished with value: 0.7136128367464796 and parameters: {'learning_rate': 0.27211236893847607, 'max_leaf_nodes': 65, 'max_depth': 2, 'min_samples_leaf': 122, 'l2_regularization': 1.3954541361143953}. Best is trial 21 with value: 0.7144807245847764.\n"
     ]
    },
    {
     "name": "stderr",
     "output_type": "stream",
     "text": [
      "Best trial: 21. Best value: 0.714481:  72%|███████▏  | 144/200 [06:07<02:10,  2.33s/it]C:\\Users\\alexa\\AppData\\Local\\Temp\\ipykernel_72564\\1941495575.py:9: FutureWarning: suggest_loguniform has been deprecated in v3.0.0. This feature will be removed in v6.0.0. See https://github.com/optuna/optuna/releases/tag/v3.0.0. Use suggest_float(..., log=True) instead.\n",
      "  \"gb__learning_rate\":      trial.suggest_loguniform(\"learning_rate\", 1e-3, 0.3),\n",
      "C:\\Users\\alexa\\AppData\\Local\\Temp\\ipykernel_72564\\1941495575.py:13: FutureWarning: suggest_uniform has been deprecated in v3.0.0. This feature will be removed in v6.0.0. See https://github.com/optuna/optuna/releases/tag/v3.0.0. Use suggest_float instead.\n",
      "  \"gb__l2_regularization\":  trial.suggest_uniform(\"l2_regularization\", 0.0, 2.0)\n"
     ]
    },
    {
     "name": "stdout",
     "output_type": "stream",
     "text": [
      "[I 2025-07-06 18:18:03,209] Trial 143 finished with value: 0.7124606209007405 and parameters: {'learning_rate': 0.20025728592317987, 'max_leaf_nodes': 60, 'max_depth': 2, 'min_samples_leaf': 109, 'l2_regularization': 1.4477116110349828}. Best is trial 21 with value: 0.7144807245847764.\n"
     ]
    },
    {
     "name": "stderr",
     "output_type": "stream",
     "text": [
      "Best trial: 21. Best value: 0.714481:  72%|███████▎  | 145/200 [06:10<02:09,  2.36s/it]C:\\Users\\alexa\\AppData\\Local\\Temp\\ipykernel_72564\\1941495575.py:9: FutureWarning: suggest_loguniform has been deprecated in v3.0.0. This feature will be removed in v6.0.0. See https://github.com/optuna/optuna/releases/tag/v3.0.0. Use suggest_float(..., log=True) instead.\n",
      "  \"gb__learning_rate\":      trial.suggest_loguniform(\"learning_rate\", 1e-3, 0.3),\n",
      "C:\\Users\\alexa\\AppData\\Local\\Temp\\ipykernel_72564\\1941495575.py:13: FutureWarning: suggest_uniform has been deprecated in v3.0.0. This feature will be removed in v6.0.0. See https://github.com/optuna/optuna/releases/tag/v3.0.0. Use suggest_float instead.\n",
      "  \"gb__l2_regularization\":  trial.suggest_uniform(\"l2_regularization\", 0.0, 2.0)\n"
     ]
    },
    {
     "name": "stdout",
     "output_type": "stream",
     "text": [
      "[I 2025-07-06 18:18:05,630] Trial 144 finished with value: 0.7139463169826478 and parameters: {'learning_rate': 0.24337034160235801, 'max_leaf_nodes': 48, 'max_depth': 2, 'min_samples_leaf': 119, 'l2_regularization': 1.5163266317332391}. Best is trial 21 with value: 0.7144807245847764.\n"
     ]
    },
    {
     "name": "stderr",
     "output_type": "stream",
     "text": [
      "Best trial: 21. Best value: 0.714481:  73%|███████▎  | 146/200 [06:12<01:59,  2.20s/it]C:\\Users\\alexa\\AppData\\Local\\Temp\\ipykernel_72564\\1941495575.py:9: FutureWarning: suggest_loguniform has been deprecated in v3.0.0. This feature will be removed in v6.0.0. See https://github.com/optuna/optuna/releases/tag/v3.0.0. Use suggest_float(..., log=True) instead.\n",
      "  \"gb__learning_rate\":      trial.suggest_loguniform(\"learning_rate\", 1e-3, 0.3),\n",
      "C:\\Users\\alexa\\AppData\\Local\\Temp\\ipykernel_72564\\1941495575.py:13: FutureWarning: suggest_uniform has been deprecated in v3.0.0. This feature will be removed in v6.0.0. See https://github.com/optuna/optuna/releases/tag/v3.0.0. Use suggest_float instead.\n",
      "  \"gb__l2_regularization\":  trial.suggest_uniform(\"l2_regularization\", 0.0, 2.0)\n"
     ]
    },
    {
     "name": "stdout",
     "output_type": "stream",
     "text": [
      "[I 2025-07-06 18:18:07,482] Trial 145 finished with value: 0.7143666972048022 and parameters: {'learning_rate': 0.2971282141051171, 'max_leaf_nodes': 84, 'max_depth': 2, 'min_samples_leaf': 17, 'l2_regularization': 1.3014792364897707}. Best is trial 21 with value: 0.7144807245847764.\n"
     ]
    },
    {
     "name": "stderr",
     "output_type": "stream",
     "text": [
      "Best trial: 21. Best value: 0.714481:  74%|███████▎  | 147/200 [06:13<01:51,  2.11s/it]C:\\Users\\alexa\\AppData\\Local\\Temp\\ipykernel_72564\\1941495575.py:9: FutureWarning: suggest_loguniform has been deprecated in v3.0.0. This feature will be removed in v6.0.0. See https://github.com/optuna/optuna/releases/tag/v3.0.0. Use suggest_float(..., log=True) instead.\n",
      "  \"gb__learning_rate\":      trial.suggest_loguniform(\"learning_rate\", 1e-3, 0.3),\n",
      "C:\\Users\\alexa\\AppData\\Local\\Temp\\ipykernel_72564\\1941495575.py:13: FutureWarning: suggest_uniform has been deprecated in v3.0.0. This feature will be removed in v6.0.0. See https://github.com/optuna/optuna/releases/tag/v3.0.0. Use suggest_float instead.\n",
      "  \"gb__l2_regularization\":  trial.suggest_uniform(\"l2_regularization\", 0.0, 2.0)\n"
     ]
    },
    {
     "name": "stdout",
     "output_type": "stream",
     "text": [
      "[I 2025-07-06 18:18:09,370] Trial 146 finished with value: 0.7133600031629326 and parameters: {'learning_rate': 0.2955150597468554, 'max_leaf_nodes': 85, 'max_depth': 2, 'min_samples_leaf': 16, 'l2_regularization': 1.191126469217037}. Best is trial 21 with value: 0.7144807245847764.\n"
     ]
    },
    {
     "name": "stderr",
     "output_type": "stream",
     "text": [
      "Best trial: 21. Best value: 0.714481:  74%|███████▍  | 148/200 [06:16<01:50,  2.12s/it]C:\\Users\\alexa\\AppData\\Local\\Temp\\ipykernel_72564\\1941495575.py:9: FutureWarning: suggest_loguniform has been deprecated in v3.0.0. This feature will be removed in v6.0.0. See https://github.com/optuna/optuna/releases/tag/v3.0.0. Use suggest_float(..., log=True) instead.\n",
      "  \"gb__learning_rate\":      trial.suggest_loguniform(\"learning_rate\", 1e-3, 0.3),\n",
      "C:\\Users\\alexa\\AppData\\Local\\Temp\\ipykernel_72564\\1941495575.py:13: FutureWarning: suggest_uniform has been deprecated in v3.0.0. This feature will be removed in v6.0.0. See https://github.com/optuna/optuna/releases/tag/v3.0.0. Use suggest_float instead.\n",
      "  \"gb__l2_regularization\":  trial.suggest_uniform(\"l2_regularization\", 0.0, 2.0)\n"
     ]
    },
    {
     "name": "stdout",
     "output_type": "stream",
     "text": [
      "[I 2025-07-06 18:18:11,526] Trial 147 finished with value: 0.7128277243365756 and parameters: {'learning_rate': 0.18006397859535878, 'max_leaf_nodes': 126, 'max_depth': 3, 'min_samples_leaf': 22, 'l2_regularization': 1.2952668672507388}. Best is trial 21 with value: 0.7144807245847764.\n"
     ]
    },
    {
     "name": "stderr",
     "output_type": "stream",
     "text": [
      "Best trial: 21. Best value: 0.714481:  74%|███████▍  | 149/200 [06:18<01:55,  2.26s/it]C:\\Users\\alexa\\AppData\\Local\\Temp\\ipykernel_72564\\1941495575.py:9: FutureWarning: suggest_loguniform has been deprecated in v3.0.0. This feature will be removed in v6.0.0. See https://github.com/optuna/optuna/releases/tag/v3.0.0. Use suggest_float(..., log=True) instead.\n",
      "  \"gb__learning_rate\":      trial.suggest_loguniform(\"learning_rate\", 1e-3, 0.3),\n",
      "C:\\Users\\alexa\\AppData\\Local\\Temp\\ipykernel_72564\\1941495575.py:13: FutureWarning: suggest_uniform has been deprecated in v3.0.0. This feature will be removed in v6.0.0. See https://github.com/optuna/optuna/releases/tag/v3.0.0. Use suggest_float instead.\n",
      "  \"gb__l2_regularization\":  trial.suggest_uniform(\"l2_regularization\", 0.0, 2.0)\n"
     ]
    },
    {
     "name": "stdout",
     "output_type": "stream",
     "text": [
      "[I 2025-07-06 18:18:14,094] Trial 148 finished with value: 0.7133276066382802 and parameters: {'learning_rate': 0.15218025095906962, 'max_leaf_nodes': 97, 'max_depth': 2, 'min_samples_leaf': 11, 'l2_regularization': 1.3551225801235545}. Best is trial 21 with value: 0.7144807245847764.\n"
     ]
    },
    {
     "name": "stderr",
     "output_type": "stream",
     "text": [
      "Best trial: 21. Best value: 0.714481:  75%|███████▌  | 150/200 [06:20<01:46,  2.13s/it]C:\\Users\\alexa\\AppData\\Local\\Temp\\ipykernel_72564\\1941495575.py:9: FutureWarning: suggest_loguniform has been deprecated in v3.0.0. This feature will be removed in v6.0.0. See https://github.com/optuna/optuna/releases/tag/v3.0.0. Use suggest_float(..., log=True) instead.\n",
      "  \"gb__learning_rate\":      trial.suggest_loguniform(\"learning_rate\", 1e-3, 0.3),\n",
      "C:\\Users\\alexa\\AppData\\Local\\Temp\\ipykernel_72564\\1941495575.py:13: FutureWarning: suggest_uniform has been deprecated in v3.0.0. This feature will be removed in v6.0.0. See https://github.com/optuna/optuna/releases/tag/v3.0.0. Use suggest_float instead.\n",
      "  \"gb__l2_regularization\":  trial.suggest_uniform(\"l2_regularization\", 0.0, 2.0)\n"
     ]
    },
    {
     "name": "stdout",
     "output_type": "stream",
     "text": [
      "[I 2025-07-06 18:18:15,923] Trial 149 finished with value: 0.7129825526276499 and parameters: {'learning_rate': 0.2199500063226511, 'max_leaf_nodes': 93, 'max_depth': 3, 'min_samples_leaf': 32, 'l2_regularization': 1.6921627477445969}. Best is trial 21 with value: 0.7144807245847764.\n"
     ]
    },
    {
     "name": "stderr",
     "output_type": "stream",
     "text": [
      "Best trial: 21. Best value: 0.714481:  76%|███████▌  | 151/200 [06:21<01:28,  1.80s/it]C:\\Users\\alexa\\AppData\\Local\\Temp\\ipykernel_72564\\1941495575.py:9: FutureWarning: suggest_loguniform has been deprecated in v3.0.0. This feature will be removed in v6.0.0. See https://github.com/optuna/optuna/releases/tag/v3.0.0. Use suggest_float(..., log=True) instead.\n",
      "  \"gb__learning_rate\":      trial.suggest_loguniform(\"learning_rate\", 1e-3, 0.3),\n",
      "C:\\Users\\alexa\\AppData\\Local\\Temp\\ipykernel_72564\\1941495575.py:13: FutureWarning: suggest_uniform has been deprecated in v3.0.0. This feature will be removed in v6.0.0. See https://github.com/optuna/optuna/releases/tag/v3.0.0. Use suggest_float instead.\n",
      "  \"gb__l2_regularization\":  trial.suggest_uniform(\"l2_regularization\", 0.0, 2.0)\n"
     ]
    },
    {
     "name": "stdout",
     "output_type": "stream",
     "text": [
      "[I 2025-07-06 18:18:16,949] Trial 150 finished with value: 0.7114129517729136 and parameters: {'learning_rate': 0.20006194888211265, 'max_leaf_nodes': 71, 'max_depth': 10, 'min_samples_leaf': 27, 'l2_regularization': 1.3213184302055003}. Best is trial 21 with value: 0.7144807245847764.\n"
     ]
    },
    {
     "name": "stderr",
     "output_type": "stream",
     "text": [
      "Best trial: 21. Best value: 0.714481:  76%|███████▌  | 152/200 [06:23<01:31,  1.91s/it]C:\\Users\\alexa\\AppData\\Local\\Temp\\ipykernel_72564\\1941495575.py:9: FutureWarning: suggest_loguniform has been deprecated in v3.0.0. This feature will be removed in v6.0.0. See https://github.com/optuna/optuna/releases/tag/v3.0.0. Use suggest_float(..., log=True) instead.\n",
      "  \"gb__learning_rate\":      trial.suggest_loguniform(\"learning_rate\", 1e-3, 0.3),\n",
      "C:\\Users\\alexa\\AppData\\Local\\Temp\\ipykernel_72564\\1941495575.py:13: FutureWarning: suggest_uniform has been deprecated in v3.0.0. This feature will be removed in v6.0.0. See https://github.com/optuna/optuna/releases/tag/v3.0.0. Use suggest_float instead.\n",
      "  \"gb__l2_regularization\":  trial.suggest_uniform(\"l2_regularization\", 0.0, 2.0)\n"
     ]
    },
    {
     "name": "stdout",
     "output_type": "stream",
     "text": [
      "[I 2025-07-06 18:18:19,125] Trial 151 finished with value: 0.7131859836537907 and parameters: {'learning_rate': 0.2585152036277535, 'max_leaf_nodes': 211, 'max_depth': 2, 'min_samples_leaf': 18, 'l2_regularization': 1.4131165947084185}. Best is trial 21 with value: 0.7144807245847764.\n"
     ]
    },
    {
     "name": "stderr",
     "output_type": "stream",
     "text": [
      "Best trial: 21. Best value: 0.714481:  76%|███████▋  | 153/200 [06:26<01:39,  2.11s/it]C:\\Users\\alexa\\AppData\\Local\\Temp\\ipykernel_72564\\1941495575.py:9: FutureWarning: suggest_loguniform has been deprecated in v3.0.0. This feature will be removed in v6.0.0. See https://github.com/optuna/optuna/releases/tag/v3.0.0. Use suggest_float(..., log=True) instead.\n",
      "  \"gb__learning_rate\":      trial.suggest_loguniform(\"learning_rate\", 1e-3, 0.3),\n",
      "C:\\Users\\alexa\\AppData\\Local\\Temp\\ipykernel_72564\\1941495575.py:13: FutureWarning: suggest_uniform has been deprecated in v3.0.0. This feature will be removed in v6.0.0. See https://github.com/optuna/optuna/releases/tag/v3.0.0. Use suggest_float instead.\n",
      "  \"gb__l2_regularization\":  trial.suggest_uniform(\"l2_regularization\", 0.0, 2.0)\n"
     ]
    },
    {
     "name": "stdout",
     "output_type": "stream",
     "text": [
      "[I 2025-07-06 18:18:21,714] Trial 152 finished with value: 0.6059676872517383 and parameters: {'learning_rate': 0.0011118297871373455, 'max_leaf_nodes': 78, 'max_depth': 2, 'min_samples_leaf': 22, 'l2_regularization': 1.611435647412775}. Best is trial 21 with value: 0.7144807245847764.\n"
     ]
    },
    {
     "name": "stderr",
     "output_type": "stream",
     "text": [
      "Best trial: 21. Best value: 0.714481:  77%|███████▋  | 154/200 [06:28<01:40,  2.18s/it]C:\\Users\\alexa\\AppData\\Local\\Temp\\ipykernel_72564\\1941495575.py:9: FutureWarning: suggest_loguniform has been deprecated in v3.0.0. This feature will be removed in v6.0.0. See https://github.com/optuna/optuna/releases/tag/v3.0.0. Use suggest_float(..., log=True) instead.\n",
      "  \"gb__learning_rate\":      trial.suggest_loguniform(\"learning_rate\", 1e-3, 0.3),\n",
      "C:\\Users\\alexa\\AppData\\Local\\Temp\\ipykernel_72564\\1941495575.py:13: FutureWarning: suggest_uniform has been deprecated in v3.0.0. This feature will be removed in v6.0.0. See https://github.com/optuna/optuna/releases/tag/v3.0.0. Use suggest_float instead.\n",
      "  \"gb__l2_regularization\":  trial.suggest_uniform(\"l2_regularization\", 0.0, 2.0)\n"
     ]
    },
    {
     "name": "stdout",
     "output_type": "stream",
     "text": [
      "[I 2025-07-06 18:18:24,047] Trial 153 finished with value: 0.7122422678527999 and parameters: {'learning_rate': 0.29759792342239927, 'max_leaf_nodes': 83, 'max_depth': 2, 'min_samples_leaf': 167, 'l2_regularization': 1.4935533470204987}. Best is trial 21 with value: 0.7144807245847764.\n"
     ]
    },
    {
     "name": "stderr",
     "output_type": "stream",
     "text": [
      "Best trial: 21. Best value: 0.714481:  78%|███████▊  | 155/200 [06:30<01:36,  2.15s/it]C:\\Users\\alexa\\AppData\\Local\\Temp\\ipykernel_72564\\1941495575.py:9: FutureWarning: suggest_loguniform has been deprecated in v3.0.0. This feature will be removed in v6.0.0. See https://github.com/optuna/optuna/releases/tag/v3.0.0. Use suggest_float(..., log=True) instead.\n",
      "  \"gb__learning_rate\":      trial.suggest_loguniform(\"learning_rate\", 1e-3, 0.3),\n",
      "C:\\Users\\alexa\\AppData\\Local\\Temp\\ipykernel_72564\\1941495575.py:13: FutureWarning: suggest_uniform has been deprecated in v3.0.0. This feature will be removed in v6.0.0. See https://github.com/optuna/optuna/releases/tag/v3.0.0. Use suggest_float instead.\n",
      "  \"gb__l2_regularization\":  trial.suggest_uniform(\"l2_regularization\", 0.0, 2.0)\n"
     ]
    },
    {
     "name": "stdout",
     "output_type": "stream",
     "text": [
      "[I 2025-07-06 18:18:26,137] Trial 154 finished with value: 0.712551325244082 and parameters: {'learning_rate': 0.24938032902883175, 'max_leaf_nodes': 132, 'max_depth': 2, 'min_samples_leaf': 10, 'l2_regularization': 1.3870585533465318}. Best is trial 21 with value: 0.7144807245847764.\n"
     ]
    },
    {
     "name": "stderr",
     "output_type": "stream",
     "text": [
      "Best trial: 21. Best value: 0.714481:  78%|███████▊  | 156/200 [06:33<01:37,  2.21s/it]C:\\Users\\alexa\\AppData\\Local\\Temp\\ipykernel_72564\\1941495575.py:9: FutureWarning: suggest_loguniform has been deprecated in v3.0.0. This feature will be removed in v6.0.0. See https://github.com/optuna/optuna/releases/tag/v3.0.0. Use suggest_float(..., log=True) instead.\n",
      "  \"gb__learning_rate\":      trial.suggest_loguniform(\"learning_rate\", 1e-3, 0.3),\n",
      "C:\\Users\\alexa\\AppData\\Local\\Temp\\ipykernel_72564\\1941495575.py:13: FutureWarning: suggest_uniform has been deprecated in v3.0.0. This feature will be removed in v6.0.0. See https://github.com/optuna/optuna/releases/tag/v3.0.0. Use suggest_float instead.\n",
      "  \"gb__l2_regularization\":  trial.suggest_uniform(\"l2_regularization\", 0.0, 2.0)\n"
     ]
    },
    {
     "name": "stdout",
     "output_type": "stream",
     "text": [
      "[I 2025-07-06 18:18:28,493] Trial 155 finished with value: 0.7138501424961067 and parameters: {'learning_rate': 0.2243099594094585, 'max_leaf_nodes': 107, 'max_depth': 2, 'min_samples_leaf': 16, 'l2_regularization': 1.4384491131329444}. Best is trial 21 with value: 0.7144807245847764.\n"
     ]
    },
    {
     "name": "stderr",
     "output_type": "stream",
     "text": [
      "Best trial: 21. Best value: 0.714481:  78%|███████▊  | 157/200 [06:35<01:35,  2.23s/it]C:\\Users\\alexa\\AppData\\Local\\Temp\\ipykernel_72564\\1941495575.py:9: FutureWarning: suggest_loguniform has been deprecated in v3.0.0. This feature will be removed in v6.0.0. See https://github.com/optuna/optuna/releases/tag/v3.0.0. Use suggest_float(..., log=True) instead.\n",
      "  \"gb__learning_rate\":      trial.suggest_loguniform(\"learning_rate\", 1e-3, 0.3),\n",
      "C:\\Users\\alexa\\AppData\\Local\\Temp\\ipykernel_72564\\1941495575.py:13: FutureWarning: suggest_uniform has been deprecated in v3.0.0. This feature will be removed in v6.0.0. See https://github.com/optuna/optuna/releases/tag/v3.0.0. Use suggest_float instead.\n",
      "  \"gb__l2_regularization\":  trial.suggest_uniform(\"l2_regularization\", 0.0, 2.0)\n"
     ]
    },
    {
     "name": "stdout",
     "output_type": "stream",
     "text": [
      "[I 2025-07-06 18:18:30,747] Trial 156 finished with value: 0.7134875819597937 and parameters: {'learning_rate': 0.26536878287600785, 'max_leaf_nodes': 89, 'max_depth': 2, 'min_samples_leaf': 37, 'l2_regularization': 1.5268284773897258}. Best is trial 21 with value: 0.7144807245847764.\n"
     ]
    },
    {
     "name": "stderr",
     "output_type": "stream",
     "text": [
      "Best trial: 21. Best value: 0.714481:  79%|███████▉  | 158/200 [06:37<01:36,  2.31s/it]C:\\Users\\alexa\\AppData\\Local\\Temp\\ipykernel_72564\\1941495575.py:9: FutureWarning: suggest_loguniform has been deprecated in v3.0.0. This feature will be removed in v6.0.0. See https://github.com/optuna/optuna/releases/tag/v3.0.0. Use suggest_float(..., log=True) instead.\n",
      "  \"gb__learning_rate\":      trial.suggest_loguniform(\"learning_rate\", 1e-3, 0.3),\n",
      "C:\\Users\\alexa\\AppData\\Local\\Temp\\ipykernel_72564\\1941495575.py:13: FutureWarning: suggest_uniform has been deprecated in v3.0.0. This feature will be removed in v6.0.0. See https://github.com/optuna/optuna/releases/tag/v3.0.0. Use suggest_float instead.\n",
      "  \"gb__l2_regularization\":  trial.suggest_uniform(\"l2_regularization\", 0.0, 2.0)\n"
     ]
    },
    {
     "name": "stdout",
     "output_type": "stream",
     "text": [
      "[I 2025-07-06 18:18:33,240] Trial 157 finished with value: 0.713072711583679 and parameters: {'learning_rate': 0.17658983991717878, 'max_leaf_nodes': 121, 'max_depth': 2, 'min_samples_leaf': 125, 'l2_regularization': 1.261052283286819}. Best is trial 21 with value: 0.7144807245847764.\n"
     ]
    },
    {
     "name": "stderr",
     "output_type": "stream",
     "text": [
      "Best trial: 21. Best value: 0.714481:  80%|███████▉  | 159/200 [06:40<01:37,  2.38s/it]C:\\Users\\alexa\\AppData\\Local\\Temp\\ipykernel_72564\\1941495575.py:9: FutureWarning: suggest_loguniform has been deprecated in v3.0.0. This feature will be removed in v6.0.0. See https://github.com/optuna/optuna/releases/tag/v3.0.0. Use suggest_float(..., log=True) instead.\n",
      "  \"gb__learning_rate\":      trial.suggest_loguniform(\"learning_rate\", 1e-3, 0.3),\n",
      "C:\\Users\\alexa\\AppData\\Local\\Temp\\ipykernel_72564\\1941495575.py:13: FutureWarning: suggest_uniform has been deprecated in v3.0.0. This feature will be removed in v6.0.0. See https://github.com/optuna/optuna/releases/tag/v3.0.0. Use suggest_float instead.\n",
      "  \"gb__l2_regularization\":  trial.suggest_uniform(\"l2_regularization\", 0.0, 2.0)\n"
     ]
    },
    {
     "name": "stdout",
     "output_type": "stream",
     "text": [
      "[I 2025-07-06 18:18:35,804] Trial 158 finished with value: 0.6199640820559476 and parameters: {'learning_rate': 0.0022713889660173165, 'max_leaf_nodes': 72, 'max_depth': 2, 'min_samples_leaf': 27, 'l2_regularization': 1.7393826128318426}. Best is trial 21 with value: 0.7144807245847764.\n"
     ]
    },
    {
     "name": "stderr",
     "output_type": "stream",
     "text": [
      "Best trial: 21. Best value: 0.714481:  80%|████████  | 160/200 [06:42<01:33,  2.35s/it]C:\\Users\\alexa\\AppData\\Local\\Temp\\ipykernel_72564\\1941495575.py:9: FutureWarning: suggest_loguniform has been deprecated in v3.0.0. This feature will be removed in v6.0.0. See https://github.com/optuna/optuna/releases/tag/v3.0.0. Use suggest_float(..., log=True) instead.\n",
      "  \"gb__learning_rate\":      trial.suggest_loguniform(\"learning_rate\", 1e-3, 0.3),\n",
      "C:\\Users\\alexa\\AppData\\Local\\Temp\\ipykernel_72564\\1941495575.py:13: FutureWarning: suggest_uniform has been deprecated in v3.0.0. This feature will be removed in v6.0.0. See https://github.com/optuna/optuna/releases/tag/v3.0.0. Use suggest_float instead.\n",
      "  \"gb__l2_regularization\":  trial.suggest_uniform(\"l2_regularization\", 0.0, 2.0)\n"
     ]
    },
    {
     "name": "stdout",
     "output_type": "stream",
     "text": [
      "[I 2025-07-06 18:18:38,067] Trial 159 finished with value: 0.7133833771299651 and parameters: {'learning_rate': 0.20259347256370067, 'max_leaf_nodes': 62, 'max_depth': 3, 'min_samples_leaf': 117, 'l2_regularization': 1.4687200993445575}. Best is trial 21 with value: 0.7144807245847764.\n"
     ]
    },
    {
     "name": "stderr",
     "output_type": "stream",
     "text": [
      "Best trial: 21. Best value: 0.714481:  80%|████████  | 161/200 [06:45<01:31,  2.36s/it]C:\\Users\\alexa\\AppData\\Local\\Temp\\ipykernel_72564\\1941495575.py:9: FutureWarning: suggest_loguniform has been deprecated in v3.0.0. This feature will be removed in v6.0.0. See https://github.com/optuna/optuna/releases/tag/v3.0.0. Use suggest_float(..., log=True) instead.\n",
      "  \"gb__learning_rate\":      trial.suggest_loguniform(\"learning_rate\", 1e-3, 0.3),\n",
      "C:\\Users\\alexa\\AppData\\Local\\Temp\\ipykernel_72564\\1941495575.py:13: FutureWarning: suggest_uniform has been deprecated in v3.0.0. This feature will be removed in v6.0.0. See https://github.com/optuna/optuna/releases/tag/v3.0.0. Use suggest_float instead.\n",
      "  \"gb__l2_regularization\":  trial.suggest_uniform(\"l2_regularization\", 0.0, 2.0)\n"
     ]
    },
    {
     "name": "stdout",
     "output_type": "stream",
     "text": [
      "[I 2025-07-06 18:18:40,444] Trial 160 finished with value: 0.7135321483328638 and parameters: {'learning_rate': 0.23790133012847775, 'max_leaf_nodes': 238, 'max_depth': 2, 'min_samples_leaf': 198, 'l2_regularization': 0.9112133354051482}. Best is trial 21 with value: 0.7144807245847764.\n"
     ]
    },
    {
     "name": "stderr",
     "output_type": "stream",
     "text": [
      "Best trial: 161. Best value: 0.714725:  81%|████████  | 162/200 [06:47<01:29,  2.36s/it]C:\\Users\\alexa\\AppData\\Local\\Temp\\ipykernel_72564\\1941495575.py:9: FutureWarning: suggest_loguniform has been deprecated in v3.0.0. This feature will be removed in v6.0.0. See https://github.com/optuna/optuna/releases/tag/v3.0.0. Use suggest_float(..., log=True) instead.\n",
      "  \"gb__learning_rate\":      trial.suggest_loguniform(\"learning_rate\", 1e-3, 0.3),\n",
      "C:\\Users\\alexa\\AppData\\Local\\Temp\\ipykernel_72564\\1941495575.py:13: FutureWarning: suggest_uniform has been deprecated in v3.0.0. This feature will be removed in v6.0.0. See https://github.com/optuna/optuna/releases/tag/v3.0.0. Use suggest_float instead.\n",
      "  \"gb__l2_regularization\":  trial.suggest_uniform(\"l2_regularization\", 0.0, 2.0)\n"
     ]
    },
    {
     "name": "stdout",
     "output_type": "stream",
     "text": [
      "[I 2025-07-06 18:18:42,799] Trial 161 finished with value: 0.7147253925738675 and parameters: {'learning_rate': 0.27030923026168324, 'max_leaf_nodes': 55, 'max_depth': 2, 'min_samples_leaf': 120, 'l2_regularization': 1.4833532493563215}. Best is trial 161 with value: 0.7147253925738675.\n"
     ]
    },
    {
     "name": "stderr",
     "output_type": "stream",
     "text": [
      "Best trial: 161. Best value: 0.714725:  82%|████████▏ | 163/200 [06:49<01:27,  2.36s/it]C:\\Users\\alexa\\AppData\\Local\\Temp\\ipykernel_72564\\1941495575.py:9: FutureWarning: suggest_loguniform has been deprecated in v3.0.0. This feature will be removed in v6.0.0. See https://github.com/optuna/optuna/releases/tag/v3.0.0. Use suggest_float(..., log=True) instead.\n",
      "  \"gb__learning_rate\":      trial.suggest_loguniform(\"learning_rate\", 1e-3, 0.3),\n",
      "C:\\Users\\alexa\\AppData\\Local\\Temp\\ipykernel_72564\\1941495575.py:13: FutureWarning: suggest_uniform has been deprecated in v3.0.0. This feature will be removed in v6.0.0. See https://github.com/optuna/optuna/releases/tag/v3.0.0. Use suggest_float instead.\n",
      "  \"gb__l2_regularization\":  trial.suggest_uniform(\"l2_regularization\", 0.0, 2.0)\n"
     ]
    },
    {
     "name": "stdout",
     "output_type": "stream",
     "text": [
      "[I 2025-07-06 18:18:45,173] Trial 162 finished with value: 0.7145412037109983 and parameters: {'learning_rate': 0.26927366993009644, 'max_leaf_nodes': 51, 'max_depth': 2, 'min_samples_leaf': 123, 'l2_regularization': 1.4419828575866849}. Best is trial 161 with value: 0.7147253925738675.\n"
     ]
    },
    {
     "name": "stderr",
     "output_type": "stream",
     "text": [
      "Best trial: 161. Best value: 0.714725:  82%|████████▏ | 164/200 [06:52<01:25,  2.38s/it]C:\\Users\\alexa\\AppData\\Local\\Temp\\ipykernel_72564\\1941495575.py:9: FutureWarning: suggest_loguniform has been deprecated in v3.0.0. This feature will be removed in v6.0.0. See https://github.com/optuna/optuna/releases/tag/v3.0.0. Use suggest_float(..., log=True) instead.\n",
      "  \"gb__learning_rate\":      trial.suggest_loguniform(\"learning_rate\", 1e-3, 0.3),\n",
      "C:\\Users\\alexa\\AppData\\Local\\Temp\\ipykernel_72564\\1941495575.py:13: FutureWarning: suggest_uniform has been deprecated in v3.0.0. This feature will be removed in v6.0.0. See https://github.com/optuna/optuna/releases/tag/v3.0.0. Use suggest_float instead.\n",
      "  \"gb__l2_regularization\":  trial.suggest_uniform(\"l2_regularization\", 0.0, 2.0)\n"
     ]
    },
    {
     "name": "stdout",
     "output_type": "stream",
     "text": [
      "[I 2025-07-06 18:18:47,610] Trial 163 finished with value: 0.7137244186283759 and parameters: {'learning_rate': 0.21843028427985078, 'max_leaf_nodes': 44, 'max_depth': 2, 'min_samples_leaf': 124, 'l2_regularization': 1.5521355169398978}. Best is trial 161 with value: 0.7147253925738675.\n"
     ]
    },
    {
     "name": "stderr",
     "output_type": "stream",
     "text": [
      "Best trial: 161. Best value: 0.714725:  82%|████████▎ | 165/200 [06:54<01:18,  2.25s/it]C:\\Users\\alexa\\AppData\\Local\\Temp\\ipykernel_72564\\1941495575.py:9: FutureWarning: suggest_loguniform has been deprecated in v3.0.0. This feature will be removed in v6.0.0. See https://github.com/optuna/optuna/releases/tag/v3.0.0. Use suggest_float(..., log=True) instead.\n",
      "  \"gb__learning_rate\":      trial.suggest_loguniform(\"learning_rate\", 1e-3, 0.3),\n",
      "C:\\Users\\alexa\\AppData\\Local\\Temp\\ipykernel_72564\\1941495575.py:13: FutureWarning: suggest_uniform has been deprecated in v3.0.0. This feature will be removed in v6.0.0. See https://github.com/optuna/optuna/releases/tag/v3.0.0. Use suggest_float instead.\n",
      "  \"gb__l2_regularization\":  trial.suggest_uniform(\"l2_regularization\", 0.0, 2.0)\n"
     ]
    },
    {
     "name": "stdout",
     "output_type": "stream",
     "text": [
      "[I 2025-07-06 18:18:49,537] Trial 164 finished with value: 0.714047164837009 and parameters: {'learning_rate': 0.29518262692980834, 'max_leaf_nodes': 24, 'max_depth': 2, 'min_samples_leaf': 14, 'l2_regularization': 1.3311215335076954}. Best is trial 161 with value: 0.7147253925738675.\n"
     ]
    },
    {
     "name": "stderr",
     "output_type": "stream",
     "text": [
      "Best trial: 161. Best value: 0.714725:  83%|████████▎ | 166/200 [06:55<01:02,  1.85s/it]C:\\Users\\alexa\\AppData\\Local\\Temp\\ipykernel_72564\\1941495575.py:9: FutureWarning: suggest_loguniform has been deprecated in v3.0.0. This feature will be removed in v6.0.0. See https://github.com/optuna/optuna/releases/tag/v3.0.0. Use suggest_float(..., log=True) instead.\n",
      "  \"gb__learning_rate\":      trial.suggest_loguniform(\"learning_rate\", 1e-3, 0.3),\n",
      "C:\\Users\\alexa\\AppData\\Local\\Temp\\ipykernel_72564\\1941495575.py:13: FutureWarning: suggest_uniform has been deprecated in v3.0.0. This feature will be removed in v6.0.0. See https://github.com/optuna/optuna/releases/tag/v3.0.0. Use suggest_float instead.\n",
      "  \"gb__l2_regularization\":  trial.suggest_uniform(\"l2_regularization\", 0.0, 2.0)\n"
     ]
    },
    {
     "name": "stdout",
     "output_type": "stream",
     "text": [
      "[I 2025-07-06 18:18:50,466] Trial 165 finished with value: 0.7124505440157444 and parameters: {'learning_rate': 0.2934864885378847, 'max_leaf_nodes': 17, 'max_depth': 6, 'min_samples_leaf': 13, 'l2_regularization': 1.2249569118862307}. Best is trial 161 with value: 0.7147253925738675.\n"
     ]
    },
    {
     "name": "stderr",
     "output_type": "stream",
     "text": [
      "Best trial: 161. Best value: 0.714725:  84%|████████▎ | 167/200 [06:57<01:04,  1.96s/it]C:\\Users\\alexa\\AppData\\Local\\Temp\\ipykernel_72564\\1941495575.py:9: FutureWarning: suggest_loguniform has been deprecated in v3.0.0. This feature will be removed in v6.0.0. See https://github.com/optuna/optuna/releases/tag/v3.0.0. Use suggest_float(..., log=True) instead.\n",
      "  \"gb__learning_rate\":      trial.suggest_loguniform(\"learning_rate\", 1e-3, 0.3),\n",
      "C:\\Users\\alexa\\AppData\\Local\\Temp\\ipykernel_72564\\1941495575.py:13: FutureWarning: suggest_uniform has been deprecated in v3.0.0. This feature will be removed in v6.0.0. See https://github.com/optuna/optuna/releases/tag/v3.0.0. Use suggest_float instead.\n",
      "  \"gb__l2_regularization\":  trial.suggest_uniform(\"l2_regularization\", 0.0, 2.0)\n"
     ]
    },
    {
     "name": "stdout",
     "output_type": "stream",
     "text": [
      "[I 2025-07-06 18:18:52,673] Trial 166 finished with value: 0.7139156344763543 and parameters: {'learning_rate': 0.2655514861324163, 'max_leaf_nodes': 30, 'max_depth': 2, 'min_samples_leaf': 17, 'l2_regularization': 1.3224402133471373}. Best is trial 161 with value: 0.7147253925738675.\n"
     ]
    },
    {
     "name": "stderr",
     "output_type": "stream",
     "text": [
      "Best trial: 161. Best value: 0.714725:  84%|████████▍ | 168/200 [06:58<00:59,  1.85s/it]C:\\Users\\alexa\\AppData\\Local\\Temp\\ipykernel_72564\\1941495575.py:9: FutureWarning: suggest_loguniform has been deprecated in v3.0.0. This feature will be removed in v6.0.0. See https://github.com/optuna/optuna/releases/tag/v3.0.0. Use suggest_float(..., log=True) instead.\n",
      "  \"gb__learning_rate\":      trial.suggest_loguniform(\"learning_rate\", 1e-3, 0.3),\n",
      "C:\\Users\\alexa\\AppData\\Local\\Temp\\ipykernel_72564\\1941495575.py:13: FutureWarning: suggest_uniform has been deprecated in v3.0.0. This feature will be removed in v6.0.0. See https://github.com/optuna/optuna/releases/tag/v3.0.0. Use suggest_float instead.\n",
      "  \"gb__l2_regularization\":  trial.suggest_uniform(\"l2_regularization\", 0.0, 2.0)\n"
     ]
    },
    {
     "name": "stdout",
     "output_type": "stream",
     "text": [
      "[I 2025-07-06 18:18:54,267] Trial 167 finished with value: 0.7132712467256859 and parameters: {'learning_rate': 0.29934492772367877, 'max_leaf_nodes': 34, 'max_depth': 3, 'min_samples_leaf': 110, 'l2_regularization': 1.3758728911444689}. Best is trial 161 with value: 0.7147253925738675.\n"
     ]
    },
    {
     "name": "stderr",
     "output_type": "stream",
     "text": [
      "Best trial: 161. Best value: 0.714725:  84%|████████▍ | 169/200 [07:01<01:02,  2.02s/it]C:\\Users\\alexa\\AppData\\Local\\Temp\\ipykernel_72564\\1941495575.py:9: FutureWarning: suggest_loguniform has been deprecated in v3.0.0. This feature will be removed in v6.0.0. See https://github.com/optuna/optuna/releases/tag/v3.0.0. Use suggest_float(..., log=True) instead.\n",
      "  \"gb__learning_rate\":      trial.suggest_loguniform(\"learning_rate\", 1e-3, 0.3),\n",
      "C:\\Users\\alexa\\AppData\\Local\\Temp\\ipykernel_72564\\1941495575.py:13: FutureWarning: suggest_uniform has been deprecated in v3.0.0. This feature will be removed in v6.0.0. See https://github.com/optuna/optuna/releases/tag/v3.0.0. Use suggest_float instead.\n",
      "  \"gb__l2_regularization\":  trial.suggest_uniform(\"l2_regularization\", 0.0, 2.0)\n"
     ]
    },
    {
     "name": "stdout",
     "output_type": "stream",
     "text": [
      "[I 2025-07-06 18:18:56,687] Trial 168 finished with value: 0.7134243670033948 and parameters: {'learning_rate': 0.22139506100790468, 'max_leaf_nodes': 52, 'max_depth': 2, 'min_samples_leaf': 129, 'l2_regularization': 1.2862621126331761}. Best is trial 161 with value: 0.7147253925738675.\n"
     ]
    },
    {
     "name": "stderr",
     "output_type": "stream",
     "text": [
      "Best trial: 161. Best value: 0.714725:  85%|████████▌ | 170/200 [07:03<01:03,  2.12s/it]C:\\Users\\alexa\\AppData\\Local\\Temp\\ipykernel_72564\\1941495575.py:9: FutureWarning: suggest_loguniform has been deprecated in v3.0.0. This feature will be removed in v6.0.0. See https://github.com/optuna/optuna/releases/tag/v3.0.0. Use suggest_float(..., log=True) instead.\n",
      "  \"gb__learning_rate\":      trial.suggest_loguniform(\"learning_rate\", 1e-3, 0.3),\n",
      "C:\\Users\\alexa\\AppData\\Local\\Temp\\ipykernel_72564\\1941495575.py:13: FutureWarning: suggest_uniform has been deprecated in v3.0.0. This feature will be removed in v6.0.0. See https://github.com/optuna/optuna/releases/tag/v3.0.0. Use suggest_float instead.\n",
      "  \"gb__l2_regularization\":  trial.suggest_uniform(\"l2_regularization\", 0.0, 2.0)\n"
     ]
    },
    {
     "name": "stdout",
     "output_type": "stream",
     "text": [
      "[I 2025-07-06 18:18:59,047] Trial 169 finished with value: 0.712666252577312 and parameters: {'learning_rate': 0.19044014202572293, 'max_leaf_nodes': 18, 'max_depth': 2, 'min_samples_leaf': 22, 'l2_regularization': 1.1062614344181052}. Best is trial 161 with value: 0.7147253925738675.\n"
     ]
    },
    {
     "name": "stderr",
     "output_type": "stream",
     "text": [
      "Best trial: 161. Best value: 0.714725:  86%|████████▌ | 171/200 [07:08<01:22,  2.84s/it]C:\\Users\\alexa\\AppData\\Local\\Temp\\ipykernel_72564\\1941495575.py:9: FutureWarning: suggest_loguniform has been deprecated in v3.0.0. This feature will be removed in v6.0.0. See https://github.com/optuna/optuna/releases/tag/v3.0.0. Use suggest_float(..., log=True) instead.\n",
      "  \"gb__learning_rate\":      trial.suggest_loguniform(\"learning_rate\", 1e-3, 0.3),\n",
      "C:\\Users\\alexa\\AppData\\Local\\Temp\\ipykernel_72564\\1941495575.py:13: FutureWarning: suggest_uniform has been deprecated in v3.0.0. This feature will be removed in v6.0.0. See https://github.com/optuna/optuna/releases/tag/v3.0.0. Use suggest_float instead.\n",
      "  \"gb__l2_regularization\":  trial.suggest_uniform(\"l2_regularization\", 0.0, 2.0)\n"
     ]
    },
    {
     "name": "stdout",
     "output_type": "stream",
     "text": [
      "[I 2025-07-06 18:19:03,575] Trial 170 finished with value: 0.7098882503087595 and parameters: {'learning_rate': 0.03537582954568971, 'max_leaf_nodes': 200, 'max_depth': 9, 'min_samples_leaf': 133, 'l2_regularization': 1.403398657643371}. Best is trial 161 with value: 0.7147253925738675.\n"
     ]
    },
    {
     "name": "stderr",
     "output_type": "stream",
     "text": [
      "Best trial: 171. Best value: 0.715193:  86%|████████▌ | 172/200 [07:10<01:15,  2.70s/it]C:\\Users\\alexa\\AppData\\Local\\Temp\\ipykernel_72564\\1941495575.py:9: FutureWarning: suggest_loguniform has been deprecated in v3.0.0. This feature will be removed in v6.0.0. See https://github.com/optuna/optuna/releases/tag/v3.0.0. Use suggest_float(..., log=True) instead.\n",
      "  \"gb__learning_rate\":      trial.suggest_loguniform(\"learning_rate\", 1e-3, 0.3),\n",
      "C:\\Users\\alexa\\AppData\\Local\\Temp\\ipykernel_72564\\1941495575.py:13: FutureWarning: suggest_uniform has been deprecated in v3.0.0. This feature will be removed in v6.0.0. See https://github.com/optuna/optuna/releases/tag/v3.0.0. Use suggest_float instead.\n",
      "  \"gb__l2_regularization\":  trial.suggest_uniform(\"l2_regularization\", 0.0, 2.0)\n"
     ]
    },
    {
     "name": "stdout",
     "output_type": "stream",
     "text": [
      "[I 2025-07-06 18:19:05,939] Trial 171 finished with value: 0.7151928134956836 and parameters: {'learning_rate': 0.23859307424096382, 'max_leaf_nodes': 24, 'max_depth': 2, 'min_samples_leaf': 14, 'l2_regularization': 1.4446828047684832}. Best is trial 171 with value: 0.7151928134956836.\n"
     ]
    },
    {
     "name": "stderr",
     "output_type": "stream",
     "text": [
      "Best trial: 171. Best value: 0.715193:  86%|████████▋ | 173/200 [07:12<01:06,  2.48s/it]C:\\Users\\alexa\\AppData\\Local\\Temp\\ipykernel_72564\\1941495575.py:9: FutureWarning: suggest_loguniform has been deprecated in v3.0.0. This feature will be removed in v6.0.0. See https://github.com/optuna/optuna/releases/tag/v3.0.0. Use suggest_float(..., log=True) instead.\n",
      "  \"gb__learning_rate\":      trial.suggest_loguniform(\"learning_rate\", 1e-3, 0.3),\n",
      "C:\\Users\\alexa\\AppData\\Local\\Temp\\ipykernel_72564\\1941495575.py:13: FutureWarning: suggest_uniform has been deprecated in v3.0.0. This feature will be removed in v6.0.0. See https://github.com/optuna/optuna/releases/tag/v3.0.0. Use suggest_float instead.\n",
      "  \"gb__l2_regularization\":  trial.suggest_uniform(\"l2_regularization\", 0.0, 2.0)\n"
     ]
    },
    {
     "name": "stdout",
     "output_type": "stream",
     "text": [
      "[I 2025-07-06 18:19:07,902] Trial 172 finished with value: 0.7144225886352572 and parameters: {'learning_rate': 0.24093866378218382, 'max_leaf_nodes': 42, 'max_depth': 2, 'min_samples_leaf': 15, 'l2_regularization': 1.3490481592149794}. Best is trial 171 with value: 0.7151928134956836.\n"
     ]
    },
    {
     "name": "stderr",
     "output_type": "stream",
     "text": [
      "Best trial: 171. Best value: 0.715193:  87%|████████▋ | 174/200 [07:14<01:01,  2.36s/it]C:\\Users\\alexa\\AppData\\Local\\Temp\\ipykernel_72564\\1941495575.py:9: FutureWarning: suggest_loguniform has been deprecated in v3.0.0. This feature will be removed in v6.0.0. See https://github.com/optuna/optuna/releases/tag/v3.0.0. Use suggest_float(..., log=True) instead.\n",
      "  \"gb__learning_rate\":      trial.suggest_loguniform(\"learning_rate\", 1e-3, 0.3),\n",
      "C:\\Users\\alexa\\AppData\\Local\\Temp\\ipykernel_72564\\1941495575.py:13: FutureWarning: suggest_uniform has been deprecated in v3.0.0. This feature will be removed in v6.0.0. See https://github.com/optuna/optuna/releases/tag/v3.0.0. Use suggest_float instead.\n",
      "  \"gb__l2_regularization\":  trial.suggest_uniform(\"l2_regularization\", 0.0, 2.0)\n"
     ]
    },
    {
     "name": "stdout",
     "output_type": "stream",
     "text": [
      "[I 2025-07-06 18:19:09,993] Trial 173 finished with value: 0.7133962504856475 and parameters: {'learning_rate': 0.26621947834728676, 'max_leaf_nodes': 20, 'max_depth': 2, 'min_samples_leaf': 10, 'l2_regularization': 1.335584199595219}. Best is trial 171 with value: 0.7151928134956836.\n"
     ]
    },
    {
     "name": "stderr",
     "output_type": "stream",
     "text": [
      "Best trial: 171. Best value: 0.715193:  88%|████████▊ | 175/200 [07:16<00:58,  2.34s/it]C:\\Users\\alexa\\AppData\\Local\\Temp\\ipykernel_72564\\1941495575.py:9: FutureWarning: suggest_loguniform has been deprecated in v3.0.0. This feature will be removed in v6.0.0. See https://github.com/optuna/optuna/releases/tag/v3.0.0. Use suggest_float(..., log=True) instead.\n",
      "  \"gb__learning_rate\":      trial.suggest_loguniform(\"learning_rate\", 1e-3, 0.3),\n",
      "C:\\Users\\alexa\\AppData\\Local\\Temp\\ipykernel_72564\\1941495575.py:13: FutureWarning: suggest_uniform has been deprecated in v3.0.0. This feature will be removed in v6.0.0. See https://github.com/optuna/optuna/releases/tag/v3.0.0. Use suggest_float instead.\n",
      "  \"gb__l2_regularization\":  trial.suggest_uniform(\"l2_regularization\", 0.0, 2.0)\n"
     ]
    },
    {
     "name": "stdout",
     "output_type": "stream",
     "text": [
      "[I 2025-07-06 18:19:12,266] Trial 174 finished with value: 0.7138787304734996 and parameters: {'learning_rate': 0.24323069212927137, 'max_leaf_nodes': 32, 'max_depth': 2, 'min_samples_leaf': 15, 'l2_regularization': 1.343442145266829}. Best is trial 171 with value: 0.7151928134956836.\n"
     ]
    },
    {
     "name": "stderr",
     "output_type": "stream",
     "text": [
      "Best trial: 171. Best value: 0.715193:  88%|████████▊ | 176/200 [07:19<00:55,  2.31s/it]C:\\Users\\alexa\\AppData\\Local\\Temp\\ipykernel_72564\\1941495575.py:9: FutureWarning: suggest_loguniform has been deprecated in v3.0.0. This feature will be removed in v6.0.0. See https://github.com/optuna/optuna/releases/tag/v3.0.0. Use suggest_float(..., log=True) instead.\n",
      "  \"gb__learning_rate\":      trial.suggest_loguniform(\"learning_rate\", 1e-3, 0.3),\n",
      "C:\\Users\\alexa\\AppData\\Local\\Temp\\ipykernel_72564\\1941495575.py:13: FutureWarning: suggest_uniform has been deprecated in v3.0.0. This feature will be removed in v6.0.0. See https://github.com/optuna/optuna/releases/tag/v3.0.0. Use suggest_float instead.\n",
      "  \"gb__l2_regularization\":  trial.suggest_uniform(\"l2_regularization\", 0.0, 2.0)\n"
     ]
    },
    {
     "name": "stdout",
     "output_type": "stream",
     "text": [
      "[I 2025-07-06 18:19:14,500] Trial 175 finished with value: 0.7144758592470766 and parameters: {'learning_rate': 0.27431243871204936, 'max_leaf_nodes': 24, 'max_depth': 2, 'min_samples_leaf': 20, 'l2_regularization': 1.25218829273031}. Best is trial 171 with value: 0.7151928134956836.\n"
     ]
    },
    {
     "name": "stderr",
     "output_type": "stream",
     "text": [
      "Best trial: 171. Best value: 0.715193:  88%|████████▊ | 177/200 [07:20<00:49,  2.17s/it]C:\\Users\\alexa\\AppData\\Local\\Temp\\ipykernel_72564\\1941495575.py:9: FutureWarning: suggest_loguniform has been deprecated in v3.0.0. This feature will be removed in v6.0.0. See https://github.com/optuna/optuna/releases/tag/v3.0.0. Use suggest_float(..., log=True) instead.\n",
      "  \"gb__learning_rate\":      trial.suggest_loguniform(\"learning_rate\", 1e-3, 0.3),\n",
      "C:\\Users\\alexa\\AppData\\Local\\Temp\\ipykernel_72564\\1941495575.py:13: FutureWarning: suggest_uniform has been deprecated in v3.0.0. This feature will be removed in v6.0.0. See https://github.com/optuna/optuna/releases/tag/v3.0.0. Use suggest_float instead.\n",
      "  \"gb__l2_regularization\":  trial.suggest_uniform(\"l2_regularization\", 0.0, 2.0)\n"
     ]
    },
    {
     "name": "stdout",
     "output_type": "stream",
     "text": [
      "[I 2025-07-06 18:19:16,358] Trial 176 finished with value: 0.7137711379939347 and parameters: {'learning_rate': 0.2789920006124408, 'max_leaf_nodes': 26, 'max_depth': 2, 'min_samples_leaf': 13, 'l2_regularization': 1.2373845171162157}. Best is trial 171 with value: 0.7151928134956836.\n"
     ]
    },
    {
     "name": "stderr",
     "output_type": "stream",
     "text": [
      "Best trial: 171. Best value: 0.715193:  89%|████████▉ | 178/200 [07:23<00:47,  2.17s/it]C:\\Users\\alexa\\AppData\\Local\\Temp\\ipykernel_72564\\1941495575.py:9: FutureWarning: suggest_loguniform has been deprecated in v3.0.0. This feature will be removed in v6.0.0. See https://github.com/optuna/optuna/releases/tag/v3.0.0. Use suggest_float(..., log=True) instead.\n",
      "  \"gb__learning_rate\":      trial.suggest_loguniform(\"learning_rate\", 1e-3, 0.3),\n",
      "C:\\Users\\alexa\\AppData\\Local\\Temp\\ipykernel_72564\\1941495575.py:13: FutureWarning: suggest_uniform has been deprecated in v3.0.0. This feature will be removed in v6.0.0. See https://github.com/optuna/optuna/releases/tag/v3.0.0. Use suggest_float instead.\n",
      "  \"gb__l2_regularization\":  trial.suggest_uniform(\"l2_regularization\", 0.0, 2.0)\n"
     ]
    },
    {
     "name": "stdout",
     "output_type": "stream",
     "text": [
      "[I 2025-07-06 18:19:18,531] Trial 177 finished with value: 0.7128604604266279 and parameters: {'learning_rate': 0.24930682415522254, 'max_leaf_nodes': 24, 'max_depth': 2, 'min_samples_leaf': 19, 'l2_regularization': 1.2966688663649741}. Best is trial 171 with value: 0.7151928134956836.\n"
     ]
    },
    {
     "name": "stderr",
     "output_type": "stream",
     "text": [
      "Best trial: 171. Best value: 0.715193:  90%|████████▉ | 179/200 [07:25<00:46,  2.20s/it]C:\\Users\\alexa\\AppData\\Local\\Temp\\ipykernel_72564\\1941495575.py:9: FutureWarning: suggest_loguniform has been deprecated in v3.0.0. This feature will be removed in v6.0.0. See https://github.com/optuna/optuna/releases/tag/v3.0.0. Use suggest_float(..., log=True) instead.\n",
      "  \"gb__learning_rate\":      trial.suggest_loguniform(\"learning_rate\", 1e-3, 0.3),\n",
      "C:\\Users\\alexa\\AppData\\Local\\Temp\\ipykernel_72564\\1941495575.py:13: FutureWarning: suggest_uniform has been deprecated in v3.0.0. This feature will be removed in v6.0.0. See https://github.com/optuna/optuna/releases/tag/v3.0.0. Use suggest_float instead.\n",
      "  \"gb__l2_regularization\":  trial.suggest_uniform(\"l2_regularization\", 0.0, 2.0)\n"
     ]
    },
    {
     "name": "stdout",
     "output_type": "stream",
     "text": [
      "[I 2025-07-06 18:19:20,805] Trial 178 finished with value: 0.7125994457728027 and parameters: {'learning_rate': 0.21963095584005524, 'max_leaf_nodes': 39, 'max_depth': 2, 'min_samples_leaf': 24, 'l2_regularization': 1.2767783140496363}. Best is trial 171 with value: 0.7151928134956836.\n"
     ]
    },
    {
     "name": "stderr",
     "output_type": "stream",
     "text": [
      "Best trial: 179. Best value: 0.715292:  90%|█████████ | 180/200 [07:27<00:42,  2.15s/it]C:\\Users\\alexa\\AppData\\Local\\Temp\\ipykernel_72564\\1941495575.py:9: FutureWarning: suggest_loguniform has been deprecated in v3.0.0. This feature will be removed in v6.0.0. See https://github.com/optuna/optuna/releases/tag/v3.0.0. Use suggest_float(..., log=True) instead.\n",
      "  \"gb__learning_rate\":      trial.suggest_loguniform(\"learning_rate\", 1e-3, 0.3),\n",
      "C:\\Users\\alexa\\AppData\\Local\\Temp\\ipykernel_72564\\1941495575.py:13: FutureWarning: suggest_uniform has been deprecated in v3.0.0. This feature will be removed in v6.0.0. See https://github.com/optuna/optuna/releases/tag/v3.0.0. Use suggest_float instead.\n",
      "  \"gb__l2_regularization\":  trial.suggest_uniform(\"l2_regularization\", 0.0, 2.0)\n"
     ]
    },
    {
     "name": "stdout",
     "output_type": "stream",
     "text": [
      "[I 2025-07-06 18:19:22,828] Trial 179 finished with value: 0.71529199438663 and parameters: {'learning_rate': 0.29290345123744443, 'max_leaf_nodes': 44, 'max_depth': 2, 'min_samples_leaf': 14, 'l2_regularization': 1.1870829437005308}. Best is trial 179 with value: 0.71529199438663.\n"
     ]
    },
    {
     "name": "stderr",
     "output_type": "stream",
     "text": [
      "Best trial: 179. Best value: 0.715292:  90%|█████████ | 181/200 [07:29<00:37,  1.98s/it]C:\\Users\\alexa\\AppData\\Local\\Temp\\ipykernel_72564\\1941495575.py:9: FutureWarning: suggest_loguniform has been deprecated in v3.0.0. This feature will be removed in v6.0.0. See https://github.com/optuna/optuna/releases/tag/v3.0.0. Use suggest_float(..., log=True) instead.\n",
      "  \"gb__learning_rate\":      trial.suggest_loguniform(\"learning_rate\", 1e-3, 0.3),\n",
      "C:\\Users\\alexa\\AppData\\Local\\Temp\\ipykernel_72564\\1941495575.py:13: FutureWarning: suggest_uniform has been deprecated in v3.0.0. This feature will be removed in v6.0.0. See https://github.com/optuna/optuna/releases/tag/v3.0.0. Use suggest_float instead.\n",
      "  \"gb__l2_regularization\":  trial.suggest_uniform(\"l2_regularization\", 0.0, 2.0)\n"
     ]
    },
    {
     "name": "stdout",
     "output_type": "stream",
     "text": [
      "[I 2025-07-06 18:19:24,417] Trial 180 finished with value: 0.7129189783411477 and parameters: {'learning_rate': 0.2806440394570071, 'max_leaf_nodes': 37, 'max_depth': 3, 'min_samples_leaf': 13, 'l2_regularization': 1.1767483067704307}. Best is trial 179 with value: 0.71529199438663.\n"
     ]
    },
    {
     "name": "stderr",
     "output_type": "stream",
     "text": [
      "Best trial: 179. Best value: 0.715292:  91%|█████████ | 182/200 [07:31<00:36,  2.03s/it]C:\\Users\\alexa\\AppData\\Local\\Temp\\ipykernel_72564\\1941495575.py:9: FutureWarning: suggest_loguniform has been deprecated in v3.0.0. This feature will be removed in v6.0.0. See https://github.com/optuna/optuna/releases/tag/v3.0.0. Use suggest_float(..., log=True) instead.\n",
      "  \"gb__learning_rate\":      trial.suggest_loguniform(\"learning_rate\", 1e-3, 0.3),\n",
      "C:\\Users\\alexa\\AppData\\Local\\Temp\\ipykernel_72564\\1941495575.py:13: FutureWarning: suggest_uniform has been deprecated in v3.0.0. This feature will be removed in v6.0.0. See https://github.com/optuna/optuna/releases/tag/v3.0.0. Use suggest_float instead.\n",
      "  \"gb__l2_regularization\":  trial.suggest_uniform(\"l2_regularization\", 0.0, 2.0)\n"
     ]
    },
    {
     "name": "stdout",
     "output_type": "stream",
     "text": [
      "[I 2025-07-06 18:19:26,560] Trial 181 finished with value: 0.7128970854054264 and parameters: {'learning_rate': 0.2978023248159429, 'max_leaf_nodes': 42, 'max_depth': 2, 'min_samples_leaf': 19, 'l2_regularization': 1.3666956388662939}. Best is trial 179 with value: 0.71529199438663.\n"
     ]
    },
    {
     "name": "stderr",
     "output_type": "stream",
     "text": [
      "Best trial: 179. Best value: 0.715292:  92%|█████████▏| 183/200 [07:33<00:33,  1.98s/it]C:\\Users\\alexa\\AppData\\Local\\Temp\\ipykernel_72564\\1941495575.py:9: FutureWarning: suggest_loguniform has been deprecated in v3.0.0. This feature will be removed in v6.0.0. See https://github.com/optuna/optuna/releases/tag/v3.0.0. Use suggest_float(..., log=True) instead.\n",
      "  \"gb__learning_rate\":      trial.suggest_loguniform(\"learning_rate\", 1e-3, 0.3),\n",
      "C:\\Users\\alexa\\AppData\\Local\\Temp\\ipykernel_72564\\1941495575.py:13: FutureWarning: suggest_uniform has been deprecated in v3.0.0. This feature will be removed in v6.0.0. See https://github.com/optuna/optuna/releases/tag/v3.0.0. Use suggest_float instead.\n",
      "  \"gb__l2_regularization\":  trial.suggest_uniform(\"l2_regularization\", 0.0, 2.0)\n"
     ]
    },
    {
     "name": "stdout",
     "output_type": "stream",
     "text": [
      "[I 2025-07-06 18:19:28,424] Trial 182 finished with value: 0.7137061126414462 and parameters: {'learning_rate': 0.24863890209966044, 'max_leaf_nodes': 23, 'max_depth': 2, 'min_samples_leaf': 16, 'l2_regularization': 1.0709914636981306}. Best is trial 179 with value: 0.71529199438663.\n"
     ]
    },
    {
     "name": "stderr",
     "output_type": "stream",
     "text": [
      "Best trial: 179. Best value: 0.715292:  92%|█████████▏| 184/200 [07:35<00:31,  2.00s/it]C:\\Users\\alexa\\AppData\\Local\\Temp\\ipykernel_72564\\1941495575.py:9: FutureWarning: suggest_loguniform has been deprecated in v3.0.0. This feature will be removed in v6.0.0. See https://github.com/optuna/optuna/releases/tag/v3.0.0. Use suggest_float(..., log=True) instead.\n",
      "  \"gb__learning_rate\":      trial.suggest_loguniform(\"learning_rate\", 1e-3, 0.3),\n",
      "C:\\Users\\alexa\\AppData\\Local\\Temp\\ipykernel_72564\\1941495575.py:13: FutureWarning: suggest_uniform has been deprecated in v3.0.0. This feature will be removed in v6.0.0. See https://github.com/optuna/optuna/releases/tag/v3.0.0. Use suggest_float instead.\n",
      "  \"gb__l2_regularization\":  trial.suggest_uniform(\"l2_regularization\", 0.0, 2.0)\n"
     ]
    },
    {
     "name": "stdout",
     "output_type": "stream",
     "text": [
      "[I 2025-07-06 18:19:30,462] Trial 183 finished with value: 0.7136351232818503 and parameters: {'learning_rate': 0.23241153738480877, 'max_leaf_nodes': 57, 'max_depth': 2, 'min_samples_leaf': 10, 'l2_regularization': 1.1984934575559607}. Best is trial 179 with value: 0.71529199438663.\n"
     ]
    },
    {
     "name": "stderr",
     "output_type": "stream",
     "text": [
      "Best trial: 179. Best value: 0.715292:  92%|█████████▎| 185/200 [07:37<00:30,  2.05s/it]C:\\Users\\alexa\\AppData\\Local\\Temp\\ipykernel_72564\\1941495575.py:9: FutureWarning: suggest_loguniform has been deprecated in v3.0.0. This feature will be removed in v6.0.0. See https://github.com/optuna/optuna/releases/tag/v3.0.0. Use suggest_float(..., log=True) instead.\n",
      "  \"gb__learning_rate\":      trial.suggest_loguniform(\"learning_rate\", 1e-3, 0.3),\n",
      "C:\\Users\\alexa\\AppData\\Local\\Temp\\ipykernel_72564\\1941495575.py:13: FutureWarning: suggest_uniform has been deprecated in v3.0.0. This feature will be removed in v6.0.0. See https://github.com/optuna/optuna/releases/tag/v3.0.0. Use suggest_float instead.\n",
      "  \"gb__l2_regularization\":  trial.suggest_uniform(\"l2_regularization\", 0.0, 2.0)\n"
     ]
    },
    {
     "name": "stdout",
     "output_type": "stream",
     "text": [
      "[I 2025-07-06 18:19:32,635] Trial 184 finished with value: 0.7136292279766927 and parameters: {'learning_rate': 0.26887329894710515, 'max_leaf_nodes': 51, 'max_depth': 2, 'min_samples_leaf': 20, 'l2_regularization': 1.244606831718044}. Best is trial 179 with value: 0.71529199438663.\n"
     ]
    },
    {
     "name": "stderr",
     "output_type": "stream",
     "text": [
      "Best trial: 179. Best value: 0.715292:  93%|█████████▎| 186/200 [07:39<00:30,  2.16s/it]C:\\Users\\alexa\\AppData\\Local\\Temp\\ipykernel_72564\\1941495575.py:9: FutureWarning: suggest_loguniform has been deprecated in v3.0.0. This feature will be removed in v6.0.0. See https://github.com/optuna/optuna/releases/tag/v3.0.0. Use suggest_float(..., log=True) instead.\n",
      "  \"gb__learning_rate\":      trial.suggest_loguniform(\"learning_rate\", 1e-3, 0.3),\n",
      "C:\\Users\\alexa\\AppData\\Local\\Temp\\ipykernel_72564\\1941495575.py:13: FutureWarning: suggest_uniform has been deprecated in v3.0.0. This feature will be removed in v6.0.0. See https://github.com/optuna/optuna/releases/tag/v3.0.0. Use suggest_float instead.\n",
      "  \"gb__l2_regularization\":  trial.suggest_uniform(\"l2_regularization\", 0.0, 2.0)\n"
     ]
    },
    {
     "name": "stdout",
     "output_type": "stream",
     "text": [
      "[I 2025-07-06 18:19:35,049] Trial 185 finished with value: 0.7133254990245856 and parameters: {'learning_rate': 0.18547738342828046, 'max_leaf_nodes': 29, 'max_depth': 2, 'min_samples_leaf': 122, 'l2_regularization': 1.4272701200109066}. Best is trial 179 with value: 0.71529199438663.\n"
     ]
    },
    {
     "name": "stderr",
     "output_type": "stream",
     "text": [
      "Best trial: 179. Best value: 0.715292:  94%|█████████▎| 187/200 [07:42<00:29,  2.24s/it]C:\\Users\\alexa\\AppData\\Local\\Temp\\ipykernel_72564\\1941495575.py:9: FutureWarning: suggest_loguniform has been deprecated in v3.0.0. This feature will be removed in v6.0.0. See https://github.com/optuna/optuna/releases/tag/v3.0.0. Use suggest_float(..., log=True) instead.\n",
      "  \"gb__learning_rate\":      trial.suggest_loguniform(\"learning_rate\", 1e-3, 0.3),\n",
      "C:\\Users\\alexa\\AppData\\Local\\Temp\\ipykernel_72564\\1941495575.py:13: FutureWarning: suggest_uniform has been deprecated in v3.0.0. This feature will be removed in v6.0.0. See https://github.com/optuna/optuna/releases/tag/v3.0.0. Use suggest_float instead.\n",
      "  \"gb__l2_regularization\":  trial.suggest_uniform(\"l2_regularization\", 0.0, 2.0)\n"
     ]
    },
    {
     "name": "stdout",
     "output_type": "stream",
     "text": [
      "[I 2025-07-06 18:19:37,467] Trial 186 finished with value: 0.7122313485019838 and parameters: {'learning_rate': 0.2077198565932569, 'max_leaf_nodes': 41, 'max_depth': 2, 'min_samples_leaf': 112, 'l2_regularization': 1.387030599371412}. Best is trial 179 with value: 0.71529199438663.\n"
     ]
    },
    {
     "name": "stderr",
     "output_type": "stream",
     "text": [
      "Best trial: 179. Best value: 0.715292:  94%|█████████▍| 188/200 [07:43<00:25,  2.14s/it]C:\\Users\\alexa\\AppData\\Local\\Temp\\ipykernel_72564\\1941495575.py:9: FutureWarning: suggest_loguniform has been deprecated in v3.0.0. This feature will be removed in v6.0.0. See https://github.com/optuna/optuna/releases/tag/v3.0.0. Use suggest_float(..., log=True) instead.\n",
      "  \"gb__learning_rate\":      trial.suggest_loguniform(\"learning_rate\", 1e-3, 0.3),\n",
      "C:\\Users\\alexa\\AppData\\Local\\Temp\\ipykernel_72564\\1941495575.py:13: FutureWarning: suggest_uniform has been deprecated in v3.0.0. This feature will be removed in v6.0.0. See https://github.com/optuna/optuna/releases/tag/v3.0.0. Use suggest_float instead.\n",
      "  \"gb__l2_regularization\":  trial.suggest_uniform(\"l2_regularization\", 0.0, 2.0)\n"
     ]
    },
    {
     "name": "stdout",
     "output_type": "stream",
     "text": [
      "[I 2025-07-06 18:19:39,371] Trial 187 finished with value: 0.713127124581597 and parameters: {'learning_rate': 0.29941016885015476, 'max_leaf_nodes': 33, 'max_depth': 2, 'min_samples_leaf': 14, 'l2_regularization': 1.3106130998454748}. Best is trial 179 with value: 0.71529199438663.\n"
     ]
    },
    {
     "name": "stderr",
     "output_type": "stream",
     "text": [
      "Best trial: 179. Best value: 0.715292:  94%|█████████▍| 189/200 [07:46<00:24,  2.20s/it]C:\\Users\\alexa\\AppData\\Local\\Temp\\ipykernel_72564\\1941495575.py:9: FutureWarning: suggest_loguniform has been deprecated in v3.0.0. This feature will be removed in v6.0.0. See https://github.com/optuna/optuna/releases/tag/v3.0.0. Use suggest_float(..., log=True) instead.\n",
      "  \"gb__learning_rate\":      trial.suggest_loguniform(\"learning_rate\", 1e-3, 0.3),\n",
      "C:\\Users\\alexa\\AppData\\Local\\Temp\\ipykernel_72564\\1941495575.py:13: FutureWarning: suggest_uniform has been deprecated in v3.0.0. This feature will be removed in v6.0.0. See https://github.com/optuna/optuna/releases/tag/v3.0.0. Use suggest_float instead.\n",
      "  \"gb__l2_regularization\":  trial.suggest_uniform(\"l2_regularization\", 0.0, 2.0)\n"
     ]
    },
    {
     "name": "stdout",
     "output_type": "stream",
     "text": [
      "[I 2025-07-06 18:19:41,704] Trial 188 finished with value: 0.714313194678702 and parameters: {'learning_rate': 0.2434192832132958, 'max_leaf_nodes': 47, 'max_depth': 2, 'min_samples_leaf': 23, 'l2_regularization': 1.220370590414114}. Best is trial 179 with value: 0.71529199438663.\n"
     ]
    },
    {
     "name": "stderr",
     "output_type": "stream",
     "text": [
      "Best trial: 179. Best value: 0.715292:  95%|█████████▌| 190/200 [07:48<00:22,  2.29s/it]C:\\Users\\alexa\\AppData\\Local\\Temp\\ipykernel_72564\\1941495575.py:9: FutureWarning: suggest_loguniform has been deprecated in v3.0.0. This feature will be removed in v6.0.0. See https://github.com/optuna/optuna/releases/tag/v3.0.0. Use suggest_float(..., log=True) instead.\n",
      "  \"gb__learning_rate\":      trial.suggest_loguniform(\"learning_rate\", 1e-3, 0.3),\n",
      "C:\\Users\\alexa\\AppData\\Local\\Temp\\ipykernel_72564\\1941495575.py:13: FutureWarning: suggest_uniform has been deprecated in v3.0.0. This feature will be removed in v6.0.0. See https://github.com/optuna/optuna/releases/tag/v3.0.0. Use suggest_float instead.\n",
      "  \"gb__l2_regularization\":  trial.suggest_uniform(\"l2_regularization\", 0.0, 2.0)\n"
     ]
    },
    {
     "name": "stdout",
     "output_type": "stream",
     "text": [
      "[I 2025-07-06 18:19:44,204] Trial 189 finished with value: 0.6631099601529389 and parameters: {'learning_rate': 0.007668662243474051, 'max_leaf_nodes': 36, 'max_depth': 2, 'min_samples_leaf': 25, 'l2_regularization': 1.21940503655982}. Best is trial 179 with value: 0.71529199438663.\n"
     ]
    },
    {
     "name": "stderr",
     "output_type": "stream",
     "text": [
      "Best trial: 179. Best value: 0.715292:  96%|█████████▌| 191/200 [07:50<00:18,  2.07s/it]C:\\Users\\alexa\\AppData\\Local\\Temp\\ipykernel_72564\\1941495575.py:9: FutureWarning: suggest_loguniform has been deprecated in v3.0.0. This feature will be removed in v6.0.0. See https://github.com/optuna/optuna/releases/tag/v3.0.0. Use suggest_float(..., log=True) instead.\n",
      "  \"gb__learning_rate\":      trial.suggest_loguniform(\"learning_rate\", 1e-3, 0.3),\n",
      "C:\\Users\\alexa\\AppData\\Local\\Temp\\ipykernel_72564\\1941495575.py:13: FutureWarning: suggest_uniform has been deprecated in v3.0.0. This feature will be removed in v6.0.0. See https://github.com/optuna/optuna/releases/tag/v3.0.0. Use suggest_float instead.\n",
      "  \"gb__l2_regularization\":  trial.suggest_uniform(\"l2_regularization\", 0.0, 2.0)\n"
     ]
    },
    {
     "name": "stdout",
     "output_type": "stream",
     "text": [
      "[I 2025-07-06 18:19:45,773] Trial 190 finished with value: 0.7125236243491024 and parameters: {'learning_rate': 0.24741906526429247, 'max_leaf_nodes': 46, 'max_depth': 3, 'min_samples_leaf': 22, 'l2_regularization': 1.1438203480344642}. Best is trial 179 with value: 0.71529199438663.\n"
     ]
    },
    {
     "name": "stderr",
     "output_type": "stream",
     "text": [
      "Best trial: 179. Best value: 0.715292:  96%|█████████▌| 192/200 [07:52<00:16,  2.07s/it]C:\\Users\\alexa\\AppData\\Local\\Temp\\ipykernel_72564\\1941495575.py:9: FutureWarning: suggest_loguniform has been deprecated in v3.0.0. This feature will be removed in v6.0.0. See https://github.com/optuna/optuna/releases/tag/v3.0.0. Use suggest_float(..., log=True) instead.\n",
      "  \"gb__learning_rate\":      trial.suggest_loguniform(\"learning_rate\", 1e-3, 0.3),\n",
      "C:\\Users\\alexa\\AppData\\Local\\Temp\\ipykernel_72564\\1941495575.py:13: FutureWarning: suggest_uniform has been deprecated in v3.0.0. This feature will be removed in v6.0.0. See https://github.com/optuna/optuna/releases/tag/v3.0.0. Use suggest_float instead.\n",
      "  \"gb__l2_regularization\":  trial.suggest_uniform(\"l2_regularization\", 0.0, 2.0)\n"
     ]
    },
    {
     "name": "stdout",
     "output_type": "stream",
     "text": [
      "[I 2025-07-06 18:19:47,831] Trial 191 finished with value: 0.7141356373874229 and parameters: {'learning_rate': 0.2658728005494734, 'max_leaf_nodes': 50, 'max_depth': 2, 'min_samples_leaf': 16, 'l2_regularization': 1.271590810969734}. Best is trial 179 with value: 0.71529199438663.\n"
     ]
    },
    {
     "name": "stderr",
     "output_type": "stream",
     "text": [
      "Best trial: 179. Best value: 0.715292:  96%|█████████▋| 193/200 [07:54<00:15,  2.15s/it]C:\\Users\\alexa\\AppData\\Local\\Temp\\ipykernel_72564\\1941495575.py:9: FutureWarning: suggest_loguniform has been deprecated in v3.0.0. This feature will be removed in v6.0.0. See https://github.com/optuna/optuna/releases/tag/v3.0.0. Use suggest_float(..., log=True) instead.\n",
      "  \"gb__learning_rate\":      trial.suggest_loguniform(\"learning_rate\", 1e-3, 0.3),\n",
      "C:\\Users\\alexa\\AppData\\Local\\Temp\\ipykernel_72564\\1941495575.py:13: FutureWarning: suggest_uniform has been deprecated in v3.0.0. This feature will be removed in v6.0.0. See https://github.com/optuna/optuna/releases/tag/v3.0.0. Use suggest_float instead.\n",
      "  \"gb__l2_regularization\":  trial.suggest_uniform(\"l2_regularization\", 0.0, 2.0)\n"
     ]
    },
    {
     "name": "stdout",
     "output_type": "stream",
     "text": [
      "[I 2025-07-06 18:19:50,178] Trial 192 finished with value: 0.7141868836018869 and parameters: {'learning_rate': 0.2661800945999463, 'max_leaf_nodes': 52, 'max_depth': 2, 'min_samples_leaf': 16, 'l2_regularization': 1.267422707657559}. Best is trial 179 with value: 0.71529199438663.\n"
     ]
    },
    {
     "name": "stderr",
     "output_type": "stream",
     "text": [
      "Best trial: 179. Best value: 0.715292:  97%|█████████▋| 194/200 [07:56<00:12,  2.03s/it]C:\\Users\\alexa\\AppData\\Local\\Temp\\ipykernel_72564\\1941495575.py:9: FutureWarning: suggest_loguniform has been deprecated in v3.0.0. This feature will be removed in v6.0.0. See https://github.com/optuna/optuna/releases/tag/v3.0.0. Use suggest_float(..., log=True) instead.\n",
      "  \"gb__learning_rate\":      trial.suggest_loguniform(\"learning_rate\", 1e-3, 0.3),\n",
      "C:\\Users\\alexa\\AppData\\Local\\Temp\\ipykernel_72564\\1941495575.py:13: FutureWarning: suggest_uniform has been deprecated in v3.0.0. This feature will be removed in v6.0.0. See https://github.com/optuna/optuna/releases/tag/v3.0.0. Use suggest_float instead.\n",
      "  \"gb__l2_regularization\":  trial.suggest_uniform(\"l2_regularization\", 0.0, 2.0)\n"
     ]
    },
    {
     "name": "stdout",
     "output_type": "stream",
     "text": [
      "[I 2025-07-06 18:19:51,941] Trial 193 finished with value: 0.7133857068697776 and parameters: {'learning_rate': 0.26516139320539966, 'max_leaf_nodes': 49, 'max_depth': 2, 'min_samples_leaf': 18, 'l2_regularization': 1.272970102443802}. Best is trial 179 with value: 0.71529199438663.\n"
     ]
    },
    {
     "name": "stderr",
     "output_type": "stream",
     "text": [
      "Best trial: 179. Best value: 0.715292:  98%|█████████▊| 195/200 [07:58<00:10,  2.12s/it]C:\\Users\\alexa\\AppData\\Local\\Temp\\ipykernel_72564\\1941495575.py:9: FutureWarning: suggest_loguniform has been deprecated in v3.0.0. This feature will be removed in v6.0.0. See https://github.com/optuna/optuna/releases/tag/v3.0.0. Use suggest_float(..., log=True) instead.\n",
      "  \"gb__learning_rate\":      trial.suggest_loguniform(\"learning_rate\", 1e-3, 0.3),\n",
      "C:\\Users\\alexa\\AppData\\Local\\Temp\\ipykernel_72564\\1941495575.py:13: FutureWarning: suggest_uniform has been deprecated in v3.0.0. This feature will be removed in v6.0.0. See https://github.com/optuna/optuna/releases/tag/v3.0.0. Use suggest_float instead.\n",
      "  \"gb__l2_regularization\":  trial.suggest_uniform(\"l2_regularization\", 0.0, 2.0)\n"
     ]
    },
    {
     "name": "stdout",
     "output_type": "stream",
     "text": [
      "[I 2025-07-06 18:19:54,249] Trial 194 finished with value: 0.7137636436786519 and parameters: {'learning_rate': 0.24036993956304917, 'max_leaf_nodes': 54, 'max_depth': 2, 'min_samples_leaf': 21, 'l2_regularization': 1.1564332846121106}. Best is trial 179 with value: 0.71529199438663.\n"
     ]
    },
    {
     "name": "stderr",
     "output_type": "stream",
     "text": [
      "Best trial: 179. Best value: 0.715292:  98%|█████████▊| 196/200 [08:00<00:08,  2.07s/it]C:\\Users\\alexa\\AppData\\Local\\Temp\\ipykernel_72564\\1941495575.py:9: FutureWarning: suggest_loguniform has been deprecated in v3.0.0. This feature will be removed in v6.0.0. See https://github.com/optuna/optuna/releases/tag/v3.0.0. Use suggest_float(..., log=True) instead.\n",
      "  \"gb__learning_rate\":      trial.suggest_loguniform(\"learning_rate\", 1e-3, 0.3),\n",
      "C:\\Users\\alexa\\AppData\\Local\\Temp\\ipykernel_72564\\1941495575.py:13: FutureWarning: suggest_uniform has been deprecated in v3.0.0. This feature will be removed in v6.0.0. See https://github.com/optuna/optuna/releases/tag/v3.0.0. Use suggest_float instead.\n",
      "  \"gb__l2_regularization\":  trial.suggest_uniform(\"l2_regularization\", 0.0, 2.0)\n"
     ]
    },
    {
     "name": "stdout",
     "output_type": "stream",
     "text": [
      "[I 2025-07-06 18:19:56,194] Trial 195 finished with value: 0.7134515279313576 and parameters: {'learning_rate': 0.26810434445626435, 'max_leaf_nodes': 43, 'max_depth': 2, 'min_samples_leaf': 17, 'l2_regularization': 1.2237124353217381}. Best is trial 179 with value: 0.71529199438663.\n"
     ]
    },
    {
     "name": "stderr",
     "output_type": "stream",
     "text": [
      "Best trial: 179. Best value: 0.715292:  98%|█████████▊| 197/200 [08:02<00:06,  2.09s/it]C:\\Users\\alexa\\AppData\\Local\\Temp\\ipykernel_72564\\1941495575.py:9: FutureWarning: suggest_loguniform has been deprecated in v3.0.0. This feature will be removed in v6.0.0. See https://github.com/optuna/optuna/releases/tag/v3.0.0. Use suggest_float(..., log=True) instead.\n",
      "  \"gb__learning_rate\":      trial.suggest_loguniform(\"learning_rate\", 1e-3, 0.3),\n",
      "C:\\Users\\alexa\\AppData\\Local\\Temp\\ipykernel_72564\\1941495575.py:13: FutureWarning: suggest_uniform has been deprecated in v3.0.0. This feature will be removed in v6.0.0. See https://github.com/optuna/optuna/releases/tag/v3.0.0. Use suggest_float instead.\n",
      "  \"gb__l2_regularization\":  trial.suggest_uniform(\"l2_regularization\", 0.0, 2.0)\n"
     ]
    },
    {
     "name": "stdout",
     "output_type": "stream",
     "text": [
      "[I 2025-07-06 18:19:58,334] Trial 196 finished with value: 0.7138518981437344 and parameters: {'learning_rate': 0.29703182158811137, 'max_leaf_nodes': 22, 'max_depth': 2, 'min_samples_leaf': 28, 'l2_regularization': 1.1984570882272927}. Best is trial 179 with value: 0.71529199438663.\n"
     ]
    },
    {
     "name": "stderr",
     "output_type": "stream",
     "text": [
      "Best trial: 179. Best value: 0.715292:  99%|█████████▉| 198/200 [08:05<00:04,  2.13s/it]C:\\Users\\alexa\\AppData\\Local\\Temp\\ipykernel_72564\\1941495575.py:9: FutureWarning: suggest_loguniform has been deprecated in v3.0.0. This feature will be removed in v6.0.0. See https://github.com/optuna/optuna/releases/tag/v3.0.0. Use suggest_float(..., log=True) instead.\n",
      "  \"gb__learning_rate\":      trial.suggest_loguniform(\"learning_rate\", 1e-3, 0.3),\n",
      "C:\\Users\\alexa\\AppData\\Local\\Temp\\ipykernel_72564\\1941495575.py:13: FutureWarning: suggest_uniform has been deprecated in v3.0.0. This feature will be removed in v6.0.0. See https://github.com/optuna/optuna/releases/tag/v3.0.0. Use suggest_float instead.\n",
      "  \"gb__l2_regularization\":  trial.suggest_uniform(\"l2_regularization\", 0.0, 2.0)\n"
     ]
    },
    {
     "name": "stdout",
     "output_type": "stream",
     "text": [
      "[I 2025-07-06 18:20:00,550] Trial 197 finished with value: 0.7135540460024907 and parameters: {'learning_rate': 0.2347589960230289, 'max_leaf_nodes': 48, 'max_depth': 2, 'min_samples_leaf': 10, 'l2_regularization': 1.268276459928251}. Best is trial 179 with value: 0.71529199438663.\n"
     ]
    },
    {
     "name": "stderr",
     "output_type": "stream",
     "text": [
      "Best trial: 179. Best value: 0.715292: 100%|█████████▉| 199/200 [08:07<00:02,  2.17s/it]C:\\Users\\alexa\\AppData\\Local\\Temp\\ipykernel_72564\\1941495575.py:9: FutureWarning: suggest_loguniform has been deprecated in v3.0.0. This feature will be removed in v6.0.0. See https://github.com/optuna/optuna/releases/tag/v3.0.0. Use suggest_float(..., log=True) instead.\n",
      "  \"gb__learning_rate\":      trial.suggest_loguniform(\"learning_rate\", 1e-3, 0.3),\n",
      "C:\\Users\\alexa\\AppData\\Local\\Temp\\ipykernel_72564\\1941495575.py:13: FutureWarning: suggest_uniform has been deprecated in v3.0.0. This feature will be removed in v6.0.0. See https://github.com/optuna/optuna/releases/tag/v3.0.0. Use suggest_float instead.\n",
      "  \"gb__l2_regularization\":  trial.suggest_uniform(\"l2_regularization\", 0.0, 2.0)\n"
     ]
    },
    {
     "name": "stdout",
     "output_type": "stream",
     "text": [
      "[I 2025-07-06 18:20:02,816] Trial 198 finished with value: 0.7142959725535738 and parameters: {'learning_rate': 0.26907605691004777, 'max_leaf_nodes': 28, 'max_depth': 2, 'min_samples_leaf': 24, 'l2_regularization': 1.3237804650654021}. Best is trial 179 with value: 0.71529199438663.\n"
     ]
    },
    {
     "name": "stderr",
     "output_type": "stream",
     "text": [
      "Best trial: 179. Best value: 0.715292: 100%|██████████| 200/200 [08:09<00:00,  2.45s/it]\n"
     ]
    },
    {
     "name": "stdout",
     "output_type": "stream",
     "text": [
      "[I 2025-07-06 18:20:05,084] Trial 199 finished with value: 0.713786512940519 and parameters: {'learning_rate': 0.2704216625404221, 'max_leaf_nodes': 28, 'max_depth': 2, 'min_samples_leaf': 24, 'l2_regularization': 1.3098653192976941}. Best is trial 179 with value: 0.71529199438663.\n"
     ]
    },
    {
     "data": {
      "text/html": [
       "<div>\n",
       "<style scoped>\n",
       "    .dataframe tbody tr th:only-of-type {\n",
       "        vertical-align: middle;\n",
       "    }\n",
       "\n",
       "    .dataframe tbody tr th {\n",
       "        vertical-align: top;\n",
       "    }\n",
       "\n",
       "    .dataframe thead th {\n",
       "        text-align: right;\n",
       "    }\n",
       "</style>\n",
       "<table border=\"1\" class=\"dataframe\">\n",
       "  <thead>\n",
       "    <tr style=\"text-align: right;\">\n",
       "      <th></th>\n",
       "      <th>trial</th>\n",
       "      <th>mean_f1</th>\n",
       "      <th>learning_rate</th>\n",
       "      <th>max_leaf_nodes</th>\n",
       "      <th>max_depth</th>\n",
       "      <th>min_samples_leaf</th>\n",
       "      <th>l2_regularization</th>\n",
       "    </tr>\n",
       "  </thead>\n",
       "  <tbody>\n",
       "    <tr>\n",
       "      <th>179</th>\n",
       "      <td>179</td>\n",
       "      <td>0.7153</td>\n",
       "      <td>0.292903</td>\n",
       "      <td>44</td>\n",
       "      <td>2</td>\n",
       "      <td>14</td>\n",
       "      <td>1.187083</td>\n",
       "    </tr>\n",
       "    <tr>\n",
       "      <th>171</th>\n",
       "      <td>171</td>\n",
       "      <td>0.7152</td>\n",
       "      <td>0.238593</td>\n",
       "      <td>24</td>\n",
       "      <td>2</td>\n",
       "      <td>14</td>\n",
       "      <td>1.444683</td>\n",
       "    </tr>\n",
       "    <tr>\n",
       "      <th>161</th>\n",
       "      <td>161</td>\n",
       "      <td>0.7147</td>\n",
       "      <td>0.270309</td>\n",
       "      <td>55</td>\n",
       "      <td>2</td>\n",
       "      <td>120</td>\n",
       "      <td>1.483353</td>\n",
       "    </tr>\n",
       "    <tr>\n",
       "      <th>162</th>\n",
       "      <td>162</td>\n",
       "      <td>0.7145</td>\n",
       "      <td>0.269274</td>\n",
       "      <td>51</td>\n",
       "      <td>2</td>\n",
       "      <td>123</td>\n",
       "      <td>1.441983</td>\n",
       "    </tr>\n",
       "    <tr>\n",
       "      <th>21</th>\n",
       "      <td>21</td>\n",
       "      <td>0.7145</td>\n",
       "      <td>0.131623</td>\n",
       "      <td>119</td>\n",
       "      <td>3</td>\n",
       "      <td>19</td>\n",
       "      <td>1.723787</td>\n",
       "    </tr>\n",
       "  </tbody>\n",
       "</table>\n",
       "</div>"
      ],
      "text/plain": [
       "     trial  mean_f1  learning_rate  max_leaf_nodes  max_depth  \\\n",
       "179    179   0.7153       0.292903              44          2   \n",
       "171    171   0.7152       0.238593              24          2   \n",
       "161    161   0.7147       0.270309              55          2   \n",
       "162    162   0.7145       0.269274              51          2   \n",
       "21      21   0.7145       0.131623             119          3   \n",
       "\n",
       "     min_samples_leaf  l2_regularization  \n",
       "179                14           1.187083  \n",
       "171                14           1.444683  \n",
       "161               120           1.483353  \n",
       "162               123           1.441983  \n",
       "21                 19           1.723787  "
      ]
     },
     "metadata": {},
     "output_type": "display_data"
    }
   ],
   "source": [
    "# Your code here\n",
    "\n",
    "# 1) Define 5-fold stratified CV (if not already)\n",
    "cv = StratifiedKFold(n_splits=5, shuffle=True, random_state=random_seed)\n",
    "\n",
    "# 2) Objective function for Optuna\n",
    "def objective(trial):\n",
    "    params = {\n",
    "        \"gb__learning_rate\":      trial.suggest_loguniform(\"learning_rate\", 1e-3, 0.3),\n",
    "        \"gb__max_leaf_nodes\":     trial.suggest_int(\"max_leaf_nodes\", 16, 256),\n",
    "        \"gb__max_depth\":          trial.suggest_int(\"max_depth\", 2, 10),\n",
    "        \"gb__min_samples_leaf\":   trial.suggest_int(\"min_samples_leaf\", 10, 200),\n",
    "        \"gb__l2_regularization\":  trial.suggest_uniform(\"l2_regularization\", 0.0, 2.0)\n",
    "    }\n",
    "    pipelined_model.set_params(**params)\n",
    "    scores = cross_val_score(pipelined_model, X, y, cv=cv, scoring=\"f1\", n_jobs=-1)\n",
    "    return scores.mean()\n",
    "\n",
    "# 4) Run Optuna study\n",
    "study = optuna.create_study(direction=\"maximize\")\n",
    "study.optimize(objective, n_trials=200, show_progress_bar=True)\n",
    "\n",
    "# 5) Display top 5 trials\n",
    "df_trials = study.trials_dataframe()\n",
    "df_top5 = df_trials.nlargest(5, \"value\").rename(columns={\n",
    "    \"number\": \"trial\",\n",
    "    \"value\": \"mean_f1\",\n",
    "    \"params_learning_rate\": \"learning_rate\",\n",
    "    \"params_max_leaf_nodes\": \"max_leaf_nodes\",\n",
    "    \"params_max_depth\": \"max_depth\",\n",
    "    \"params_min_samples_leaf\": \"min_samples_leaf\",\n",
    "    \"params_l2_regularization\": \"l2_regularization\"\n",
    "})\n",
    "df_top5[\"mean_f1\"] = df_top5[\"mean_f1\"].round(4)\n",
    "\n",
    "display(df_top5[[\n",
    "    \"trial\", \"mean_f1\",\n",
    "    \"learning_rate\", \"max_leaf_nodes\", \"max_depth\",\n",
    "    \"min_samples_leaf\", \"l2_regularization\"\n",
    "]])\n",
    "\n"
   ]
  },
  {
   "cell_type": "markdown",
   "metadata": {},
   "source": [
    "### Problem 3 Graded Answer\n",
    "\n",
    "Set `a3` to the mean F1 score of the best model found. "
   ]
  },
  {
   "cell_type": "code",
   "execution_count": 65,
   "metadata": {},
   "outputs": [],
   "source": [
    " # Your answer here\n",
    "\n",
    "a3 = 0.7153                    # replace 0 with your answer, may copy from the displayed results"
   ]
  },
  {
   "cell_type": "code",
   "execution_count": 66,
   "metadata": {},
   "outputs": [
    {
     "name": "stdout",
     "output_type": "stream",
     "text": [
      "a3 = 0.7153\n"
     ]
    }
   ],
   "source": [
    "# DO NOT change this cell in any way\n",
    "\n",
    "print(f'a3 = {a3:.4f}')"
   ]
  },
  {
   "cell_type": "markdown",
   "metadata": {},
   "source": [
    "## Problem 4: Final Model Evaluation on Test Set\n",
    "\n",
    "In this problem, you will take the best hyperparameter configuration you found in your earlier experiments (Randomized Search or Optuna) and fully evaluate the resulting model on the test set.\n",
    "\n",
    "**Background:**\n",
    "When performing hyperparameter tuning, we typically optimize for a single metric (e.g., F1). However, before deployment, it is essential to check **all relevant metrics** on the final test set to understand the model’s behavior in a balanced way.\n",
    "\n",
    "**Instructions:**\n",
    "\n",
    "1. Take the best hyperparameters you found in Problems 2 or 3 and apply them to your `pipelined_model`.\n",
    "2. Re-train this final tuned model on the **entire training set** (not just the folds).\n",
    "3. Evaluate the final model on the heldout **test set**, reporting the following metrics:\n",
    "\n",
    "   * Precision\n",
    "   * Recall\n",
    "   * F1 score\n",
    "   * Balanced accuracy\n",
    "4. Use `classification_report` **on the test set** to print precision, recall, and F1 score, and use `balanced_accuracy_score` separately to calculate and print balanced accuracy.\n",
    "5. Answer the graded questions.\n",
    "\n",
    "**Note:** We evaluate the metrics on the test set because it was never seen during training or hyperparameter tuning. This gives us an unbiased estimate of how the model will perform on truly unseen data. Evaluating on the training set would be misleading, because the model has already learned from that data and could appear artificially good.\n"
   ]
  },
  {
   "cell_type": "code",
   "execution_count": 67,
   "metadata": {},
   "outputs": [
    {
     "name": "stdout",
     "output_type": "stream",
     "text": [
      "=== Classification Report on Test Set ===\n",
      "              precision    recall  f1-score   support\n",
      "\n",
      "           0     0.9514    0.8247    0.8835      7431\n",
      "           1     0.6085    0.8661    0.7148      2338\n",
      "\n",
      "    accuracy                         0.8346      9769\n",
      "   macro avg     0.7799    0.8454    0.7991      9769\n",
      "weighted avg     0.8693    0.8346    0.8431      9769\n",
      "\n",
      "Balanced Accuracy on Test Set: 0.8454\n"
     ]
    }
   ],
   "source": [
    "# Your code here\n",
    "# 1) Rebuild the preprocessing + classifier pipeline with best params\n",
    "enc = OrdinalEncoder(\n",
    "    handle_unknown=\"use_encoded_value\",\n",
    "    unknown_value=-1,\n",
    "    encoded_missing_value=-2,\n",
    "    dtype=np.int64\n",
    ")\n",
    "preprocess = ColumnTransformer([\n",
    "    (\"cat\", enc, cat_cols),\n",
    "    (\"num\", \"passthrough\", num_cols),\n",
    "])\n",
    "\n",
    "best_hyperparams = {\n",
    "    \"learning_rate\":      0.292903,\n",
    "    \"max_leaf_nodes\":     44,\n",
    "    \"max_depth\":          2,\n",
    "    \"min_samples_leaf\":   14,\n",
    "    \"l2_regularization\":  1.187083\n",
    "}\n",
    "\n",
    "final_clf = HistGradientBoostingClassifier(\n",
    "    **best_hyperparams,\n",
    "    max_bins=255,\n",
    "    max_iter=500,\n",
    "    early_stopping=True,\n",
    "    n_iter_no_change=20,\n",
    "    validation_fraction=0.2,\n",
    "    tol=1e-7,\n",
    "    class_weight=\"balanced\",\n",
    "    random_state=random_seed,\n",
    "    verbose=0\n",
    ")\n",
    "\n",
    "final_pipe = Pipeline([\n",
    "    (\"prep\", preprocess),\n",
    "    (\"gb\",   final_clf)\n",
    "])\n",
    "\n",
    "# 2) Train on the entire training set\n",
    "final_pipe.fit(X_train, y_train)\n",
    "\n",
    "# 3) Predict on test set\n",
    "y_pred = final_pipe.predict(X_test)\n",
    "\n",
    "# 4) Report metrics\n",
    "print(\"=== Classification Report on Test Set ===\")\n",
    "print(classification_report(y_test, y_pred, digits=4))\n",
    "\n",
    "bal_acc = balanced_accuracy_score(y_test, y_pred)\n",
    "print(f\"Balanced Accuracy on Test Set: {bal_acc:.4f}\")\n"
   ]
  },
  {
   "cell_type": "markdown",
   "metadata": {},
   "source": [
    "### Problem 4 Graded Questions\n",
    "\n",
    "- Set `a4a` to the balanced accuracy score of the best model.\n",
    "- Set `a4b` to the macro average precision of this model.\n",
    "- Set `a4c` to the macro average recall score of the this model.\n",
    "\n",
    "**Note:** Macro average takes the mean of each class’s precision/recall without considering how many samples each class has, which is appropriate for a balanced evaluation."
   ]
  },
  {
   "cell_type": "code",
   "execution_count": 70,
   "metadata": {},
   "outputs": [],
   "source": [
    " # Your answer here\n",
    "\n",
    "a4a = 0.8454                     # replace 0 with your answer, use variable or expression from above"
   ]
  },
  {
   "cell_type": "code",
   "execution_count": 71,
   "metadata": {},
   "outputs": [
    {
     "name": "stdout",
     "output_type": "stream",
     "text": [
      "a4a = 0.8454\n"
     ]
    }
   ],
   "source": [
    "# DO NOT change this cell in any way\n",
    "\n",
    "print(f'a4a = {a4a:.4f}')"
   ]
  },
  {
   "cell_type": "code",
   "execution_count": 72,
   "metadata": {},
   "outputs": [],
   "source": [
    " # Your answer here\n",
    "\n",
    "a4b = 0.7799                  # replace 0 with your answer, may copy from the displayed results"
   ]
  },
  {
   "cell_type": "code",
   "execution_count": 73,
   "metadata": {},
   "outputs": [
    {
     "name": "stdout",
     "output_type": "stream",
     "text": [
      "a4b = 0.7799\n"
     ]
    }
   ],
   "source": [
    "# DO NOT change this cell in any way\n",
    "\n",
    "print(f'a4b = {a4b:.4f}')"
   ]
  },
  {
   "cell_type": "code",
   "execution_count": 74,
   "metadata": {},
   "outputs": [],
   "source": [
    " # Your answer here\n",
    "\n",
    "a4c = 0.8454                   # replace 0 with your answer, may copy from the displayed results"
   ]
  },
  {
   "cell_type": "code",
   "execution_count": 75,
   "metadata": {},
   "outputs": [
    {
     "name": "stdout",
     "output_type": "stream",
     "text": [
      "a4c = 0.8454\n"
     ]
    }
   ],
   "source": [
    "# DO NOT change this cell in any way\n",
    "\n",
    "print(f'a4c = {a4c:.4f}')"
   ]
  },
  {
   "cell_type": "markdown",
   "metadata": {},
   "source": [
    "## Problem 5: Understanding Precision, Recall, F1, and Balanced Accuracy\n",
    "\n",
    "**Tutorial**\n",
    "\n",
    "In binary classification, you will often evaluate these key metrics:\n",
    "\n",
    "* **Precision**: *Of all the positive predictions the model made, how many were actually correct?*\n",
    "\n",
    "  * High precision = few false positives\n",
    "  * Low precision = many false positives\n",
    "\n",
    "* **Recall**: *Of all the actual positive cases, how many did the model correctly identify?*\n",
    "\n",
    "  * High recall = few false negatives\n",
    "  * Low recall = many false negatives\n",
    "\n",
    "* **F1 score**: The harmonic mean of precision and recall, which balances them in a single measure.\n",
    "\n",
    "  * F1 is **highest** when precision and recall are both high and similar in value.\n",
    "  * If precision and recall are unbalanced, F1 will drop to reflect that imbalance.\n",
    "\n",
    "* **Balanced accuracy**: The average of recall across both classes (positive and negative).\n",
    "\n",
    "  * It ensures the classifier is performing reasonably well on *both* groups, correcting for class imbalance.\n",
    "  * Balanced accuracy is especially important if the classes are very unequal in size.\n",
    "\n",
    "**Typical trade-offs to remember:**\n",
    "\n",
    "* **Higher recall, lower precision**: the model finds most true positives but also mislabels some negatives as positives\n",
    "* **Higher precision, lower recall**: the model is strict about positive predictions, but misses some true positives\n",
    "* **Balanced precision and recall (good F1)**: a practical compromise\n",
    "* **Balanced accuracy**: checks fairness across both classes"
   ]
  },
  {
   "cell_type": "markdown",
   "metadata": {},
   "source": [
    "###  Problem 5 Graded Question (multiple choice)\n",
    "\n",
    "A bank uses your model to identify customers earning over $50K for a premium product invitation. Based on your final test set evaluation, including macro-averaged precision and recall, which of the following best describes what might happen?\n",
    "\n",
    "(1) The bank will miss some eligible high-income customers, but will avoid marketing mistakes by sending invitations only to those it is  confident about.\n",
    "\n",
    "(2) The bank will successfully reach most high-income customers, but will also waste resources sending invitations to some low-income customers.\n",
    "\n",
    "(3) The bank will perfectly identify all high-income and low-income customers, resulting in no wasted invitations and no missed opportunities.\n"
   ]
  },
  {
   "cell_type": "code",
   "execution_count": 76,
   "metadata": {},
   "outputs": [],
   "source": [
    " # Your answer here\n",
    "\n",
    "a5 = 2                     # replace 0 with one of 1, 2, or 3"
   ]
  },
  {
   "cell_type": "code",
   "execution_count": 77,
   "metadata": {},
   "outputs": [
    {
     "name": "stdout",
     "output_type": "stream",
     "text": [
      "a5 = 2\n"
     ]
    }
   ],
   "source": [
    "# DO NOT change this cell in any way\n",
    "\n",
    "print(f'a5 = {a5}')"
   ]
  },
  {
   "cell_type": "markdown",
   "metadata": {},
   "source": [
    "### Appendix One: Feature Engineering\n",
    "\n",
    "Here are some practical feature-engineering tweaks worth considering (beyond simply ordinal-encoding the categoricals)\n",
    "\n",
    "| Feature(s)                                                           | Why the tweak can help                                                                                                                                                     | How to do it (quick version)                                                                                                                                                    | Keep / drop?      |\n",
    "| -------------------------------------------------------------------- | -------------------------------------------------------------------------------------------------------------------------------------------------------------------------- | ------------------------------------------------------------------------------------------------------------------------------------------------------------------------------- | ----------------- |\n",
    "| **`fnlwgt`**                                                         | Survey sampling weight, not a predictor. Leaving it in often lets the model “cheat.”                                                                                       | `df = df.drop(columns=[\"fnlwgt\"])`                                                                                                                                              | **Drop**          |\n",
    "| **`education` *vs.* `education-num`**                                | They encode the **same** information twice (categorical label and its ordinal rank). Keeping both is redundant and can cause leakage of a perfectly predictive feature.    | Usually keep **only one**. For tree models `education-num` is simplest: `df = df.drop(columns=[\"education\"])`                                                                   | **Drop one**      |\n",
    "| **`capital-gain`, `capital-loss`**                                   | Highly skewed; most values are zero with a long upper tail. The sign (gain vs. loss) matters, but treating them separately wastes a feature slot.                          | 1) Combine: `df[\"capital_net\"] = df[\"capital-gain\"] - df[\"capital-loss\"]`; 2) Log-transform to reduce skew: `df[\"capital_net_log\"] = np.log1p(df[\"capital_net\"].clip(lower=0))` | Replace originals |\n",
    "| **`age`, `hours-per-week`**                                          | Continuous but with natural plateaus—trees handle splits fine, yet log or square-root scaling can soften extreme values; bucketing makes partial-dependence plots clearer. | Simple bucket: `df[\"age_bin\"] = pd.cut(df[\"age\"], bins=[16,25,35,45,55,65,90])` (optional)                                                                                      | Optional          |\n",
    "| **Missing categories** (`workclass`, `occupation`, `native-country`) | HGB handles `-1`/`-2` codes fine, but you may want *explicit* “Missing” bucket for interpretability.                                                                       | Use `encoded_missing_value=-2` during encoding.                                                                                                            | Keep as is        |\n",
    "| **Rare categories in `native-country`**                              | Hundreds of low-frequency countries dilute signal; grouping boosts stability.                                                                                              | Map infrequent categories to “Other”:                                                                                                                                           |                   |\n",
    "\n",
    "\n",
    "#### Minimum set of tweaks (good baseline, low effort)\n",
    "\n",
    "1. **Drop `fnlwgt`.**  \n",
    "2. **Keep `education-num`, drop `education`.**  \n",
    "3. **Combine `capital-gain` and `capital-loss` into `capital_net`** (optionally add a log-scaled version).  \n",
    "4. Leave other numeric/categorical features as is; your histogram-GBDT will cope.\n",
    "\n",
    "\n"
   ]
  }
 ],
 "metadata": {
  "kernelspec": {
   "display_name": "Python 3",
   "language": "python",
   "name": "python3"
  },
  "language_info": {
   "codemirror_mode": {
    "name": "ipython",
    "version": 3
   },
   "file_extension": ".py",
   "mimetype": "text/x-python",
   "name": "python",
   "nbconvert_exporter": "python",
   "pygments_lexer": "ipython3",
   "version": "3.13.5"
  }
 },
 "nbformat": 4,
 "nbformat_minor": 4
}
